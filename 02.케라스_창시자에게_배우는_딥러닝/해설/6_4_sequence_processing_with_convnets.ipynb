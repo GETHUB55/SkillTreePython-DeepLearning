{
  "cells": [
    {
      "cell_type": "markdown",
      "metadata": {
        "id": "view-in-github",
        "colab_type": "text"
      },
      "source": [
        "<a href=\"https://colab.research.google.com/github/yebiny/SkillTreePython-DeepLearning/blob/main/02.%EC%BC%80%EB%9D%BC%EC%8A%A4_%EC%B0%BD%EC%8B%9C%EC%9E%90%EC%97%90%EA%B2%8C_%EB%B0%B0%EC%9A%B0%EB%8A%94_%EB%94%A5%EB%9F%AC%EB%8B%9D/%ED%95%B4%EC%84%A4/6_4_sequence_processing_with_convnets.ipynb\" target=\"_parent\"><img src=\"https://colab.research.google.com/assets/colab-badge.svg\" alt=\"Open In Colab\"/></a>"
      ]
    },
    {
      "cell_type": "markdown",
      "source": [
        "# 세팅\n",
        "---"
      ],
      "metadata": {
        "id": "16m7QEsKlcQW"
      }
    },
    {
      "cell_type": "markdown",
      "source": [
        "```\n",
        "! git clone https://github.com/yebiny/SkillTreePython-DeepLearning\n",
        "```"
      ],
      "metadata": {
        "id": "r6RjNGnQY3wc"
      }
    },
    {
      "cell_type": "code",
      "execution_count": 1,
      "metadata": {
        "id": "lqjonRF6KbGY",
        "outputId": "83173330-4007-4610-fef9-43a47f06f8a4",
        "colab": {
          "base_uri": "https://localhost:8080/"
        }
      },
      "outputs": [
        {
          "output_type": "stream",
          "name": "stdout",
          "text": [
            "Cloning into 'SkillTreePython-DeepLearning'...\n",
            "remote: Enumerating objects: 794, done.\u001b[K\n",
            "remote: Counting objects: 100% (367/367), done.\u001b[K\n",
            "remote: Compressing objects: 100% (179/179), done.\u001b[K\n",
            "remote: Total 794 (delta 222), reused 315 (delta 187), pack-reused 427\u001b[K\n",
            "Receiving objects: 100% (794/794), 41.83 MiB | 7.89 MiB/s, done.\n",
            "Resolving deltas: 100% (415/415), done.\n"
          ]
        }
      ],
      "source": [
        "! git clone https://github.com/yebiny/SkillTreePython-DeepLearning"
      ]
    },
    {
      "cell_type": "markdown",
      "source": [
        "```\n",
        "import sys\n",
        "sys.path.append('/content/SkillTreePython-DeepLearning/scripts')\n",
        "from import_lib import *\n",
        "from plot_result import *\n",
        "```"
      ],
      "metadata": {
        "id": "iDliBVhLlYiY"
      }
    },
    {
      "cell_type": "code",
      "source": [
        "import sys\n",
        "sys.path.append('/content/SkillTreePython-DeepLearning/scripts')\n",
        "from import_lib import *\n",
        "from plot_result import *"
      ],
      "metadata": {
        "id": "InMFlAq4Xwge"
      },
      "execution_count": 2,
      "outputs": []
    },
    {
      "cell_type": "markdown",
      "metadata": {
        "id": "t-vYBogEYVEf"
      },
      "source": [
        "# 컨브넷을 사용한 시퀀스 처리\n",
        "\n",
        "이 노트북은 [케라스 창시자에게 배우는 딥러닝](https://tensorflow.blog/%EC%BC%80%EB%9D%BC%EC%8A%A4-%EB%94%A5%EB%9F%AC%EB%8B%9D/) 책의 6장 4절의 코드 예제입니다. 책에는 더 많은 내용과 그림이 있습니다. 이 노트북에는 소스 코드에 관련된 설명만 포함합니다.\n",
        "\n",
        "\n",
        "## 1D 컨브넷 구현\n",
        "\n",
        "케라스에서 1D 컨브넷은 `Conv1D` 층을 사용하여 구현합니다. `Conv1D`는 `Conv2D`와 인터페이스가 비슷합니다. `(samples, time, features)` 크기의 3D 텐서를 입력받고 비슷한 형태의 3D 텐서를 반환합니다. 합성곱 윈도우는 시간 축의 1D 윈도우입니다. 즉, 입력 텐서의 두 번째 축입니다.\n",
        "\n",
        "간단한 두 개 층으로 된 1D 컨브넷을 만들어 익숙한 IMDB 감성 분류 문제에 적용해 보죠.\n",
        "\n",
        "기억을 되살리기 위해 데이터를 로드하고 전처리하는 코드를 다시 보겠습니다:"
      ]
    },
    {
      "cell_type": "code",
      "execution_count": 3,
      "metadata": {
        "id": "O5SQypsoYVEg",
        "outputId": "8de61111-bff9-4edd-850f-ba45946594b7",
        "colab": {
          "base_uri": "https://localhost:8080/"
        }
      },
      "outputs": [
        {
          "output_type": "stream",
          "name": "stdout",
          "text": [
            "데이터 로드...\n",
            "Downloading data from https://storage.googleapis.com/tensorflow/tf-keras-datasets/imdb.npz\n",
            "17465344/17464789 [==============================] - 0s 0us/step\n",
            "17473536/17464789 [==============================] - 0s 0us/step\n",
            "25000 훈련 시퀀스\n",
            "25000 테스트 시퀀스\n",
            "시퀀스 패딩 (samples x time)\n",
            "x_train 크기: (25000, 500)\n",
            "x_test 크기: (25000, 500)\n"
          ]
        }
      ],
      "source": [
        "max_features = 10000  # 특성으로 사용할 단어의 수\n",
        "max_len = 500  # 사용할 텍스트의 길이(가장 빈번한 max_features 개의 단어만 사용합니다)\n",
        "\n",
        "imdb = tf.keras.datasets.imdb\n",
        "print('데이터 로드...')\n",
        "(x_train, y_train), (x_test, y_test) = imdb.load_data(num_words=max_features)\n",
        "print(len(x_train), '훈련 시퀀스')\n",
        "print(len(x_test), '테스트 시퀀스')\n",
        "\n",
        "print('시퀀스 패딩 (samples x time)')\n",
        "x_train = preprocessing.sequence.pad_sequences(x_train, maxlen=max_len)\n",
        "x_test = preprocessing.sequence.pad_sequences(x_test, maxlen=max_len)\n",
        "print('x_train 크기:', x_train.shape)\n",
        "print('x_test 크기:', x_test.shape)"
      ]
    },
    {
      "cell_type": "markdown",
      "metadata": {
        "id": "I0ZzgHdlYVEh"
      },
      "source": [
        "1D 컨브넷은 5장에서 사용한 2D 컨브넷과 비슷한 방식으로 구성합니다. `Conv1D`와 `MaxPooling1D` 층을 쌓고 전역 풀링 층이나 `Flatten` 층으로 마칩니다. 이 구조는 3D 입력을 2D 출력으로 바꾸므로 분류나 회귀를 위해 모델에 하나 이상의 `Dense` 층을 추가할 수 있습니다.\n",
        "\n",
        "한 가지 다른 점은 1D 컨브넷에 큰 합성곱 윈도우를 사용할 수 있다는 것입니다. 2D 합성곱 층에서 3 × 3 합성곱 윈도우는 3 × 3 = 9 특성을 고려합니다. 하지만 1D 합성곱 층에서 크기 3인 합성곱 윈도우는 3개의 특성만 고려합니다. 그래서 1D 합성곱에 크기 7이나 9의 윈도우를 사용할 수 있습니다.\n",
        "\n",
        "다음은 IMDB 데이터셋을 위한 1D 컨브넷의 예입니다:"
      ]
    },
    {
      "cell_type": "code",
      "execution_count": 8,
      "metadata": {
        "id": "XgCE247VYVEi",
        "outputId": "f9813347-9560-49dc-b328-86a233314f22",
        "colab": {
          "base_uri": "https://localhost:8080/"
        }
      },
      "outputs": [
        {
          "output_type": "stream",
          "name": "stdout",
          "text": [
            "Model: \"model_2\"\n",
            "_________________________________________________________________\n",
            " Layer (type)                Output Shape              Param #   \n",
            "=================================================================\n",
            " input_3 (InputLayer)        [(None, 500)]             0         \n",
            "                                                                 \n",
            " embedding_3 (Embedding)     (None, 500, 128)          1280000   \n",
            "                                                                 \n",
            " conv1d_4 (Conv1D)           (None, 494, 32)           28704     \n",
            "                                                                 \n",
            " max_pooling1d_1 (MaxPooling  (None, 98, 32)           0         \n",
            " 1D)                                                             \n",
            "                                                                 \n",
            " conv1d_5 (Conv1D)           (None, 92, 32)            7200      \n",
            "                                                                 \n",
            " global_average_pooling1d_1   (None, 32)               0         \n",
            " (GlobalAveragePooling1D)                                        \n",
            "                                                                 \n",
            " dense_1 (Dense)             (None, 1)                 33        \n",
            "                                                                 \n",
            "=================================================================\n",
            "Total params: 1,315,937\n",
            "Trainable params: 1,315,937\n",
            "Non-trainable params: 0\n",
            "_________________________________________________________________\n"
          ]
        }
      ],
      "source": [
        "x = layers.Input(shape=(max_len,))\n",
        "y = layers.Embedding(max_features, 128)(x)\n",
        "y = layers.Conv1D(32, 7, activation='relu')(y)\n",
        "y = layers.MaxPool1D(5)(y)\n",
        "y = layers.Conv1D(32, 7, activation='relu')(y)\n",
        "y = layers.GlobalAveragePooling1D()(y)\n",
        "y = layers.Dense(1, activation='sigmoid')(y) # 긍정/부정 클래스 예측\n",
        "\n",
        "model = models.Model(x,y)\n",
        "model.summary()"
      ]
    },
    {
      "cell_type": "code",
      "source": [
        "model.compile(optimizer=tf.keras.optimizers.RMSprop(learning_rate=1e-4),\n",
        "              loss = 'binary_crossentropy',\n",
        "              metrics=['acc']\n",
        "              )\n",
        "history = model.fit(x_train, y_train,\n",
        "                    epochs=20, \n",
        "                    batch_size=128,\n",
        "                    validation_data=(x_test, y_test))\n",
        "plot_lcurve([history],['conv1d'], ['dodgerblue'], x_itv=5)"
      ],
      "metadata": {
        "id": "SsIeaBCfIJZc",
        "outputId": "a5011fda-448c-4fc4-bc7a-d8436490e7d3",
        "colab": {
          "base_uri": "https://localhost:8080/",
          "height": 1000
        }
      },
      "execution_count": 9,
      "outputs": [
        {
          "output_type": "stream",
          "name": "stdout",
          "text": [
            "Epoch 1/20\n",
            "196/196 [==============================] - 14s 13ms/step - loss: 0.6903 - acc: 0.5627 - val_loss: 0.6835 - val_acc: 0.6929\n",
            "Epoch 2/20\n",
            "196/196 [==============================] - 2s 12ms/step - loss: 0.6565 - acc: 0.7245 - val_loss: 0.6230 - val_acc: 0.7669\n",
            "Epoch 3/20\n",
            "196/196 [==============================] - 2s 11ms/step - loss: 0.5533 - acc: 0.8132 - val_loss: 0.5028 - val_acc: 0.8216\n",
            "Epoch 4/20\n",
            "196/196 [==============================] - 2s 12ms/step - loss: 0.4293 - acc: 0.8530 - val_loss: 0.4109 - val_acc: 0.8468\n",
            "Epoch 5/20\n",
            "196/196 [==============================] - 2s 12ms/step - loss: 0.3522 - acc: 0.8760 - val_loss: 0.3637 - val_acc: 0.8624\n",
            "Epoch 6/20\n",
            "196/196 [==============================] - 2s 12ms/step - loss: 0.3074 - acc: 0.8893 - val_loss: 0.3428 - val_acc: 0.8667\n",
            "Epoch 7/20\n",
            "196/196 [==============================] - 2s 11ms/step - loss: 0.2786 - acc: 0.8991 - val_loss: 0.3259 - val_acc: 0.8725\n",
            "Epoch 8/20\n",
            "196/196 [==============================] - 2s 12ms/step - loss: 0.2576 - acc: 0.9076 - val_loss: 0.3175 - val_acc: 0.8757\n",
            "Epoch 9/20\n",
            "196/196 [==============================] - 2s 11ms/step - loss: 0.2406 - acc: 0.9138 - val_loss: 0.3136 - val_acc: 0.8769\n",
            "Epoch 10/20\n",
            "196/196 [==============================] - 2s 11ms/step - loss: 0.2272 - acc: 0.9177 - val_loss: 0.3121 - val_acc: 0.8770\n",
            "Epoch 11/20\n",
            "196/196 [==============================] - 2s 12ms/step - loss: 0.2148 - acc: 0.9230 - val_loss: 0.3128 - val_acc: 0.8760\n",
            "Epoch 12/20\n",
            "196/196 [==============================] - 2s 12ms/step - loss: 0.2044 - acc: 0.9278 - val_loss: 0.3198 - val_acc: 0.8738\n",
            "Epoch 13/20\n",
            "196/196 [==============================] - 2s 11ms/step - loss: 0.1951 - acc: 0.9314 - val_loss: 0.3207 - val_acc: 0.8734\n",
            "Epoch 14/20\n",
            "196/196 [==============================] - 2s 11ms/step - loss: 0.1869 - acc: 0.9355 - val_loss: 0.3260 - val_acc: 0.8726\n",
            "Epoch 15/20\n",
            "196/196 [==============================] - 2s 12ms/step - loss: 0.1793 - acc: 0.9385 - val_loss: 0.3382 - val_acc: 0.8710\n",
            "Epoch 16/20\n",
            "196/196 [==============================] - 2s 12ms/step - loss: 0.1727 - acc: 0.9406 - val_loss: 0.3354 - val_acc: 0.8713\n",
            "Epoch 17/20\n",
            "196/196 [==============================] - 2s 11ms/step - loss: 0.1661 - acc: 0.9428 - val_loss: 0.3368 - val_acc: 0.8725\n",
            "Epoch 18/20\n",
            "196/196 [==============================] - 2s 11ms/step - loss: 0.1607 - acc: 0.9448 - val_loss: 0.3579 - val_acc: 0.8669\n",
            "Epoch 19/20\n",
            "196/196 [==============================] - 2s 12ms/step - loss: 0.1551 - acc: 0.9476 - val_loss: 0.3508 - val_acc: 0.8691\n",
            "Epoch 20/20\n",
            "196/196 [==============================] - 2s 11ms/step - loss: 0.1503 - acc: 0.9484 - val_loss: 0.3602 - val_acc: 0.8669\n"
          ]
        },
        {
          "output_type": "display_data",
          "data": {
            "text/plain": [
              "<Figure size 864x288 with 2 Axes>"
            ],
            "image/png": "[encoded data removed]"
          },
          "metadata": {
            "needs_background": "light"
          }
        }
      ]
    },
    {
      "cell_type": "markdown",
      "metadata": {
        "id": "7h3UU5eRYVEi"
      },
      "source": [
        "그림 6-27과 6-28은 훈련과 검증 결과를 보여줍니다. 검증 정확도는 LSTM보다 조금 낮지만 CPU나 GPU에서 더 빠르게 실행됩니다(속도 향상은 환경에 따라 많이 다릅니다). 여기에서 적절한 에포크 수(4개)로 모델을 다시 훈련하고 테스트 세트에서 확인할 수 있습니다. 이 예는 단어 수준의 감성 분류 작업에 순환 네트워크를 대신하여 빠르고 경제적인 1D 컨브넷을 사용할 수 있음을 보여줍니다."
      ]
    },
    {
      "cell_type": "markdown",
      "metadata": {
        "id": "AwQcgStyYVEk"
      },
      "source": [
        "## CNN과 RNN을 연결하여 긴 시퀀스를 처리하기\n",
        "\n",
        "1D 컨브넷이 입력 패치를 독립적으로 처리하기 때문에 RNN과 달리 (합성곱 윈도우 크기의 범위를 넘어선) 타임스텝의 순서에 민감하지 않습니다. 물론 장기간 패턴을 인식하기 위해 많은 합성곱 층과 풀링 층을 쌓을 수 있습니다. 상위 층은 원본 입력에서 긴 범위를 보게 될 것입니다. 이런 방법은 순서를 감지하기엔 부족합니다. 온도 예측 문제에 1D 컨브넷을 적용하여 이를 확인해 보겠습니다. 이 문제는 순서를 감지해야 좋은 예측을 만들어 낼 수 있습니다. 다음은 이전에 정의한 float_data, train_gen, val_gen, val_steps를 다시 사용합니다:"
      ]
    },
    {
      "cell_type": "markdown",
      "metadata": {
        "id": "P1AoQ3LlYVEm"
      },
      "source": [
        "이 기법이 연구 논문이나 실전 애플리케이션에 자주 등장하지는 않습니다. 아마도 널리 알려지지 않았기 때문일 것입니다. 이 방법은 효과적이므로 많이 사용되기를 바랍니다. 온도 예측 문제에 적용해 보죠. 이 전략은 훨씬 긴 시퀀스를 다룰 수 있으므로 더 오래전 데이터를 바라보거나(데이터 제너레이터의 `lookback` 매개변수를 증가시킵니다), 시계열 데이터를 더 촘촘히 바라볼 수 있습니다(제너레이터의 `step` 매개변수를 감소시킵니다). 여기서는 그냥 `step`을 절반으로 줄여서 사용하겠습니다. 온도 데이터가 30분마다 1 포인트씩 샘플링되기 때문에 결과 시계열 데이터는 두 배로 길어집니다. 앞서 정의한 제너레이터 함수를 다시 사용합니다."
      ]
    },
    {
      "cell_type": "markdown",
      "metadata": {
        "id": "DnL6DVjTYVEn"
      },
      "source": [
        "이 모델은 두 개의 `Conv1D` 층 다음에 `GRU` 층을 놓았습니다:"
      ]
    },
    {
      "cell_type": "code",
      "execution_count": 13,
      "metadata": {
        "id": "BqI8oWI6YVEn",
        "outputId": "a78752da-c569-4cfd-95b9-6617f329a205",
        "colab": {
          "base_uri": "https://localhost:8080/",
          "height": 1000
        }
      },
      "outputs": [
        {
          "output_type": "stream",
          "name": "stdout",
          "text": [
            "Model: \"model_5\"\n",
            "_________________________________________________________________\n",
            " Layer (type)                Output Shape              Param #   \n",
            "=================================================================\n",
            " input_7 (InputLayer)        [(None, 500)]             0         \n",
            "                                                                 \n",
            " embedding_6 (Embedding)     (None, 500, 128)          1280000   \n",
            "                                                                 \n",
            " conv1d_11 (Conv1D)          (None, 494, 32)           28704     \n",
            "                                                                 \n",
            " max_pooling1d_4 (MaxPooling  (None, 98, 32)           0         \n",
            " 1D)                                                             \n",
            "                                                                 \n",
            " conv1d_12 (Conv1D)          (None, 92, 32)            7200      \n",
            "                                                                 \n",
            " gru_1 (GRU)                 (None, 32)                6336      \n",
            "                                                                 \n",
            " dense_4 (Dense)             (None, 1)                 33        \n",
            "                                                                 \n",
            "=================================================================\n",
            "Total params: 1,322,273\n",
            "Trainable params: 1,322,273\n",
            "Non-trainable params: 0\n",
            "_________________________________________________________________\n",
            "Epoch 1/20\n",
            "196/196 [==============================] - 7s 21ms/step - loss: 0.6916 - acc: 0.5374 - val_loss: 0.6879 - val_acc: 0.6283\n",
            "Epoch 2/20\n",
            "196/196 [==============================] - 4s 19ms/step - loss: 0.6630 - acc: 0.6665 - val_loss: 0.6219 - val_acc: 0.7000\n",
            "Epoch 3/20\n",
            "196/196 [==============================] - 3s 17ms/step - loss: 0.5285 - acc: 0.7572 - val_loss: 0.4613 - val_acc: 0.7854\n",
            "Epoch 4/20\n",
            "196/196 [==============================] - 3s 16ms/step - loss: 0.3662 - acc: 0.8416 - val_loss: 0.3687 - val_acc: 0.8393\n",
            "Epoch 5/20\n",
            "196/196 [==============================] - 4s 19ms/step - loss: 0.2802 - acc: 0.8857 - val_loss: 0.3743 - val_acc: 0.8422\n",
            "Epoch 6/20\n",
            "196/196 [==============================] - 4s 19ms/step - loss: 0.2368 - acc: 0.9087 - val_loss: 0.3741 - val_acc: 0.8411\n",
            "Epoch 7/20\n",
            "196/196 [==============================] - 4s 19ms/step - loss: 0.2060 - acc: 0.9215 - val_loss: 0.3212 - val_acc: 0.8659\n",
            "Epoch 8/20\n",
            "196/196 [==============================] - 4s 19ms/step - loss: 0.1802 - acc: 0.9340 - val_loss: 0.3446 - val_acc: 0.8574\n",
            "Epoch 9/20\n",
            "196/196 [==============================] - 3s 17ms/step - loss: 0.1589 - acc: 0.9436 - val_loss: 0.3755 - val_acc: 0.8483\n",
            "Epoch 10/20\n",
            "196/196 [==============================] - 3s 16ms/step - loss: 0.1391 - acc: 0.9514 - val_loss: 0.3610 - val_acc: 0.8611\n",
            "Epoch 11/20\n",
            "196/196 [==============================] - 4s 19ms/step - loss: 0.1234 - acc: 0.9582 - val_loss: 0.3586 - val_acc: 0.8613\n",
            "Epoch 12/20\n",
            "196/196 [==============================] - 4s 19ms/step - loss: 0.1075 - acc: 0.9653 - val_loss: 0.3897 - val_acc: 0.8566\n",
            "Epoch 13/20\n",
            "196/196 [==============================] - 4s 19ms/step - loss: 0.0963 - acc: 0.9685 - val_loss: 0.4263 - val_acc: 0.8481\n",
            "Epoch 14/20\n",
            "196/196 [==============================] - 3s 17ms/step - loss: 0.0840 - acc: 0.9735 - val_loss: 0.4200 - val_acc: 0.8550\n",
            "Epoch 15/20\n",
            "196/196 [==============================] - 3s 17ms/step - loss: 0.0736 - acc: 0.9769 - val_loss: 0.4351 - val_acc: 0.8547\n",
            "Epoch 16/20\n",
            "196/196 [==============================] - 3s 16ms/step - loss: 0.0622 - acc: 0.9824 - val_loss: 0.4611 - val_acc: 0.8506\n",
            "Epoch 17/20\n",
            "196/196 [==============================] - 3s 16ms/step - loss: 0.0547 - acc: 0.9846 - val_loss: 0.5359 - val_acc: 0.8397\n",
            "Epoch 18/20\n",
            "196/196 [==============================] - 3s 16ms/step - loss: 0.0458 - acc: 0.9873 - val_loss: 0.5023 - val_acc: 0.8480\n",
            "Epoch 19/20\n",
            "196/196 [==============================] - 4s 19ms/step - loss: 0.0383 - acc: 0.9903 - val_loss: 0.5613 - val_acc: 0.8428\n",
            "Epoch 20/20\n",
            "196/196 [==============================] - 4s 19ms/step - loss: 0.0326 - acc: 0.9918 - val_loss: 0.5489 - val_acc: 0.8446\n"
          ]
        },
        {
          "output_type": "display_data",
          "data": {
            "text/plain": [
              "<Figure size 864x288 with 2 Axes>"
            ],
            "image/png": "[encoded data removed]"
          },
          "metadata": {
            "needs_background": "light"
          }
        }
      ],
      "source": [
        "x = layers.Input(shape=(max_len,))\n",
        "y = layers.Embedding(max_features, 128)(x)\n",
        "y = layers.Conv1D(32, 7, activation='relu')(y)\n",
        "y = layers.MaxPool1D(5)(y)\n",
        "y = layers.Conv1D(32, 7, activation='relu')(y)\n",
        "y = layers.GRU(32, dropout=0.2)(y)\n",
        "y = layers.Dense(1, activation='sigmoid')(y) # 긍정/부정 클래스 예측\n",
        "\n",
        "model = models.Model(x,y)\n",
        "model.summary()\n",
        "\n",
        "model.compile(optimizer=tf.keras.optimizers.RMSprop(learning_rate=1e-4),\n",
        "              loss = 'binary_crossentropy',\n",
        "              metrics=['acc']\n",
        "              )\n",
        "history = model.fit(x_train, y_train,\n",
        "                    epochs=20, \n",
        "                    batch_size=128,\n",
        "                    validation_data=(x_test, y_test))\n",
        "plot_lcurve([history],['conv1d+gru'], ['dodgerblue'], x_itv=5)"
      ]
    },
    {
      "cell_type": "markdown",
      "metadata": {
        "id": "iBcUywmIYVEo"
      },
      "source": [
        "검증 손실로 비교해 보면 이 설정은 규제가 있는 GRU 모델만큼 좋지는 않습니다. 하지만 훨씬 빠르기 때문에 데이터를 두 배 더 많이 처리할 수 있습니다. 여기서는 큰 도움이 안 되었지만 다른 데이터셋에서는 중요할 수 있습니다."
      ]
    },
    {
      "cell_type": "markdown",
      "metadata": {
        "id": "GGnuZYu7YVEo"
      },
      "source": [
        "## 정리\n",
        "\n",
        "다음은 이번 절에서 배운 것들입니다.\n",
        "\n",
        "* 2D 컨브넷이 2D 공간의 시각적 패턴을 잘 처리하는 것과 같이 1D 컨브넷은 시간에 따른 패턴을 잘 처리합니다. 1D 컨브넷은 특정 자연어 처리 같은 일부 문제에 RNN을 대신할 수 있는 빠른 모델입니다.\n",
        "* 전형적으로 1D 컨브넷은 컴퓨터 비전 분야의 2D 컨브넷과 비슷하게 구성합니다. `Conv1D` 층과 `Max-Pooling1D` 층을 쌓고 마지막에 전역 풀링 연산이나 `Flatten` 층을 둡니다.\n",
        "* RNN으로 아주 긴 시퀀스를 처리하려면 계산 비용이 많이 듭니다. 1D 컨브넷은 비용이 적게 듭니다. 따라서 1D 컨브넷을 RNN 이전의 전처리 단계로 사용하는 것은 좋은 생각입니다. 시퀀스 길이를 줄이고 RNN이 처리할 유용한 표현을 추출해 줄 것입니다.\n",
        "\n",
        "유용하고 중요한 개념이지만 여기서 다루지 않은 것은 팽창 커널을 사용한 1D 합성곱입니다."
      ]
    },
    {
      "cell_type": "code",
      "source": [
        "x = layers.Input(shape=(max_len,))\n",
        "y = layers.Embedding(max_features, 128)(x)\n",
        "\n",
        "y1 = layers.Conv1D(32, 7, activation='relu')(y)\n",
        "y1 = layers.MaxPool1D(5)(y1)\n",
        "\n",
        "y2 = layers.Conv1D(32, 7, activation='relu')(y)\n",
        "y2 = layers.MaxPool1D(5)(y2)\n",
        "\n",
        "y = layers.concatenate([y1, y2])\n",
        "y = layers.GlobalAveragePooling1D()(y)\n",
        "y = layers.Dense(1, activation='sigmoid')(y) # 긍정/부정 클래스 예측\n",
        "\n",
        "model = models.Model(x,y)\n",
        "model.summary()\n",
        "utils.plot_model(model, show_shapes=True)"
      ],
      "metadata": {
        "id": "mAIj-EXewBjh"
      },
      "execution_count": null,
      "outputs": []
    },
    {
      "cell_type": "code",
      "source": [
        "model.compile(optimizer=tf.keras.optimizers.RMSprop(learning_rate=1e-4),\n",
        "              loss = 'binary_crossentropy',\n",
        "              metrics=['acc']\n",
        "              )\n",
        "history = model.fit(x_train, y_train,\n",
        "                    epochs=20, \n",
        "                    batch_size=128,\n",
        "                    validation_data=(x_test, y_test))\n",
        "plot_lcurve([history],['conv1d_parallel'], ['dodgerblue'], x_itv=5)"
      ],
      "metadata": {
        "id": "52JUhJ6aMzy0",
        "outputId": "b7208cfa-2ce0-414f-8faf-61ce869361be",
        "colab": {
          "base_uri": "https://localhost:8080/",
          "height": 1000
        }
      },
      "execution_count": 15,
      "outputs": [
        {
          "output_type": "stream",
          "name": "stdout",
          "text": [
            "Epoch 1/20\n",
            "196/196 [==============================] - 4s 16ms/step - loss: 0.6890 - acc: 0.6002 - val_loss: 0.6817 - val_acc: 0.6810\n",
            "Epoch 2/20\n",
            "196/196 [==============================] - 3s 15ms/step - loss: 0.6648 - acc: 0.7316 - val_loss: 0.6479 - val_acc: 0.7420\n",
            "Epoch 3/20\n",
            "196/196 [==============================] - 3s 15ms/step - loss: 0.6159 - acc: 0.7838 - val_loss: 0.5915 - val_acc: 0.7905\n",
            "Epoch 4/20\n",
            "196/196 [==============================] - 3s 18ms/step - loss: 0.5494 - acc: 0.8163 - val_loss: 0.5282 - val_acc: 0.8174\n",
            "Epoch 5/20\n",
            "196/196 [==============================] - 3s 15ms/step - loss: 0.4822 - acc: 0.8401 - val_loss: 0.4683 - val_acc: 0.8370\n",
            "Epoch 6/20\n",
            "196/196 [==============================] - 3s 18ms/step - loss: 0.4211 - acc: 0.8612 - val_loss: 0.4199 - val_acc: 0.8498\n",
            "Epoch 7/20\n",
            "196/196 [==============================] - 3s 15ms/step - loss: 0.3741 - acc: 0.8731 - val_loss: 0.3835 - val_acc: 0.8589\n",
            "Epoch 8/20\n",
            "196/196 [==============================] - 3s 15ms/step - loss: 0.3385 - acc: 0.8820 - val_loss: 0.3582 - val_acc: 0.8656\n",
            "Epoch 9/20\n",
            "196/196 [==============================] - 3s 18ms/step - loss: 0.3121 - acc: 0.8888 - val_loss: 0.3400 - val_acc: 0.8709\n",
            "Epoch 10/20\n",
            "196/196 [==============================] - 3s 18ms/step - loss: 0.2916 - acc: 0.8950 - val_loss: 0.3268 - val_acc: 0.8739\n",
            "Epoch 11/20\n",
            "196/196 [==============================] - 3s 18ms/step - loss: 0.2752 - acc: 0.9000 - val_loss: 0.3174 - val_acc: 0.8774\n",
            "Epoch 12/20\n",
            "196/196 [==============================] - 3s 15ms/step - loss: 0.2620 - acc: 0.9058 - val_loss: 0.3103 - val_acc: 0.8800\n",
            "Epoch 13/20\n",
            "196/196 [==============================] - 3s 18ms/step - loss: 0.2505 - acc: 0.9093 - val_loss: 0.3049 - val_acc: 0.8810\n",
            "Epoch 14/20\n",
            "196/196 [==============================] - 3s 18ms/step - loss: 0.2404 - acc: 0.9132 - val_loss: 0.3018 - val_acc: 0.8827\n",
            "Epoch 15/20\n",
            "196/196 [==============================] - 3s 15ms/step - loss: 0.2316 - acc: 0.9176 - val_loss: 0.2978 - val_acc: 0.8831\n",
            "Epoch 16/20\n",
            "196/196 [==============================] - 3s 15ms/step - loss: 0.2235 - acc: 0.9196 - val_loss: 0.2957 - val_acc: 0.8832\n",
            "Epoch 17/20\n",
            "196/196 [==============================] - 3s 15ms/step - loss: 0.2164 - acc: 0.9215 - val_loss: 0.2944 - val_acc: 0.8835\n",
            "Epoch 18/20\n",
            "196/196 [==============================] - 3s 15ms/step - loss: 0.2100 - acc: 0.9241 - val_loss: 0.2936 - val_acc: 0.8841\n",
            "Epoch 19/20\n",
            "196/196 [==============================] - 3s 18ms/step - loss: 0.2039 - acc: 0.9268 - val_loss: 0.2946 - val_acc: 0.8837\n",
            "Epoch 20/20\n",
            "196/196 [==============================] - 3s 15ms/step - loss: 0.1984 - acc: 0.9292 - val_loss: 0.2963 - val_acc: 0.8837\n"
          ]
        },
        {
          "output_type": "display_data",
          "data": {
            "text/plain": [
              "<Figure size 864x288 with 2 Axes>"
            ],
            "image/png": "[encoded data removed]"
          },
          "metadata": {
            "needs_background": "light"
          }
        }
      ]
    },
    {
      "cell_type": "markdown",
      "source": [
        "## 시계열 데이터 분석\n",
        "---"
      ],
      "metadata": {
        "id": "BiCJuR7ywB4z"
      }
    },
    {
      "cell_type": "code",
      "source": [
        "! git clone https://github.com/gilbutITbook/006975.git"
      ],
      "metadata": {
        "colab": {
          "base_uri": "https://localhost:8080/"
        },
        "id": "XPM8ktY_wDXG",
        "outputId": "acfa699c-d92a-422a-a554-7453e0073fa9"
      },
      "execution_count": 16,
      "outputs": [
        {
          "output_type": "stream",
          "name": "stdout",
          "text": [
            "Cloning into '006975'...\n",
            "remote: Enumerating objects: 102534, done.\u001b[K\n",
            "remote: Total 102534 (delta 0), reused 0 (delta 0), pack-reused 102534\u001b[K\n",
            "Receiving objects: 100% (102534/102534), 202.75 MiB | 24.50 MiB/s, done.\n",
            "Resolving deltas: 100% (11/11), done.\n",
            "Checking out files: 100% (104042/104042), done.\n"
          ]
        }
      ]
    },
    {
      "cell_type": "code",
      "source": [
        "data_dir = '/content/006975/datasets/jena_climate/'\n",
        "fname = os.path.join(data_dir, 'jena_climate_2009_2016.csv')\n",
        "\n",
        "f = open(fname)\n",
        "data = f.read()\n",
        "f.close()\n",
        "\n",
        "lines = data.split('\\n')\n",
        "header = lines[0].split(',')\n",
        "lines = lines[1:]\n",
        "\n",
        "print(header)\n",
        "print(len(lines))\n",
        "\n",
        "float_data = np.zeros((len(lines), len(header) - 1))\n",
        "for i, line in enumerate(lines):\n",
        "    values = [float(x) for x in line.split(',')[1:]]\n",
        "    float_data[i, :] = values\n",
        "\n",
        "mean = float_data[:200000].mean(axis=0)\n",
        "float_data -= mean\n",
        "std = float_data[:200000].std(axis=0)\n",
        "float_data /= std\n",
        "\n",
        "\n",
        "def generator(data, lookback, delay, min_index, max_index,\n",
        "              shuffle=False, batch_size=128, step=6):\n",
        "    if max_index is None:\n",
        "        max_index = len(data) - delay - 1\n",
        "    i = min_index + lookback\n",
        "    while 1:\n",
        "        if shuffle:\n",
        "            rows = np.random.randint(\n",
        "                min_index + lookback, max_index, size=batch_size)\n",
        "        else:\n",
        "            if i + batch_size >= max_index:\n",
        "                i = min_index + lookback\n",
        "            rows = np.arange(i, min(i + batch_size, max_index))\n",
        "            i += len(rows)\n",
        "\n",
        "        samples = np.zeros((len(rows),\n",
        "                           lookback // step,\n",
        "                           data.shape[-1]))\n",
        "        targets = np.zeros((len(rows),))\n",
        "        for j, row in enumerate(rows):\n",
        "            indices = range(rows[j] - lookback, rows[j], step)\n",
        "            samples[j] = data[indices]\n",
        "            targets[j] = data[rows[j] + delay][1]\n",
        "        yield samples, targets\n",
        "\n",
        "lookback = 1440\n",
        "step = 6\n",
        "delay = 144\n",
        "batch_size = 128\n",
        "\n",
        "train_gen = generator(float_data,\n",
        "                      lookback=lookback,\n",
        "                      delay=delay,\n",
        "                      min_index=0,\n",
        "                      max_index=200000,\n",
        "                      shuffle=True,\n",
        "                      step=step, \n",
        "                      batch_size=batch_size)\n",
        "val_gen = generator(float_data,\n",
        "                    lookback=lookback,\n",
        "                    delay=delay,\n",
        "                    min_index=200001,\n",
        "                    max_index=300000,\n",
        "                    step=step,\n",
        "                    batch_size=batch_size)\n",
        "test_gen = generator(float_data,\n",
        "                     lookback=lookback,\n",
        "                     delay=delay,\n",
        "                     min_index=300001,\n",
        "                     max_index=None,\n",
        "                     step=step,\n",
        "                     batch_size=batch_size)\n",
        "\n",
        "# 전체 검증 세트를 순회하기 위해 val_gen에서 추출할 횟수\n",
        "val_steps = (300000 - 200001 - lookback) // batch_size\n",
        "\n",
        "# 전체 테스트 세트를 순회하기 위해 test_gen에서 추출할 횟수\n",
        "test_steps = (len(float_data) - 300001 - lookback) // batch_size\n",
        "\n",
        "for samples, targets in train_gen:\n",
        "  print(samples.shape, targets.shape)\n",
        "  break"
      ],
      "metadata": {
        "id": "9gAHwgljwTPE",
        "outputId": "bab09b76-ceb2-46e2-9679-7a1c297968ff",
        "colab": {
          "base_uri": "https://localhost:8080/"
        }
      },
      "execution_count": 17,
      "outputs": [
        {
          "output_type": "stream",
          "name": "stdout",
          "text": [
            "['\"Date Time\"', '\"p (mbar)\"', '\"T (degC)\"', '\"Tpot (K)\"', '\"Tdew (degC)\"', '\"rh (%)\"', '\"VPmax (mbar)\"', '\"VPact (mbar)\"', '\"VPdef (mbar)\"', '\"sh (g/kg)\"', '\"H2OC (mmol/mol)\"', '\"rho (g/m**3)\"', '\"wv (m/s)\"', '\"max. wv (m/s)\"', '\"wd (deg)\"']\n",
            "420551\n",
            "(128, 240, 14) (128,)\n"
          ]
        }
      ]
    },
    {
      "cell_type": "code",
      "source": [
        "# 교재 내용대로 모델 구성"
      ],
      "metadata": {
        "id": "_PjHrQG-whvY"
      },
      "execution_count": null,
      "outputs": []
    },
    {
      "cell_type": "code",
      "source": [
        ""
      ],
      "metadata": {
        "id": "hRm4rwUFwvQz"
      },
      "execution_count": null,
      "outputs": []
    },
    {
      "cell_type": "code",
      "source": [
        "# 본인 모델 구성 (교재모델보다 성능 높이기)"
      ],
      "metadata": {
        "id": "B0tj_fosxLZa"
      },
      "execution_count": null,
      "outputs": []
    },
    {
      "cell_type": "code",
      "source": [
        ""
      ],
      "metadata": {
        "id": "cl-gvjQOOAI2"
      },
      "execution_count": null,
      "outputs": []
    }
  ],
  "metadata": {
    "kernelspec": {
      "display_name": "Python 3",
      "language": "python",
      "name": "python3"
    },
    "language_info": {
      "codemirror_mode": {
        "name": "ipython",
        "version": 3
      },
      "file_extension": ".py",
      "mimetype": "text/x-python",
      "name": "python",
      "nbconvert_exporter": "python",
      "pygments_lexer": "ipython3",
      "version": "3.6.6"
    },
    "colab": {
      "name": "6.4-sequence-processing-with-convnets.ipynb",
      "provenance": [],
      "collapsed_sections": [],
      "include_colab_link": true
    },
    "accelerator": "GPU",
    "gpuClass": "standard"
  },
  "nbformat": 4,
  "nbformat_minor": 0
}