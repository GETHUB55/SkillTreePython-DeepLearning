{
  "nbformat": 4,
  "nbformat_minor": 0,
  "metadata": {
    "colab": {
      "name": "ch00_01_OpenCV기초_기본사용.ipynb",
      "provenance": [],
      "collapsed_sections": [],
      "include_colab_link": true
    },
    "kernelspec": {
      "name": "python3",
      "display_name": "Python 3"
    },
    "language_info": {
      "name": "python"
    }
  },
  "cells": [
    {
      "cell_type": "markdown",
      "metadata": {
        "id": "view-in-github",
        "colab_type": "text"
      },
      "source": [
        "<a href=\"https://colab.research.google.com/github/GETHUB55/SkillTreePython-DeepLearning/blob/main/00.%EC%B6%94%EA%B0%80%ED%95%99%EC%8A%B5/ch00_01_OpenCV%EA%B8%B0%EC%B4%88_%EA%B8%B0%EB%B3%B8%EC%82%AC%EC%9A%A9.ipynb\" target=\"_parent\"><img src=\"https://colab.research.google.com/assets/colab-badge.svg\" alt=\"Open In Colab\"/></a>"
      ]
    },
    {
      "cell_type": "markdown",
      "metadata": {
        "id": "wWpXZc2fi39U"
      },
      "source": [
        "# ch00.01. OpenCV기초 - 기본사용\n",
        "\n",
        "---\n",
        "* 날짜:2022-06-16\n",
        "* 이름:조수빈\n",
        "\n",
        "## 학습내용\n",
        "    - OpenCV 이해하기\n",
        "    - OpenCV를 이용한 이미지 읽기\n",
        "    - OpenCV를 이용한 이미지 보기\n",
        "    - OpenCV를 이용한 이미지 Processing\n",
        "    - 이미지 저장하기\n",
        "\n",
        "\n",
        "## 학습자료\n",
        "- [OpenCV 홈페이지](https://opencv.org/)\n",
        "\n",
        "- [OpenCV-pythoin Documentation](https://opencv-python.readthedocs.io/en/latest/)"
      ]
    },
    {
      "cell_type": "markdown",
      "metadata": {
        "id": "kByKdJPApy6P"
      },
      "source": [
        "```\n",
        "import numpy as np\n",
        "import matplotlib.pyplot as plt\n",
        "import cv2\n",
        "cv2.__version__\n",
        "```"
      ]
    },
    {
      "cell_type": "code",
      "source": [
        ""
      ],
      "metadata": {
        "id": "YW4q7CsxPlQh"
      },
      "execution_count": null,
      "outputs": []
    },
    {
      "cell_type": "markdown",
      "source": [
        "## OpenCV 소개\n",
        "---\n",
        "\n",
        "- 영상처리 라이브러리\n",
        "- 씨플플로 시작하여 3.0 파이썬 자바 제공 \n",
        "- 딥러닝 라이브러리 대부분이 현재 파이썬\n",
        "\n",
        "\n",
        "디지털 이미지를 편집할 때 가장 많이 사용되는  파일 유형\n",
        "\n",
        "![](https://t1.daumcdn.net/cfile/tistory/2217E149551375980F)\n",
        "\n",
        "#### **벡터(vector) 그래픽스**\n",
        "반응형 화면 \n",
        "전체하면-휴대폰화면 에서 비율을 깨지지 않고 보여줄 수 있다.\n",
        "\n",
        "\n",
        "#### **레스터(raster) 그래픽스**\n",
        "\n",
        "비트맵, 알지비\n",
        "오픈시브이 에서는 레스터 그래픽스 사용\n"
      ],
      "metadata": {
        "id": "i_lhepsa-NuN"
      }
    },
    {
      "cell_type": "markdown",
      "source": [
        "## 이미지 읽기 및 보기\n",
        "---\n"
      ],
      "metadata": {
        "id": "TtMWoj7p84BO"
      }
    },
    {
      "cell_type": "markdown",
      "metadata": {
        "id": "Bn6_8E5hIZM5"
      },
      "source": [
        "### **| 이미지 읽기**\n",
        "\n",
        "\n",
        "#### `cv2.imread(fileName), flage`\n",
        "* return : 넘파이 배열"
      ]
    },
    {
      "cell_type": "markdown",
      "source": [
        "#### **이미지 파일 준비**"
      ],
      "metadata": {
        "id": "7eFIMaZdl3VV"
      }
    },
    {
      "cell_type": "markdown",
      "source": [
        "* 파일 업로드\n",
        "\n",
        "```\n",
        "from google.colab import files\n",
        "upload_file = files.upload()\n",
        "```"
      ],
      "metadata": {
        "id": "pAsAqxwsl6np"
      }
    },
    {
      "cell_type": "code",
      "source": [
        ""
      ],
      "metadata": {
        "id": "Ht1Ab85nl8u_"
      },
      "execution_count": null,
      "outputs": []
    },
    {
      "cell_type": "markdown",
      "source": [
        "* 파일 경로 설정"
      ],
      "metadata": {
        "id": "jgco6rZol8yj"
      }
    },
    {
      "cell_type": "code",
      "source": [
        ""
      ],
      "metadata": {
        "id": "ZqDit6FVjtl4"
      },
      "execution_count": null,
      "outputs": []
    },
    {
      "cell_type": "markdown",
      "source": [
        "#### **Matplotlib과 비교**\n",
        "\n",
        "* Matploglib: RGB\n",
        "  * 이미지 불러오기 : plt.imread() -> RGB로 읽어옴\n",
        "  * 이미지 보여주기 : plt.imshow()\n",
        "* OpenCV : GBR\n",
        "  * 이미지 불러오기 : cv2.imread() -> GBR로 읽어옴\n",
        "  * 이미지 보여주기 : cv2.imshow()\n",
        "\n"
      ],
      "metadata": {
        "id": "b6vdd1fxCUxc"
      }
    },
    {
      "cell_type": "code",
      "metadata": {
        "id": "sgBW3cqvIhz-"
      },
      "source": [
        ""
      ],
      "execution_count": null,
      "outputs": []
    },
    {
      "cell_type": "markdown",
      "source": [
        "* '이미지' 데이터"
      ],
      "metadata": {
        "id": "dxHppH3XmPiV"
      }
    },
    {
      "cell_type": "code",
      "source": [
        ""
      ],
      "metadata": {
        "id": "r6A1Y5pTmSjX"
      },
      "execution_count": null,
      "outputs": []
    },
    {
      "cell_type": "markdown",
      "source": [
        "### **| 이미지 보기**"
      ],
      "metadata": {
        "id": "X2sAvWl6zdWQ"
      }
    },
    {
      "cell_type": "markdown",
      "source": [
        "#### **코랩 imshow 패치 함수**"
      ],
      "metadata": {
        "id": "9m7FaiGICcOQ"
      }
    },
    {
      "cell_type": "markdown",
      "source": [
        "* 원래 함수 : 코랩에서 사용불가\n",
        "\n",
        "```\n",
        "cv2.imshow(name, image)\n",
        "```"
      ],
      "metadata": {
        "id": "f2QmzJDODJ5v"
      }
    },
    {
      "cell_type": "code",
      "metadata": {
        "id": "UcVybN1pIICm"
      },
      "source": [
        ""
      ],
      "execution_count": null,
      "outputs": []
    },
    {
      "cell_type": "markdown",
      "source": [
        "* 코랩용 패치 함수\n",
        "\n",
        "```\n",
        "from google.colab.patches import cv2_imshow\n",
        "cv2_imshow(cv2_img)\n",
        "```"
      ],
      "metadata": {
        "id": "cs10WaZClmCn"
      }
    },
    {
      "cell_type": "code",
      "metadata": {
        "id": "0RT_f_53KNMq"
      },
      "source": [
        ""
      ],
      "execution_count": null,
      "outputs": []
    },
    {
      "cell_type": "markdown",
      "source": [
        "#### **matplotlib으로 이미지 보기**"
      ],
      "metadata": {
        "id": "oLLDs0WglTk8"
      }
    },
    {
      "cell_type": "code",
      "source": [
        ""
      ],
      "metadata": {
        "id": "aUx1T9SSivjh"
      },
      "execution_count": null,
      "outputs": []
    },
    {
      "cell_type": "markdown",
      "source": [
        "## 이미지 Processing\n",
        "---\n",
        "\n",
        "**이미지 좌표 형식**\n",
        "\n",
        "디지털 영상은 2차원 행렬의 형태로 표현이 되며. 각 격자가 하나의 pixel이 됩니다. \n",
        "![](https://opencv-python.readthedocs.io/en/latest/_images/image1.png)"
      ],
      "metadata": {
        "id": "aMDodcuQn6Mv"
      }
    },
    {
      "cell_type": "markdown",
      "source": [
        "### **| Digital Image의 유형**"
      ],
      "metadata": {
        "id": "Pzy1OaJp_jJQ"
      }
    },
    {
      "cell_type": "markdown",
      "source": [
        "#### **Binary Image**\n",
        "\n",
        "Binary Image는 pixel당 1bit로 표현하는 영상을 의미합니다. 즉 흰색과 검은색으로만 표현이 되는 영상입니다.\n",
        "\n",
        "![](https://opencv-python.readthedocs.io/en/latest/_images/image2.png)\n",
        "\n",
        "\n",
        "* 우측 상단 : thresholding처리를 하여 binary image로 변환\n",
        "* 우측 하단 : binary image의 밀도를 조절하여 밝기를 표현 "
      ],
      "metadata": {
        "id": "SOZ_x0tOoDLl"
      }
    },
    {
      "cell_type": "markdown",
      "source": [
        "#### **Grayscale Image**\n",
        "\n",
        "![](https://opencv-python.readthedocs.io/en/latest/_images/image3.png)\n",
        "\n",
        "Grayscale Image는 Pixel당 8bit, 즉 256단계의 명암(빛의 세기)을 표현할 수 있는 이미지입니다."
      ],
      "metadata": {
        "id": "4CzuYb4_ocS0"
      }
    },
    {
      "cell_type": "markdown",
      "source": [
        "#### **Color Image**\n",
        "\n",
        "* pixel의 색을 표현하기 위해서 채널별 pixel당 8bit 사용(0~255)\n",
        "* 총 16,777,216 가지의 색을 표현 (256x256x256)\n"
      ],
      "metadata": {
        "id": "HSnQTfsdonAV"
      }
    },
    {
      "cell_type": "markdown",
      "source": [
        "#### **RGB Clor-space vs HSV color-space**\n",
        "\n",
        "\n",
        "![](https://opencv-python.readthedocs.io/en/latest/_images/image5.png)\n",
        "![](https://opencv-python.readthedocs.io/en/latest/_images/image6.png)\n",
        "\n",
        "* RGB : 빛의 삼원색의 3채널 \n",
        "* HSV : 색, 채도, 명도의 3채널"
      ],
      "metadata": {
        "id": "MlaJGqnKpP3y"
      }
    },
    {
      "cell_type": "markdown",
      "source": [
        "### **| Color-space 변환**\n",
        "\n",
        "#### `cv2.cvtColor(src, code)`\n",
        "* Parameters:\n",
        "  * src : 이미지 배열\n",
        "  * code : 변환 코드"
      ],
      "metadata": {
        "id": "Qub8jkns_rpa"
      }
    },
    {
      "cell_type": "code",
      "source": [
        ""
      ],
      "metadata": {
        "id": "rPIKdKHyoaca"
      },
      "execution_count": null,
      "outputs": []
    },
    {
      "cell_type": "markdown",
      "source": [
        "* plt로 변환 이미지 확인하기"
      ],
      "metadata": {
        "id": "2UB4Hojfqnjr"
      }
    },
    {
      "cell_type": "code",
      "source": [
        ""
      ],
      "metadata": {
        "id": "csbSpeaHit8_"
      },
      "execution_count": null,
      "outputs": []
    },
    {
      "cell_type": "markdown",
      "source": [
        "* cv2로 변환 이미지 확인하기"
      ],
      "metadata": {
        "id": "QKQJbuwgrR0_"
      }
    },
    {
      "cell_type": "code",
      "source": [
        ""
      ],
      "metadata": {
        "id": "fRSUTfwYAf9f"
      },
      "execution_count": null,
      "outputs": []
    },
    {
      "cell_type": "markdown",
      "source": [
        "## 이미지 저장\n",
        "---\n",
        "\n",
        "#### `cv2.imwrite(fileName, image)`\n",
        "* Parameters\n",
        "  * fileName(str) : 저장될 파일명\n",
        "  * image : 저장할 이미지"
      ],
      "metadata": {
        "id": "okTcY7qsrg0Q"
      }
    },
    {
      "cell_type": "code",
      "source": [
        ""
      ],
      "metadata": {
        "id": "LXpWuScMrDni"
      },
      "execution_count": null,
      "outputs": []
    }
  ]
}