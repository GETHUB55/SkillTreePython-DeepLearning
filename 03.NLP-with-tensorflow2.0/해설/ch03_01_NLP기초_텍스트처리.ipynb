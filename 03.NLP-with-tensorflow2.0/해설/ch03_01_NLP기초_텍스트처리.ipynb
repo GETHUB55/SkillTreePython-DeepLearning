{
  "nbformat": 4,
  "nbformat_minor": 0,
  "metadata": {
    "colab": {
      "name": "ch03_01_NLP기초-텍스트처리.ipynb",
      "provenance": [],
      "collapsed_sections": [],
      "authorship_tag": "ABX9TyPivxNd1FHDgasmqlsfN9qj",
      "include_colab_link": true
    },
    "kernelspec": {
      "name": "python3",
      "display_name": "Python 3"
    },
    "language_info": {
      "name": "python"
    }
  },
  "cells": [
    {
      "cell_type": "markdown",
      "metadata": {
        "id": "view-in-github",
        "colab_type": "text"
      },
      "source": [
        "<a href=\"https://colab.research.google.com/github/yebiny/SkillTreePython-DeepLearning/blob/main/03.NLP-with-tensorflow2.0/%ED%95%B4%EC%84%A4/ch03_01_NLP%EA%B8%B0%EC%B4%88_%ED%85%8D%EC%8A%A4%ED%8A%B8%EC%B2%98%EB%A6%AC.ipynb\" target=\"_parent\"><img src=\"https://colab.research.google.com/assets/colab-badge.svg\" alt=\"Open In Colab\"/></a>"
      ]
    },
    {
      "cell_type": "markdown",
      "source": [
        "# ch03.01 NLP기초 - 텍스트 처리\n",
        "---\n",
        "\n",
        "* 날짜:\n",
        "* 이름:\n",
        "\n",
        "## 학습내용\n",
        "    - 텍스트 전처리 과정을 이해한다.\n",
        "      * 텍스트 토큰화\n",
        "      * 텍스트 인덱싱\n",
        "      * 원-핫 인코딩\n",
        "      * 텍스트 임베딩\n",
        "    - 간단한 문장을 분류하는 딥러닝 모델을 구현한다.\n"
      ],
      "metadata": {
        "id": "sWs2kEC1_b-P"
      }
    },
    {
      "cell_type": "markdown",
      "source": [
        "```\n",
        "! git clone https://github.com/yebiny/SkillTreePython-DeepLearning\n",
        "```"
      ],
      "metadata": {
        "id": "zml97VsFlWC1"
      }
    },
    {
      "cell_type": "code",
      "execution_count": 1,
      "metadata": {
        "id": "lqjonRF6KbGY",
        "colab": {
          "base_uri": "https://localhost:8080/"
        },
        "outputId": "a40f1180-ecad-4258-ff9e-a1da33a886a8"
      },
      "outputs": [
        {
          "output_type": "stream",
          "name": "stdout",
          "text": [
            "Cloning into 'SkillTreePython-DeepLearning'...\n",
            "remote: Enumerating objects: 669, done.\u001b[K\n",
            "remote: Counting objects: 100% (242/242), done.\u001b[K\n",
            "remote: Compressing objects: 100% (117/117), done.\u001b[K\n",
            "remote: Total 669 (delta 147), reused 188 (delta 124), pack-reused 427\u001b[K\n",
            "Receiving objects: 100% (669/669), 37.09 MiB | 26.82 MiB/s, done.\n",
            "Resolving deltas: 100% (340/340), done.\n"
          ]
        }
      ],
      "source": [
        "! git clone https://github.com/yebiny/SkillTreePython-DeepLearning"
      ]
    },
    {
      "cell_type": "markdown",
      "source": [
        "```\n",
        "import sys\n",
        "sys.path.append('/content/SkillTreePython-DeepLearning/02.케라스_창시자에게_배우는_딥러닝/scripts')\n",
        "from import_lib import *\n",
        "```"
      ],
      "metadata": {
        "id": "iDliBVhLlYiY"
      }
    },
    {
      "cell_type": "code",
      "source": [
        "import sys\n",
        "sys.path.append('/content/SkillTreePython-DeepLearning/02.케라스_창시자에게_배우는_딥러닝/scripts')\n",
        "from import_lib import *"
      ],
      "metadata": {
        "id": "InMFlAq4Xwge"
      },
      "execution_count": 2,
      "outputs": []
    },
    {
      "cell_type": "markdown",
      "source": [
        "## 텍스트 데이터 처리\n",
        "---"
      ],
      "metadata": {
        "id": "RgUP6THDdK7O"
      }
    },
    {
      "cell_type": "markdown",
      "source": [
        "### **| 전처리 구현하기**"
      ],
      "metadata": {
        "id": "5XY0FswrfDrS"
      }
    },
    {
      "cell_type": "markdown",
      "source": [
        "#### **딕셔너리 제작**\n",
        "\n",
        "```\n",
        "\"문장이 이런식으로 이루어져 있습니다.\"\n",
        "# 1, 토큰화\n",
        "\"문장 이 이런 식 으로 이루 어져  있습니다\" # -> 어떻게 토큰화 할지 라이브러리 존재~\n",
        "\"hello everyone\"\n",
        "# 모든데이터는 숫자!\n",
        "2. 단어 인덱싱\n",
        "# 모든 토큰에 대해 숫자로 매핑\n",
        "# 인덱싱 위해서는 딕셔너리 필요\n",
        "```"
      ],
      "metadata": {
        "id": "ZICnjn8bfHx-"
      }
    },
    {
      "cell_type": "code",
      "source": [
        "samples = ['very nice movie',\n",
        "           'this movie is bad',\n",
        "           'it is so bad',\n",
        "           'wow it is a good movie']\n",
        "\n",
        "word_dict = {}\n",
        "for sample in samples:\n",
        "  # 토큰화\n",
        "  for token in sample.split(' '):\n",
        "    #print(token)\n",
        "    if token not in word_dict:\n",
        "      word_dict[token]=len(word_dict)+1\n",
        "print(word_dict)\n",
        "print('모든 단어 개수: ', len(word_dict))"
      ],
      "metadata": {
        "id": "aYpYwBlhf3En",
        "colab": {
          "base_uri": "https://localhost:8080/"
        },
        "outputId": "8c1907e5-6451-4045-8933-ce457ab65230"
      },
      "execution_count": 9,
      "outputs": [
        {
          "output_type": "stream",
          "name": "stdout",
          "text": [
            "{'very': 1, 'nice': 2, 'movie': 3, 'this': 4, 'is': 5, 'bad': 6, 'it': 7, 'so': 8, 'wow': 9, 'a': 10, 'good': 11}\n",
            "모든 단어 개수:  11\n"
          ]
        }
      ]
    },
    {
      "cell_type": "code",
      "source": [
        "클래스가 3개일때\n",
        "\n",
        "1: 1 0 0 \n",
        "2: 0 1 0\n",
        "3: 0 0 1\n",
        "\n",
        "클래스개수가 단어 개수만큼 (5000개 단어 ~ 10000개 단어~)\n",
        "1 1 000...0\n",
        "2\n",
        "...\n",
        "5000 0 ....1"
      ],
      "metadata": {
        "id": "sPXiyNTG_VF1"
      },
      "execution_count": null,
      "outputs": []
    },
    {
      "cell_type": "markdown",
      "source": [
        "#### **단어 인덱싱**"
      ],
      "metadata": {
        "id": "KEsBK72AfMB0"
      }
    },
    {
      "cell_type": "code",
      "source": [
        "# 문장 -> 토큰 -> 숫자\n",
        "def word_indexing(sample, word_dict):\n",
        "  indexed = []  \n",
        "  for token in sample.split(' '):\n",
        "    num = word_dict[token]\n",
        "    indexed.append(num)\n",
        "  return np.array(indexed)\n",
        "idx = 1\n",
        "samples[idx], word_indexing(samples[idx], word_dict)"
      ],
      "metadata": {
        "id": "OevIeAf6g0QN",
        "colab": {
          "base_uri": "https://localhost:8080/"
        },
        "outputId": "d0f79105-4fcf-4155-b06d-bfbdc8f283a1"
      },
      "execution_count": 12,
      "outputs": [
        {
          "output_type": "execute_result",
          "data": {
            "text/plain": [
              "('this movie is bad', array([4, 3, 5, 6]))"
            ]
          },
          "metadata": {},
          "execution_count": 12
        }
      ]
    },
    {
      "cell_type": "code",
      "source": [
        "plt.figure(figsize=(len(samples)*2, 4))\n",
        "for i, sample in enumerate(samples):\n",
        "  indexed = word_indexing(sample, word_dict)\n",
        "  plt.subplot(1, len(samples), i+1)\n",
        "  sns.heatmap(indexed.reshape(len(indexed), 1), cmap='gray', \n",
        "              annot=True, cbar=False,\n",
        "              yticklabels=sample.split(' '),\n",
        "              xticklabels=[])\n",
        "plt.show()"
      ],
      "metadata": {
        "id": "dtmzeJfjgo46",
        "colab": {
          "base_uri": "https://localhost:8080/",
          "height": 248
        },
        "outputId": "cd904fd5-0b4a-4bb9-d74e-c29f06ac7a74"
      },
      "execution_count": 19,
      "outputs": [
        {
          "output_type": "display_data",
          "data": {
            "text/plain": [
              "<Figure size 576x288 with 4 Axes>"
            ],
            "image/png": "[encoded data removed]"
          },
          "metadata": {
            "needs_background": "light"
          }
        }
      ]
    },
    {
      "cell_type": "markdown",
      "source": [
        "#### **원-핫 인코딩**"
      ],
      "metadata": {
        "id": "Y942NAXGftDf"
      }
    },
    {
      "cell_type": "code",
      "source": [
        "# sample_mxlen : 한 문장안에 몇개의 토큰까지 허락\n",
        "# total_words : 딕셔너리 안에 있는 모든 단어 수\n",
        "def word_onehot(sample, sample_mxlen, total_words):\n",
        "  onehot = np.zeros((sample_mxlen, total_words+1)) # 단어인덱스 1~11, 파이썬 인덱스 0~11 총 12개 \n",
        "  for i, token in enumerate(sample.split(' ')):\n",
        "    if i == sample_mxlen: break # 샘플이 너무길면 자르기\n",
        "    index = word_dict[token] # 토큰이 몇번째 해당하는지 반환\n",
        "    onehot[i, index]=1 # i번째 토큰, index 해당하는 자리에 1을 할당\n",
        "  return onehot\n",
        "\n",
        "idx = 3\n",
        "print(samples[idx])\n",
        "print(word_indexing(samples[idx], word_dict))\n",
        "print(word_onehot(samples[idx], 5, len(word_dict)))"
      ],
      "metadata": {
        "id": "Xt4aVBN7g89I",
        "colab": {
          "base_uri": "https://localhost:8080/"
        },
        "outputId": "be97f88e-9067-48c5-df86-0e1f75558b87"
      },
      "execution_count": 28,
      "outputs": [
        {
          "output_type": "stream",
          "name": "stdout",
          "text": [
            "wow it is a good movie\n",
            "[ 9  7  5 10 11  3]\n",
            "[[0. 0. 0. 0. 0. 0. 0. 0. 0. 1. 0. 0.]\n",
            " [0. 0. 0. 0. 0. 0. 0. 1. 0. 0. 0. 0.]\n",
            " [0. 0. 0. 0. 0. 1. 0. 0. 0. 0. 0. 0.]\n",
            " [0. 0. 0. 0. 0. 0. 0. 0. 0. 0. 1. 0.]\n",
            " [0. 0. 0. 0. 0. 0. 0. 0. 0. 0. 0. 1.]]\n"
          ]
        }
      ]
    },
    {
      "cell_type": "code",
      "source": [
        "plt.figure(figsize=(len(samples)*3, 4))\n",
        "for i, sample in enumerate(samples):\n",
        "  onehot = word_onehot(samples[i], 6, len(word_dict))\n",
        "  plt.subplot(1, len(samples), i+1)\n",
        "  sns.heatmap(onehot, cmap='gray', \n",
        "              annot=True, cbar=False,\n",
        "              yticklabels=sample.split(' '),\n",
        "              xticklabels=[])\n",
        "plt.show()"
      ],
      "metadata": {
        "id": "K-JUpREAhHDm",
        "colab": {
          "base_uri": "https://localhost:8080/",
          "height": 248
        },
        "outputId": "fdf490f6-0ada-4f6b-cb03-f3e5d616abb4"
      },
      "execution_count": 30,
      "outputs": [
        {
          "output_type": "display_data",
          "data": {
            "text/plain": [
              "<Figure size 864x288 with 4 Axes>"
            ],
            "image/png": "[encoded data removed]"
          },
          "metadata": {
            "needs_background": "light"
          }
        }
      ]
    },
    {
      "cell_type": "markdown",
      "source": [
        "### | **텐서플로우 케라스 Tokenizer**\n"
      ],
      "metadata": {
        "id": "LsZv-_kzeu_h"
      }
    },
    {
      "cell_type": "code",
      "source": [
        "from tensorflow.keras.preprocessing.text import Tokenizer\n",
        "tk = Tokenizer()\n",
        "tk.fit_on_texts(samples)"
      ],
      "metadata": {
        "id": "bK7TFAxghuyH"
      },
      "execution_count": 31,
      "outputs": []
    },
    {
      "cell_type": "code",
      "source": [
        "print('생성된 딕셔너리: ', tk.word_index)\n",
        "print('단어 카운트 :', tk.word_counts)\n",
        "print('단어 하나가 몇개의 문장에 포함되어 있는가', tk.word_docs)\n",
        "print('문장(샘플) 카운트: ', tk.document_count)"
      ],
      "metadata": {
        "id": "NOMD-mKyibr8",
        "colab": {
          "base_uri": "https://localhost:8080/"
        },
        "outputId": "90c93d80-231b-4e62-b41b-8e3b61ca0244"
      },
      "execution_count": 37,
      "outputs": [
        {
          "output_type": "stream",
          "name": "stdout",
          "text": [
            "생성된 딕셔너리:  {'movie': 1, 'is': 2, 'bad': 3, 'it': 4, 'very': 5, 'nice': 6, 'this': 7, 'so': 8, 'wow': 9, 'a': 10, 'good': 11}\n",
            "단어 카운트 : OrderedDict([('very', 1), ('nice', 1), ('movie', 3), ('this', 1), ('is', 3), ('bad', 2), ('it', 2), ('so', 1), ('wow', 1), ('a', 1), ('good', 1)])\n",
            "단어 하나가 몇개의 문장에 포함되어 있는가 defaultdict(<class 'int'>, {'movie': 3, 'very': 1, 'nice': 1, 'is': 3, 'bad': 2, 'this': 1, 'it': 2, 'so': 1, 'good': 1, 'wow': 1, 'a': 1})\n",
            "문장(샘플) 카운트:  4\n"
          ]
        }
      ]
    },
    {
      "cell_type": "markdown",
      "source": [
        "#### **단어 인덱싱**"
      ],
      "metadata": {
        "id": "K7A_XvdfhdT4"
      }
    },
    {
      "cell_type": "code",
      "source": [
        "seqs = tk.texts_to_sequences(samples)\n",
        "print('단어 인덱싱 결과', seqs)"
      ],
      "metadata": {
        "id": "PPZG6lkfid_-",
        "colab": {
          "base_uri": "https://localhost:8080/"
        },
        "outputId": "6d11de8d-2ae0-46ef-feef-ab85d70a6e3f"
      },
      "execution_count": 38,
      "outputs": [
        {
          "output_type": "stream",
          "name": "stdout",
          "text": [
            "단어 인덱싱 결과 [[5, 6, 1], [7, 1, 2, 3], [4, 2, 8, 3], [9, 4, 2, 10, 11, 1]]\n"
          ]
        }
      ]
    },
    {
      "cell_type": "code",
      "source": [
        "plt.figure(figsize=(len(samples)*2, 4))\n",
        "for i, sample in enumerate(samples):\n",
        "  indexed = np.array(seqs[i])\n",
        "  plt.subplot(1, len(samples), i+1)\n",
        "  sns.heatmap(indexed.reshape(len(indexed), 1), cmap='gray', \n",
        "              annot=True, cbar=False,\n",
        "              yticklabels=sample.split(' '),\n",
        "              xticklabels=[])\n",
        "plt.show()"
      ],
      "metadata": {
        "id": "rnk2iV_XhTfy",
        "colab": {
          "base_uri": "https://localhost:8080/",
          "height": 248
        },
        "outputId": "5395bf59-a07d-4f4a-e719-238ad11715cb"
      },
      "execution_count": 40,
      "outputs": [
        {
          "output_type": "display_data",
          "data": {
            "text/plain": [
              "<Figure size 576x288 with 4 Axes>"
            ],
            "image/png": "[encoded data removed]"
          },
          "metadata": {
            "needs_background": "light"
          }
        }
      ]
    },
    {
      "cell_type": "markdown",
      "source": [
        "#### **패딩**"
      ],
      "metadata": {
        "id": "Qn-KEjZShneG"
      }
    },
    {
      "cell_type": "code",
      "source": [
        "from tensorflow.keras.preprocessing.sequence import pad_sequences\n",
        "\n",
        "pads = pad_sequences(seqs, 6)\n",
        "print('패딩 결과:\\n', pads, pads.shape)"
      ],
      "metadata": {
        "id": "U9ExtwrFitNX",
        "colab": {
          "base_uri": "https://localhost:8080/"
        },
        "outputId": "7233162e-c979-40b5-bbab-89406f43910c"
      },
      "execution_count": 43,
      "outputs": [
        {
          "output_type": "stream",
          "name": "stdout",
          "text": [
            "패딩 결과:\n",
            " [[ 0  0  0  5  6  1]\n",
            " [ 0  0  7  1  2  3]\n",
            " [ 0  0  4  2  8  3]\n",
            " [ 9  4  2 10 11  1]] (4, 6)\n"
          ]
        }
      ]
    },
    {
      "cell_type": "code",
      "source": [
        "plt.figure(figsize=(len(samples)*2, 4))\n",
        "for i, sample in enumerate(samples):\n",
        "  plt.subplot(1, len(samples), i+1)\n",
        "  sns.heatmap(pads[i].reshape(len(indexed), 1), cmap='gray', \n",
        "              annot=True, cbar=False,\n",
        "              yticklabels=['']*(6-len(sample.split(' ')))+sample.split(' '),\n",
        "              xticklabels=[])\n",
        "plt.show()"
      ],
      "metadata": {
        "id": "1pnYg9XYhgri",
        "colab": {
          "base_uri": "https://localhost:8080/",
          "height": 248
        },
        "outputId": "07c3efae-517e-4ff3-9599-c545272859c9"
      },
      "execution_count": 51,
      "outputs": [
        {
          "output_type": "display_data",
          "data": {
            "text/plain": [
              "<Figure size 576x288 with 4 Axes>"
            ],
            "image/png": "[encoded data removed]"
          },
          "metadata": {
            "needs_background": "light"
          }
        }
      ]
    },
    {
      "cell_type": "markdown",
      "source": [
        "#### **원핫 인코딩**"
      ],
      "metadata": {
        "id": "4dxENhJPhs_y"
      }
    },
    {
      "cell_type": "code",
      "source": [
        "len(word_dict)"
      ],
      "metadata": {
        "colab": {
          "base_uri": "https://localhost:8080/"
        },
        "id": "U6qZAwv2JV6O",
        "outputId": "4dd51368-03e3-4c78-8211-50567948c38e"
      },
      "execution_count": 52,
      "outputs": [
        {
          "output_type": "execute_result",
          "data": {
            "text/plain": [
              "11"
            ]
          },
          "metadata": {},
          "execution_count": 52
        }
      ]
    },
    {
      "cell_type": "code",
      "source": [
        "# 인풋 시퀀스는 길이가 동일!\n",
        "onehots = utils.to_categorical(pads, num_classes=len(word_dict)+1) # 단어 개수 +1 해주기 \n",
        "# +1 하는 이유는 단어가 없거나/ 딕셔너리에 존재하지 않는 단어 는 첫번째 클래스에 할당 \n",
        "print(pads.shape, onehots.shape)"
      ],
      "metadata": {
        "id": "Cm1IFHXihxUZ",
        "colab": {
          "base_uri": "https://localhost:8080/"
        },
        "outputId": "f017b639-d481-419e-e994-c3390b20759f"
      },
      "execution_count": 54,
      "outputs": [
        {
          "output_type": "stream",
          "name": "stdout",
          "text": [
            "(4, 6) (4, 6, 12)\n"
          ]
        }
      ]
    },
    {
      "cell_type": "code",
      "source": [
        "plt.figure(figsize=(len(samples)*3, 4))\n",
        "for i, sample in enumerate(samples):\n",
        "  plt.subplot(1, len(samples), i+1)\n",
        "  sns.heatmap(onehots[i], cmap='Blues', \n",
        "              annot=True, cbar=False,\n",
        "              yticklabels=['']*(6-len(sample.split(' ')))+sample.split(' '),\n",
        "              xticklabels=[])\n",
        "plt.show()"
      ],
      "metadata": {
        "id": "fP_5p5BGiV-4",
        "colab": {
          "base_uri": "https://localhost:8080/",
          "height": 248
        },
        "outputId": "767c0531-5f4a-4cec-ac80-df4d2b3e973e"
      },
      "execution_count": 57,
      "outputs": [
        {
          "output_type": "display_data",
          "data": {
            "text/plain": [
              "<Figure size 864x288 with 4 Axes>"
            ],
            "image/png": "[encoded data removed]"
          },
          "metadata": {
            "needs_background": "light"
          }
        }
      ]
    },
    {
      "cell_type": "code",
      "source": [
        "# 원핫 인코딩 결과\n",
        "# 행 : 샘플 하나의 최대 길이\n",
        "# 열 : 단어 하나가 몇개의 dimension으로 표현될 수 있는가"
      ],
      "metadata": {
        "id": "ZFWeutVsK3_p"
      },
      "execution_count": null,
      "outputs": []
    },
    {
      "cell_type": "markdown",
      "source": [
        "#### **단어 임베딩**"
      ],
      "metadata": {
        "id": "vynVTAfjkV1S"
      }
    },
    {
      "cell_type": "code",
      "source": [
        "# 단어 하나가 표현할 수 있는 dimesion이 자유롭다. \n",
        "# 원핫 인코딩 처럼 단어 하나를 딕셔너리에 있는 단어 수의 크기만큼의 디맨젼으로 표현 하지 않아도 됨\n",
        "# 1: word 2: hello 3: any\n",
        "# my 1 0 0 0 \n",
        "# word 0 1 0 0 "
      ],
      "metadata": {
        "id": "P7xFUsOCLL9T"
      },
      "execution_count": null,
      "outputs": []
    },
    {
      "cell_type": "code",
      "source": [
        "pads.shape"
      ],
      "metadata": {
        "colab": {
          "base_uri": "https://localhost:8080/"
        },
        "id": "Cihe0zrYMCzq",
        "outputId": "0cd4213b-1d9f-445b-f3a2-b450cd346d26"
      },
      "execution_count": 63,
      "outputs": [
        {
          "output_type": "execute_result",
          "data": {
            "text/plain": [
              "(4, 6)"
            ]
          },
          "metadata": {},
          "execution_count": 63
        }
      ]
    },
    {
      "cell_type": "code",
      "source": [
        "# 인풋 : 패딩된 seqences\n",
        "# 딕셔너리의 모든 영어단어수 11 + 1\n",
        "embedding_layer = layers.Embedding(input_dim=12 , output_dim=3) # 원핫처리후 임베딩\n",
        "# 학습이 필요한 레이어"
      ],
      "metadata": {
        "id": "oivTrne7i4BA"
      },
      "execution_count": 122,
      "outputs": []
    },
    {
      "cell_type": "code",
      "source": [
        "embeded = embedding_layer(pads[0])\n",
        "embeded.shape"
      ],
      "metadata": {
        "id": "UBEezkcbjSRq",
        "colab": {
          "base_uri": "https://localhost:8080/"
        },
        "outputId": "4827004a-e0ff-4bda-b1a3-c8167f35fbf7"
      },
      "execution_count": 123,
      "outputs": [
        {
          "output_type": "execute_result",
          "data": {
            "text/plain": [
              "TensorShape([6, 3])"
            ]
          },
          "metadata": {},
          "execution_count": 123
        }
      ]
    },
    {
      "cell_type": "code",
      "source": [
        "plt.figure(figsize=(len(samples)*3, 4))\n",
        "for i, sample in enumerate(samples):\n",
        "  embeded = embedding_layer(pads[i])\n",
        "  plt.subplot(1, len(samples), i+1)\n",
        "  sns.heatmap(embeded, cmap='Blues', \n",
        "              annot=True, cbar=False,\n",
        "              yticklabels=['']*(6-len(sample.split(' ')))+sample.split(' '),\n",
        "              xticklabels=[])\n",
        "plt.show()"
      ],
      "metadata": {
        "colab": {
          "base_uri": "https://localhost:8080/",
          "height": 248
        },
        "id": "2dYiztv4M0dm",
        "outputId": "a89f363f-8795-4b3c-e723-65f7bfbe34b3"
      },
      "execution_count": 124,
      "outputs": [
        {
          "output_type": "display_data",
          "data": {
            "text/plain": [
              "<Figure size 864x288 with 4 Axes>"
            ],
            "image/png": "[encoded data removed]"
          },
          "metadata": {
            "needs_background": "light"
          }
        }
      ]
    },
    {
      "cell_type": "markdown",
      "source": [
        "## 간단 예제\n",
        "---"
      ],
      "metadata": {
        "id": "_qAvInrFdSXD"
      }
    },
    {
      "cell_type": "markdown",
      "source": [
        "### | **텍스트 전처리**"
      ],
      "metadata": {
        "id": "xweowVT7e2Kh"
      }
    },
    {
      "cell_type": "code",
      "source": [
        "docs = [\"너무 재미 있네요\",\n",
        "        \"최고 예요\",\n",
        "        \"참 잘 만든 영화 예요\",\n",
        "        \"추천 하고 싶은 영화 입니다\",\n",
        "        \"한번 더 보고 싶네요\",\n",
        "        \"글쎄 요\",\"별로 예요\",\"생각 보다 지루 하네요\",\n",
        "        \"연기 가 어색 해요\",\"재미 있어서 한번 더 볼거에요\", \"별로 재미 가 없어요\", \"재미 있고 잘 만든 영화 입니다\",\n",
        "        \"재미 가 별로 없어요\", \"별로 예요\"]\n",
        "classes = np.array([1,1,1,1,1,0,0,0,0,1,0,1,0,0]) # 긍정 1 부정 0\n",
        "print(len(docs), classes.shape)\n",
        "\n",
        "# 토큰\n",
        "token = Tokenizer()\n",
        "token.fit_on_texts(docs)\n",
        "print('딕셔너리: ', token.word_index)\n",
        "print('딕셔너리 총 단어 개수: ', len(token.word_index))\n",
        "\n",
        "# 인덱싱\n",
        "x = token.texts_to_sequences(docs)\n",
        "print(x)\n",
        "# 패딩\n",
        "x_pad = pad_sequences(x, 6) # 한 문장에 최대 몇개의 단어 ?\n",
        "print('패딩 결과\\n', x_pad, x_pad.shape)"
      ],
      "metadata": {
        "id": "pPV-RtzMu3F8",
        "colab": {
          "base_uri": "https://localhost:8080/"
        },
        "outputId": "9cf42db6-617d-42a0-c3ce-55b8695815be"
      },
      "execution_count": 96,
      "outputs": [
        {
          "output_type": "stream",
          "name": "stdout",
          "text": [
            "14 (14,)\n",
            "딕셔너리:  {'재미': 1, '예요': 2, '별로': 3, '영화': 4, '가': 5, '잘': 6, '만든': 7, '입니다': 8, '한번': 9, '더': 10, '없어요': 11, '너무': 12, '있네요': 13, '최고': 14, '참': 15, '추천': 16, '하고': 17, '싶은': 18, '보고': 19, '싶네요': 20, '글쎄': 21, '요': 22, '생각': 23, '보다': 24, '지루': 25, '하네요': 26, '연기': 27, '어색': 28, '해요': 29, '있어서': 30, '볼거에요': 31, '있고': 32}\n",
            "딕셔너리 총 단어 개수:  32\n",
            "[[12, 1, 13], [14, 2], [15, 6, 7, 4, 2], [16, 17, 18, 4, 8], [9, 10, 19, 20], [21, 22], [3, 2], [23, 24, 25, 26], [27, 5, 28, 29], [1, 30, 9, 10, 31], [3, 1, 5, 11], [1, 32, 6, 7, 4, 8], [1, 5, 3, 11], [3, 2]]\n",
            "패딩 결과\n",
            " [[ 0  0  0 12  1 13]\n",
            " [ 0  0  0  0 14  2]\n",
            " [ 0 15  6  7  4  2]\n",
            " [ 0 16 17 18  4  8]\n",
            " [ 0  0  9 10 19 20]\n",
            " [ 0  0  0  0 21 22]\n",
            " [ 0  0  0  0  3  2]\n",
            " [ 0  0 23 24 25 26]\n",
            " [ 0  0 27  5 28 29]\n",
            " [ 0  1 30  9 10 31]\n",
            " [ 0  0  3  1  5 11]\n",
            " [ 1 32  6  7  4  8]\n",
            " [ 0  0  1  5  3 11]\n",
            " [ 0  0  0  0  3  2]] (14, 6)\n"
          ]
        }
      ]
    },
    {
      "cell_type": "markdown",
      "source": [
        "### | **모델 구현 및 학습**"
      ],
      "metadata": {
        "id": "eurAGRoOe4zR"
      }
    },
    {
      "cell_type": "code",
      "source": [
        "# 단어 하나가 원-핫인코딩 되면 크기몇의 벡터 로 표현? : 32 + 1(딕셔너리에 없는/비어있는 단어) "
      ],
      "metadata": {
        "id": "W8vxoUZUVjJu"
      },
      "execution_count": null,
      "outputs": []
    },
    {
      "cell_type": "code",
      "source": [
        "def create_model():\n",
        "  x = layers.Input(shape=6)\n",
        "  y = layers.Embedding(33, 8)(x) \n",
        "  y = layers.Flatten()(y)\n",
        "  y = layers.Dense(1, activation='sigmoid')(y) # 이진분류\n",
        "  return models.Model(x,y)\n",
        "model=create_model()\n",
        "model.summary()"
      ],
      "metadata": {
        "id": "4YSxeeuaZpyd",
        "colab": {
          "base_uri": "https://localhost:8080/"
        },
        "outputId": "263f9341-4316-45a4-e6bb-bf9de4324bac"
      },
      "execution_count": 104,
      "outputs": [
        {
          "output_type": "stream",
          "name": "stdout",
          "text": [
            "Model: \"model_5\"\n",
            "_________________________________________________________________\n",
            " Layer (type)                Output Shape              Param #   \n",
            "=================================================================\n",
            " input_7 (InputLayer)        [(None, 6)]               0         \n",
            "                                                                 \n",
            " embedding_11 (Embedding)    (None, 6, 8)              264       \n",
            "                                                                 \n",
            " flatten_2 (Flatten)         (None, 48)                0         \n",
            "                                                                 \n",
            " dense_1 (Dense)             (None, 1)                 49        \n",
            "                                                                 \n",
            "=================================================================\n",
            "Total params: 313\n",
            "Trainable params: 313\n",
            "Non-trainable params: 0\n",
            "_________________________________________________________________\n"
          ]
        }
      ]
    },
    {
      "cell_type": "code",
      "source": [
        "model.compile(optimizer='adam',\n",
        "               loss = 'binary_crossentropy',\n",
        "               metrics=['acc'])\n",
        "model.fit(x_pad, classes, epochs=20)"
      ],
      "metadata": {
        "id": "Q1uY45u5Zz4I",
        "colab": {
          "base_uri": "https://localhost:8080/"
        },
        "outputId": "72949598-e552-4233-d970-fab165c208cd"
      },
      "execution_count": 111,
      "outputs": [
        {
          "output_type": "stream",
          "name": "stdout",
          "text": [
            "Epoch 1/20\n",
            "1/1 [==============================] - 1s 594ms/step - loss: 0.6483 - acc: 0.9286\n",
            "Epoch 2/20\n",
            "1/1 [==============================] - 0s 9ms/step - loss: 0.6460 - acc: 0.9286\n",
            "Epoch 3/20\n",
            "1/1 [==============================] - 0s 12ms/step - loss: 0.6437 - acc: 0.9286\n",
            "Epoch 4/20\n",
            "1/1 [==============================] - 0s 11ms/step - loss: 0.6414 - acc: 0.9286\n",
            "Epoch 5/20\n",
            "1/1 [==============================] - 0s 14ms/step - loss: 0.6391 - acc: 0.9286\n",
            "Epoch 6/20\n",
            "1/1 [==============================] - 0s 11ms/step - loss: 0.6367 - acc: 0.9286\n",
            "Epoch 7/20\n",
            "1/1 [==============================] - 0s 11ms/step - loss: 0.6343 - acc: 0.9286\n",
            "Epoch 8/20\n",
            "1/1 [==============================] - 0s 13ms/step - loss: 0.6320 - acc: 0.9286\n",
            "Epoch 9/20\n",
            "1/1 [==============================] - 0s 12ms/step - loss: 0.6296 - acc: 0.9286\n",
            "Epoch 10/20\n",
            "1/1 [==============================] - 0s 14ms/step - loss: 0.6272 - acc: 0.9286\n",
            "Epoch 11/20\n",
            "1/1 [==============================] - 0s 10ms/step - loss: 0.6247 - acc: 0.9286\n",
            "Epoch 12/20\n",
            "1/1 [==============================] - 0s 13ms/step - loss: 0.6223 - acc: 0.9286\n",
            "Epoch 13/20\n",
            "1/1 [==============================] - 0s 19ms/step - loss: 0.6198 - acc: 0.9286\n",
            "Epoch 14/20\n",
            "1/1 [==============================] - 0s 9ms/step - loss: 0.6174 - acc: 0.9286\n",
            "Epoch 15/20\n",
            "1/1 [==============================] - 0s 6ms/step - loss: 0.6149 - acc: 0.9286\n",
            "Epoch 16/20\n",
            "1/1 [==============================] - 0s 7ms/step - loss: 0.6124 - acc: 0.9286\n",
            "Epoch 17/20\n",
            "1/1 [==============================] - 0s 7ms/step - loss: 0.6098 - acc: 0.9286\n",
            "Epoch 18/20\n",
            "1/1 [==============================] - 0s 7ms/step - loss: 0.6073 - acc: 0.9286\n",
            "Epoch 19/20\n",
            "1/1 [==============================] - 0s 6ms/step - loss: 0.6047 - acc: 0.9286\n",
            "Epoch 20/20\n",
            "1/1 [==============================] - 0s 6ms/step - loss: 0.6022 - acc: 0.9286\n"
          ]
        },
        {
          "output_type": "execute_result",
          "data": {
            "text/plain": [
              "<keras.callbacks.History at 0x7f182babcdd0>"
            ]
          },
          "metadata": {},
          "execution_count": 111
        }
      ]
    },
    {
      "cell_type": "markdown",
      "source": [
        "### **| 예측**"
      ],
      "metadata": {
        "id": "AJ-eNZ-Ge-xp"
      }
    },
    {
      "cell_type": "code",
      "source": [
        "# 0.5기준, 0이면 부정, 1이면 긍정\n",
        "preds = model.predict(x_pad)\n",
        "for i in range(len(preds)):\n",
        "  print(docs[i], np.round(preds[i][0]))"
      ],
      "metadata": {
        "id": "ZfSIV2RVu3Q1",
        "colab": {
          "base_uri": "https://localhost:8080/"
        },
        "outputId": "59e5a451-e93f-44d2-cfb7-8b540ad6fb2f"
      },
      "execution_count": 112,
      "outputs": [
        {
          "output_type": "stream",
          "name": "stdout",
          "text": [
            "너무 재미 있네요 1.0\n",
            "최고 예요 0.0\n",
            "참 잘 만든 영화 예요 1.0\n",
            "추천 하고 싶은 영화 입니다 1.0\n",
            "한번 더 보고 싶네요 1.0\n",
            "글쎄 요 0.0\n",
            "별로 예요 0.0\n",
            "생각 보다 지루 하네요 0.0\n",
            "연기 가 어색 해요 0.0\n",
            "재미 있어서 한번 더 볼거에요 1.0\n",
            "별로 재미 가 없어요 0.0\n",
            "재미 있고 잘 만든 영화 입니다 1.0\n",
            "재미 가 별로 없어요 0.0\n",
            "별로 예요 0.0\n"
          ]
        }
      ]
    },
    {
      "cell_type": "code",
      "source": [
        "docs_test = ['생각 보다 별로 예요', '별로']\n",
        "# 인덱싱\n",
        "x_test = token.texts_to_sequences(docs_test)\n",
        "print(x_test)\n",
        "# 패딩\n",
        "x_test = pad_sequences(x_test, 6) # 한 문장에 최대 몇개의 단어 ?\n",
        "print('패딩 결과\\n', x_test, x_test.shape)"
      ],
      "metadata": {
        "id": "AMENFMmIcbiw",
        "colab": {
          "base_uri": "https://localhost:8080/"
        },
        "outputId": "5802b870-1121-429c-a9ca-d2e664a91a30"
      },
      "execution_count": 117,
      "outputs": [
        {
          "output_type": "stream",
          "name": "stdout",
          "text": [
            "[[23, 24, 3, 2], [3]]\n",
            "패딩 결과\n",
            " [[ 0  0 23 24  3  2]\n",
            " [ 0  0  0  0  0  3]] (2, 6)\n"
          ]
        }
      ]
    },
    {
      "cell_type": "code",
      "source": [
        "# 0.5기준, 0이면 부정, 1이면 긍정\n",
        "preds = model.predict(x_test)\n",
        "for i in range(len(preds)):\n",
        "  print(docs_test[i], preds[i][0])"
      ],
      "metadata": {
        "colab": {
          "base_uri": "https://localhost:8080/"
        },
        "id": "Kkxyy89EYAEO",
        "outputId": "87303e8a-0235-4ea7-fd15-0dac62e728bc"
      },
      "execution_count": 118,
      "outputs": [
        {
          "output_type": "stream",
          "name": "stdout",
          "text": [
            "생각 보다 별로 예요 0.44350976\n",
            "별로 0.47434914\n"
          ]
        }
      ]
    },
    {
      "cell_type": "code",
      "source": [
        ""
      ],
      "metadata": {
        "id": "LRq20IWFYFHq"
      },
      "execution_count": null,
      "outputs": []
    }
  ]
}