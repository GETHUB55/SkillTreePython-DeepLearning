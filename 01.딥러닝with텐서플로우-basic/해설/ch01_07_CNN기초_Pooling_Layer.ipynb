{
  "nbformat": 4,
  "nbformat_minor": 0,
  "metadata": {
    "colab": {
      "name": "ch01_07_CNN기초-Pooling_Layer.ipynb",
      "provenance": [],
      "collapsed_sections": [],
      "authorship_tag": "ABX9TyMfi9CZXUFNMQok0iwQ34xQ",
      "include_colab_link": true
    },
    "kernelspec": {
      "name": "python3",
      "display_name": "Python 3"
    },
    "language_info": {
      "name": "python"
    },
    "accelerator": "GPU",
    "gpuClass": "standard"
  },
  "cells": [
    {
      "cell_type": "markdown",
      "metadata": {
        "id": "view-in-github",
        "colab_type": "text"
      },
      "source": [
        "<a href=\"https://colab.research.google.com/github/yebiny/SkillTreePython-DeepLearning/blob/main/01.%EB%94%A5%EB%9F%AC%EB%8B%9Dwith%ED%85%90%EC%84%9C%ED%94%8C%EB%A1%9C%EC%9A%B0-basic/%ED%95%B4%EC%84%A4/ch01_07_CNN%EA%B8%B0%EC%B4%88_Pooling_Layer.ipynb\" target=\"_parent\"><img src=\"https://colab.research.google.com/assets/colab-badge.svg\" alt=\"Open In Colab\"/></a>"
      ]
    },
    {
      "cell_type": "markdown",
      "source": [
        "# ch01.07 CNN기초 - Pooling Layer\n",
        "---\n",
        "\n",
        "* 날짜:\n",
        "* 이름:\n",
        "\n",
        "## 학습내용\n",
        "    - CNN의 개념을 이해한다.\n",
        "    - 텐서플로우를 이용해 CNN을 구성한다.\n",
        "    - CNN 모델을 이용해 손글씨 이미지를 분류한다.\n",
        "    - CNN의 feature map에 대해 이해한다.\n",
        "\n",
        "## 데이터셋\n",
        "\n",
        "* MNIST\n",
        "\n",
        "```\n",
        "import numpy as np\n",
        "import tensorflow as tf\n",
        "import matplotlib.pyplot as plt\n",
        "```"
      ],
      "metadata": {
        "id": "sWs2kEC1_b-P"
      }
    },
    {
      "cell_type": "code",
      "source": [
        "import numpy as np\n",
        "import tensorflow as tf\n",
        "import matplotlib.pyplot as plt"
      ],
      "metadata": {
        "id": "7vXrksNr0m1v"
      },
      "execution_count": 1,
      "outputs": []
    },
    {
      "cell_type": "markdown",
      "source": [
        "## Pooling layer\n",
        "---\n",
        "\n",
        "풀링(Pooling) 연산은 커널과 스트라이드 개념이 존재한다는 점에서 합성곱 연산과 유사하지만, 학습해야 할 가중치가 없으며 연산 후에 채널 수가 변하지 않습니다. 일반적으로 합성곱 층(합성곱 연산 + 활성화 함수) 다음에는 풀링 층을 추가하는 것이 일반적입니다. \n"
      ],
      "metadata": {
        "id": "EL2T1tz6Y9yn"
      }
    },
    {
      "cell_type": "code",
      "source": [
        "from tensorflow.keras.layers import MaxPool2D, AvgPool2D"
      ],
      "metadata": {
        "id": "gIW4t6tvstjV"
      },
      "execution_count": 2,
      "outputs": []
    },
    {
      "cell_type": "markdown",
      "source": [
        "### **| 맥스 풀링(Max Pooling)**\n",
        "맥스풀링은 이미지 영역의 최대값 만을 출력값으로 가지는 연산 방법입니다. \n",
        "\n",
        "\n",
        "\n",
        "<p align='center'>\n",
        "<img src=https://github.com/yebiny/SkillTreePython-DeepLearning/blob/main/imgs/ch0107-01.PNG?raw=true width=400>\n",
        "</p>\n",
        "\n"
      ],
      "metadata": {
        "id": "m3Y7QC2Lg_eo"
      }
    },
    {
      "cell_type": "code",
      "source": [
        "x = np.array([1,0,1,1,1,2,0,0,1,0,1,0,0,0,1,1], dtype='float16').reshape(1,4,4,1)\n",
        "print(x[0,:,:,0], x.shape)\n",
        "y = MaxPool2D(pool_size=2, strides=1)(x) # kernel_size = pool_size input shape = (n, w, h, ch)\n",
        "print(y[0,:,:,0], y.shape)"
      ],
      "metadata": {
        "id": "X3MbCf7Bk_yj",
        "outputId": "b6242d9c-3f03-4eb2-c594-2c9c4627cef4",
        "colab": {
          "base_uri": "https://localhost:8080/"
        }
      },
      "execution_count": 3,
      "outputs": [
        {
          "output_type": "stream",
          "name": "stdout",
          "text": [
            "[[1. 0. 1. 1.]\n",
            " [1. 2. 0. 0.]\n",
            " [1. 0. 1. 0.]\n",
            " [0. 0. 1. 1.]] (1, 4, 4, 1)\n",
            "tf.Tensor(\n",
            "[[2. 2. 1.]\n",
            " [2. 2. 1.]\n",
            " [1. 1. 1.]], shape=(3, 3), dtype=float32) (1, 3, 3, 1)\n"
          ]
        }
      ]
    },
    {
      "cell_type": "markdown",
      "source": [
        "### **| 평균 풀링(Average Pooling)**\n",
        "\n",
        "\n",
        "평균풀링은 이미지 영역의 평균값 을 출력값으로 가지는 연산 방법입니다. \n",
        "\n",
        "\n",
        "<p align='center'>\n",
        "<img src=https://github.com/yebiny/SkillTreePython-DeepLearning/blob/main/imgs/ch0107-02.PNG?raw=true width=400>\n",
        "</p>\n",
        "\n",
        "\n",
        "\n"
      ],
      "metadata": {
        "id": "qu4lThvGhun1"
      }
    },
    {
      "cell_type": "code",
      "source": [
        "x = np.array([1,0,1,1,1,2,0,0,1,0,1,0,0,0,1,1], dtype='float16').reshape(1,4,4,1)\n",
        "print(x[0,:,:,0], x.shape)\n",
        "y = AvgPool2D(pool_size=2, strides=1)(x) # kernel_size = pool_size input shape = (n, w, h, ch)\n",
        "print(y[0,:,:,0], y.shape)"
      ],
      "metadata": {
        "id": "o1XirsZ5mqAY",
        "outputId": "4b363dc9-1e1e-4c2e-c458-a41444c28526",
        "colab": {
          "base_uri": "https://localhost:8080/"
        }
      },
      "execution_count": 4,
      "outputs": [
        {
          "output_type": "stream",
          "name": "stdout",
          "text": [
            "[[1. 0. 1. 1.]\n",
            " [1. 2. 0. 0.]\n",
            " [1. 0. 1. 0.]\n",
            " [0. 0. 1. 1.]] (1, 4, 4, 1)\n",
            "tf.Tensor(\n",
            "[[1.   0.75 0.5 ]\n",
            " [1.   0.75 0.25]\n",
            " [0.25 0.5  0.75]], shape=(3, 3), dtype=float32) (1, 3, 3, 1)\n"
          ]
        }
      ]
    },
    {
      "cell_type": "markdown",
      "source": [
        "## LeNet-5\n",
        "---\n",
        "\n",
        "LeNet-5[(논문)](http://yann.lecun.com/exdb/publis/pdf/lecun-01a.pdf) 구조는 아마도 가장 널리 알려진 CNN 구조일 것입니다. 이 구조는 1998년 얀 르쿤이 만들었으며 손글씨 숫자 인식(MNIST)에 널리 사용되었습니다. \n",
        "\n",
        "\n",
        "![](https://www.datasciencecentral.com/wp-content/uploads/2021/10/1lvvWF48t7cyRWqct13eU0w.jpeg)"
      ],
      "metadata": {
        "id": "smec5PcVY_iZ"
      }
    },
    {
      "cell_type": "markdown",
      "source": [
        "### | LeNet-5을 이용한 손글씨 이미지 분류"
      ],
      "metadata": {
        "id": "H5gXVz4_jTyl"
      }
    },
    {
      "cell_type": "markdown",
      "source": [
        "####  **데이터 준비**"
      ],
      "metadata": {
        "id": "9XFyQs_Nm6w0"
      }
    },
    {
      "cell_type": "code",
      "source": [
        "mnist = tf.keras.datasets.mnist\n",
        "(x_train, y_train), (x_test, y_test) = mnist.load_data()\n",
        "# 전처리-정규화\n",
        "x_train, x_test = x_train/255.0 , x_test/255.0\n",
        "# 전처리-shape 맞추기\n",
        "x_train = np.expand_dims(x_train, 3)\n",
        "x_test = np.expand_dims(x_test, 3)\n",
        "\n",
        "print(x_train.shape, x_test.shape, y_train.shape, y_test.shape)"
      ],
      "metadata": {
        "id": "eFbUg6pkhV0I",
        "outputId": "6468181a-8b12-499c-ee63-89ad25b8b336",
        "colab": {
          "base_uri": "https://localhost:8080/"
        }
      },
      "execution_count": 5,
      "outputs": [
        {
          "output_type": "stream",
          "name": "stdout",
          "text": [
            "Downloading data from https://storage.googleapis.com/tensorflow/tf-keras-datasets/mnist.npz\n",
            "11493376/11490434 [==============================] - 0s 0us/step\n",
            "11501568/11490434 [==============================] - 0s 0us/step\n",
            "(60000, 28, 28, 1) (10000, 28, 28, 1) (60000,) (10000,)\n"
          ]
        }
      ]
    },
    {
      "cell_type": "markdown",
      "source": [
        "#### **모델 구성**"
      ],
      "metadata": {
        "id": "OsX9GfKbiKRy"
      }
    },
    {
      "cell_type": "code",
      "source": [
        "from tensorflow.keras import layers, models, utils\n",
        "def build_lenet5():\n",
        "  x = layers.Input(shape=(28,28,1))\n",
        "  y = layers.Conv2D(filters=6, kernel_size=5, padding='same', activation='tanh')(x)\n",
        "  y = layers.AvgPool2D(pool_size=2, strides=2)(y) # pooling 레이어에서는 filters 없어서, 채널을 조정 불가\n",
        "  y = layers.Conv2D(filters=16, kernel_size=5, padding='valid', activation='tanh')(y)\n",
        "  y = layers.MaxPool2D(pool_size=2, strides=2)(y)\n",
        "\n",
        "  y = layers.Flatten()(y)\n",
        "  y = layers.Dense(120, activation='tanh')(y)\n",
        "  y = layers.Dense(84, activation='tanh')(y)\n",
        "  y = layers.Dense(10, activation='softmax')(y)\n",
        "  model = tf.keras.models.Model(x, y)\n",
        "  return model\n",
        "\n",
        "model = build_lenet5()\n",
        "model.summary()"
      ],
      "metadata": {
        "id": "6M3wFU_lZFoV",
        "outputId": "c1e175cf-7afc-45fd-d3c3-9cebaba6ea02",
        "colab": {
          "base_uri": "https://localhost:8080/"
        }
      },
      "execution_count": 11,
      "outputs": [
        {
          "output_type": "stream",
          "name": "stdout",
          "text": [
            "Model: \"model_4\"\n",
            "_________________________________________________________________\n",
            " Layer (type)                Output Shape              Param #   \n",
            "=================================================================\n",
            " input_5 (InputLayer)        [(None, 28, 28, 1)]       0         \n",
            "                                                                 \n",
            " conv2d_8 (Conv2D)           (None, 28, 28, 6)         156       \n",
            "                                                                 \n",
            " average_pooling2d_5 (Averag  (None, 14, 14, 6)        0         \n",
            " ePooling2D)                                                     \n",
            "                                                                 \n",
            " conv2d_9 (Conv2D)           (None, 10, 10, 16)        2416      \n",
            "                                                                 \n",
            " max_pooling2d_5 (MaxPooling  (None, 5, 5, 16)         0         \n",
            " 2D)                                                             \n",
            "                                                                 \n",
            " flatten_4 (Flatten)         (None, 400)               0         \n",
            "                                                                 \n",
            " dense_12 (Dense)            (None, 120)               48120     \n",
            "                                                                 \n",
            " dense_13 (Dense)            (None, 84)                10164     \n",
            "                                                                 \n",
            " dense_14 (Dense)            (None, 10)                850       \n",
            "                                                                 \n",
            "=================================================================\n",
            "Total params: 61,706\n",
            "Trainable params: 61,706\n",
            "Non-trainable params: 0\n",
            "_________________________________________________________________\n"
          ]
        }
      ]
    },
    {
      "cell_type": "markdown",
      "source": [
        "#### **학습 및 평가**"
      ],
      "metadata": {
        "id": "rz5mqFWCiLiv"
      }
    },
    {
      "cell_type": "code",
      "source": [
        "model = build_lenet5()\n",
        "model.summary()\n",
        "model.compile(optimizer='sgd', # 경사하강법 (배치개수에 한번씩 업데이트)\n",
        "              loss = 'sparse_categorical_crossentropy',\n",
        "              metrics=['accuracy'])\n",
        "model.fit(x_train,y_train, epochs=10)\n",
        "print('------------- 테스트 스코어 -----------------')\n",
        "model.evaluate(x_test, y_test)"
      ],
      "metadata": {
        "id": "pKqI02-5aZ1I",
        "outputId": "3882f901-2f0e-4872-9979-2f99065f20ba",
        "colab": {
          "base_uri": "https://localhost:8080/"
        }
      },
      "execution_count": 7,
      "outputs": [
        {
          "output_type": "stream",
          "name": "stdout",
          "text": [
            "Model: \"model\"\n",
            "_________________________________________________________________\n",
            " Layer (type)                Output Shape              Param #   \n",
            "=================================================================\n",
            " input_1 (InputLayer)        [(None, 28, 28, 1)]       0         \n",
            "                                                                 \n",
            " conv2d (Conv2D)             (None, 28, 28, 6)         156       \n",
            "                                                                 \n",
            " average_pooling2d_1 (Averag  (None, 14, 14, 6)        0         \n",
            " ePooling2D)                                                     \n",
            "                                                                 \n",
            " conv2d_1 (Conv2D)           (None, 10, 10, 16)        2416      \n",
            "                                                                 \n",
            " max_pooling2d_1 (MaxPooling  (None, 5, 5, 16)         0         \n",
            " 2D)                                                             \n",
            "                                                                 \n",
            " flatten (Flatten)           (None, 400)               0         \n",
            "                                                                 \n",
            " dense (Dense)               (None, 120)               48120     \n",
            "                                                                 \n",
            " dense_1 (Dense)             (None, 84)                10164     \n",
            "                                                                 \n",
            " dense_2 (Dense)             (None, 10)                850       \n",
            "                                                                 \n",
            "=================================================================\n",
            "Total params: 61,706\n",
            "Trainable params: 61,706\n",
            "Non-trainable params: 0\n",
            "_________________________________________________________________\n",
            "Epoch 1/10\n",
            "1875/1875 [==============================] - 15s 3ms/step - loss: 0.4902 - accuracy: 0.8786\n",
            "Epoch 2/10\n",
            "1875/1875 [==============================] - 5s 3ms/step - loss: 0.1693 - accuracy: 0.9529\n",
            "Epoch 3/10\n",
            "1875/1875 [==============================] - 5s 3ms/step - loss: 0.1204 - accuracy: 0.9660\n",
            "Epoch 4/10\n",
            "1875/1875 [==============================] - 5s 3ms/step - loss: 0.0974 - accuracy: 0.9718\n",
            "Epoch 5/10\n",
            "1875/1875 [==============================] - 5s 3ms/step - loss: 0.0833 - accuracy: 0.9765\n",
            "Epoch 6/10\n",
            "1875/1875 [==============================] - 5s 3ms/step - loss: 0.0731 - accuracy: 0.9788\n",
            "Epoch 7/10\n",
            "1875/1875 [==============================] - 5s 3ms/step - loss: 0.0653 - accuracy: 0.9811\n",
            "Epoch 8/10\n",
            "1875/1875 [==============================] - 5s 3ms/step - loss: 0.0592 - accuracy: 0.9831\n",
            "Epoch 9/10\n",
            "1875/1875 [==============================] - 5s 3ms/step - loss: 0.0548 - accuracy: 0.9839\n",
            "Epoch 10/10\n",
            "1875/1875 [==============================] - 5s 3ms/step - loss: 0.0504 - accuracy: 0.9857\n",
            "------------- 테스트 스코어 -----------------\n",
            "313/313 [==============================] - 1s 2ms/step - loss: 0.0491 - accuracy: 0.9835\n"
          ]
        },
        {
          "output_type": "execute_result",
          "data": {
            "text/plain": [
              "[0.04913868382573128, 0.9835000038146973]"
            ]
          },
          "metadata": {},
          "execution_count": 7
        }
      ]
    },
    {
      "cell_type": "markdown",
      "source": [
        "### **| Feature map**"
      ],
      "metadata": {
        "id": "MDlSRAle6SKL"
      }
    },
    {
      "cell_type": "markdown",
      "source": [
        "#### **feature map 얻기**"
      ],
      "metadata": {
        "id": "Idw3nITWaaGb"
      }
    },
    {
      "cell_type": "code",
      "source": [
        ""
      ],
      "metadata": {
        "id": "sEFcCb5Btua2"
      },
      "execution_count": 7,
      "outputs": []
    },
    {
      "cell_type": "markdown",
      "source": [
        "#### **시각화**\n",
        "\n",
        "![](https://www.datasciencecentral.com/wp-content/uploads/2021/10/1lvvWF48t7cyRWqct13eU0w.jpeg)\n",
        "\n",
        "[시각화 함수 스크립트](https://github.com/yebiny/SkillTreePython-DeepLearning/blob/main/01.%EB%94%A5%EB%9F%AC%EB%8B%9Dwith%ED%85%90%EC%84%9C%ED%94%8C%EB%A1%9C%EC%9A%B0-basic/scripts/featuremap_dict.py)"
      ],
      "metadata": {
        "id": "KS8K45aqWbYb"
      }
    },
    {
      "cell_type": "code",
      "source": [
        ""
      ],
      "metadata": {
        "id": "lR5o-iP0znfa"
      },
      "execution_count": 7,
      "outputs": []
    },
    {
      "cell_type": "markdown",
      "source": [
        "## 과제 1. 의류 이미지 분류\n",
        "---\n",
        "* 데이터셋 : f-minst(fashoin mnist)\n",
        "* 데이터를 소개하세요.\n",
        "* 데이터의 형태를 파악하세요\n",
        "* 적절한 모델을 생성하세요\n",
        "* 데이터에 적합하게 학습을 진행하세요."
      ],
      "metadata": {
        "id": "PxzWofuOruDD"
      }
    },
    {
      "cell_type": "code",
      "source": [
        ""
      ],
      "metadata": {
        "id": "-9STHCzXruDD"
      },
      "execution_count": 7,
      "outputs": []
    },
    {
      "cell_type": "markdown",
      "source": [
        "## 과제 2. 동물 및 물체 이미지 분류\n",
        "---\n",
        "* 데이터셋 : cifar-10\n",
        "* 데이터의 형태를 파악하세요\n",
        "* 적절한 모델을 생성하세요\n",
        "* 데이터를 학습하세요."
      ],
      "metadata": {
        "id": "rxucnPkXrj9D"
      }
    },
    {
      "cell_type": "code",
      "source": [
        ""
      ],
      "metadata": {
        "id": "ck-A9LrDrj9D"
      },
      "execution_count": 7,
      "outputs": []
    }
  ]
}