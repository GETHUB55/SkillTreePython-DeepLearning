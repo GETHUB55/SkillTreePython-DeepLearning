{
  "nbformat": 4,
  "nbformat_minor": 0,
  "metadata": {
    "colab": {
      "name": "ch01_05_DNN기초-다중분류모델.ipynb",
      "provenance": [],
      "collapsed_sections": [],
      "machine_shape": "hm",
      "authorship_tag": "ABX9TyOtxTVbfOrRbi2oOJ+H3W5m",
      "include_colab_link": true
    },
    "kernelspec": {
      "name": "python3",
      "display_name": "Python 3"
    },
    "language_info": {
      "name": "python"
    },
    "accelerator": "GPU",
    "gpuClass": "standard"
  },
  "cells": [
    {
      "cell_type": "markdown",
      "metadata": {
        "id": "view-in-github",
        "colab_type": "text"
      },
      "source": [
        "<a href=\"https://colab.research.google.com/github/yebiny/SkillTreePython-DeepLearning/blob/main/01.%EB%94%A5%EB%9F%AC%EB%8B%9Dwith%ED%85%90%EC%84%9C%ED%94%8C%EB%A1%9C%EC%9A%B0-basic/%ED%95%B4%EC%84%A4/ch01_05_DNN%EA%B8%B0%EC%B4%88_%EB%8B%A4%EC%A4%91%EB%B6%84%EB%A5%98%EB%AA%A8%EB%8D%B8.ipynb\" target=\"_parent\"><img src=\"https://colab.research.google.com/assets/colab-badge.svg\" alt=\"Open In Colab\"/></a>"
      ]
    },
    {
      "cell_type": "markdown",
      "source": [
        "# ch01.05. 딥러닝 다중 분류 모델\n",
        "---\n",
        "* 날짜:\n",
        "* 이름:\n",
        "\n",
        "## 학습내용\n",
        "    - 딥러닝을 이용한 멀티클래스 분류 진행\n",
        "    - 적절한 손실함수와 최적화 함수 정의\n",
        "    - 평가 및 예측\n",
        "    \n",
        "## 학습자료\n",
        "\n",
        "* 모두의딥러닝\n",
        "* 데이터\n",
        "  * `iris.csv`\n",
        "  * MNIST 데이터셋\n",
        "\n",
        "\n",
        "```\n",
        "import numpy as np\n",
        "import pandas as pd\n",
        "import tensorflow as tf\n",
        "import matplotlib.pyplot as plt\n",
        "import seaborn as sns\n",
        "seed=1\n",
        "np.random.seed(seed)\n",
        "tf.random.set_seed(seed)\n",
        "```\n",
        "\n",
        "```\n",
        "https://github.com/yebiny/SkillTreePython-DeepLearning.git\n",
        "```"
      ],
      "metadata": {
        "id": "sWs2kEC1_b-P"
      }
    },
    {
      "cell_type": "code",
      "source": [
        "import numpy as np\n",
        "import pandas as pd\n",
        "import tensorflow as tf\n",
        "import matplotlib.pyplot as plt\n",
        "import seaborn as sns\n",
        "seed=1\n",
        "np.random.seed(seed)\n",
        "tf.random.set_seed(seed)"
      ],
      "metadata": {
        "id": "HJqjPthwgTg-"
      },
      "execution_count": 1,
      "outputs": []
    },
    {
      "cell_type": "code",
      "source": [
        "! git clone https://github.com/yebiny/SkillTreePython-DeepLearning.git"
      ],
      "metadata": {
        "id": "XiKfkQgYfoIE",
        "colab": {
          "base_uri": "https://localhost:8080/"
        },
        "outputId": "a2528244-578c-4c74-e293-e69316088f02"
      },
      "execution_count": 2,
      "outputs": [
        {
          "output_type": "stream",
          "name": "stdout",
          "text": [
            "Cloning into 'SkillTreePython-DeepLearning'...\n",
            "remote: Enumerating objects: 359, done.\u001b[K\n",
            "remote: Counting objects: 100% (181/181), done.\u001b[K\n",
            "remote: Compressing objects: 100% (101/101), done.\u001b[K\n",
            "remote: Total 359 (delta 112), reused 120 (delta 78), pack-reused 178\u001b[K\n",
            "Receiving objects: 100% (359/359), 22.36 MiB | 19.72 MiB/s, done.\n",
            "Resolving deltas: 100% (147/147), done.\n"
          ]
        }
      ]
    },
    {
      "cell_type": "markdown",
      "source": [
        "## 아이리스 꽃 종류 예측\n",
        "---\n",
        "\n",
        "\n",
        "```\n",
        "- 0 sepal_length  꽃받침 길이\n",
        "- 1 sepal_width 꽃받침 너비\n",
        "- 2 petal_length 꽃임 길이\n",
        "- 3 petal_width 꽃잎 너비\n",
        "- 4 species 꽃의 종류 {setosa, versicolor virginica}\n",
        "```\n",
        "<p align='center'>\n",
        "<img src=https://github.com/yebiny/SkillTreePython-DeepLearning/blob/main/imgs/ch0105-01.PNG?raw=true width=550>\n",
        "</p>\n"
      ],
      "metadata": {
        "id": "4wsuH8GzftqZ"
      }
    },
    {
      "cell_type": "code",
      "execution_count": 4,
      "metadata": {
        "id": "68PCrczmzdId",
        "colab": {
          "base_uri": "https://localhost:8080/",
          "height": 424
        },
        "outputId": "12badb12-afb3-4202-fb22-69946fe4c22a"
      },
      "outputs": [
        {
          "output_type": "execute_result",
          "data": {
            "text/plain": [
              "       0    1    2    3               4\n",
              "0    5.1  3.5  1.4  0.2     Iris-setosa\n",
              "1    4.9  3.0  1.4  0.2     Iris-setosa\n",
              "2    4.7  3.2  1.3  0.2     Iris-setosa\n",
              "3    4.6  3.1  1.5  0.2     Iris-setosa\n",
              "4    5.0  3.6  1.4  0.2     Iris-setosa\n",
              "..   ...  ...  ...  ...             ...\n",
              "145  6.7  3.0  5.2  2.3  Iris-virginica\n",
              "146  6.3  2.5  5.0  1.9  Iris-virginica\n",
              "147  6.5  3.0  5.2  2.0  Iris-virginica\n",
              "148  6.2  3.4  5.4  2.3  Iris-virginica\n",
              "149  5.9  3.0  5.1  1.8  Iris-virginica\n",
              "\n",
              "[150 rows x 5 columns]"
            ],
            "text/html": [
              "\n",
              "  <div id=\"df-9143a20a-4e5c-4197-91b1-c8b8a68f67d9\">\n",
              "    <div class=\"colab-df-container\">\n",
              "      <div>\n",
              "<style scoped>\n",
              "    .dataframe tbody tr th:only-of-type {\n",
              "        vertical-align: middle;\n",
              "    }\n",
              "\n",
              "    .dataframe tbody tr th {\n",
              "        vertical-align: top;\n",
              "    }\n",
              "\n",
              "    .dataframe thead th {\n",
              "        text-align: right;\n",
              "    }\n",
              "</style>\n",
              "<table border=\"1\" class=\"dataframe\">\n",
              "  <thead>\n",
              "    <tr style=\"text-align: right;\">\n",
              "      <th></th>\n",
              "      <th>0</th>\n",
              "      <th>1</th>\n",
              "      <th>2</th>\n",
              "      <th>3</th>\n",
              "      <th>4</th>\n",
              "    </tr>\n",
              "  </thead>\n",
              "  <tbody>\n",
              "    <tr>\n",
              "      <th>0</th>\n",
              "      <td>5.1</td>\n",
              "      <td>3.5</td>\n",
              "      <td>1.4</td>\n",
              "      <td>0.2</td>\n",
              "      <td>Iris-setosa</td>\n",
              "    </tr>\n",
              "    <tr>\n",
              "      <th>1</th>\n",
              "      <td>4.9</td>\n",
              "      <td>3.0</td>\n",
              "      <td>1.4</td>\n",
              "      <td>0.2</td>\n",
              "      <td>Iris-setosa</td>\n",
              "    </tr>\n",
              "    <tr>\n",
              "      <th>2</th>\n",
              "      <td>4.7</td>\n",
              "      <td>3.2</td>\n",
              "      <td>1.3</td>\n",
              "      <td>0.2</td>\n",
              "      <td>Iris-setosa</td>\n",
              "    </tr>\n",
              "    <tr>\n",
              "      <th>3</th>\n",
              "      <td>4.6</td>\n",
              "      <td>3.1</td>\n",
              "      <td>1.5</td>\n",
              "      <td>0.2</td>\n",
              "      <td>Iris-setosa</td>\n",
              "    </tr>\n",
              "    <tr>\n",
              "      <th>4</th>\n",
              "      <td>5.0</td>\n",
              "      <td>3.6</td>\n",
              "      <td>1.4</td>\n",
              "      <td>0.2</td>\n",
              "      <td>Iris-setosa</td>\n",
              "    </tr>\n",
              "    <tr>\n",
              "      <th>...</th>\n",
              "      <td>...</td>\n",
              "      <td>...</td>\n",
              "      <td>...</td>\n",
              "      <td>...</td>\n",
              "      <td>...</td>\n",
              "    </tr>\n",
              "    <tr>\n",
              "      <th>145</th>\n",
              "      <td>6.7</td>\n",
              "      <td>3.0</td>\n",
              "      <td>5.2</td>\n",
              "      <td>2.3</td>\n",
              "      <td>Iris-virginica</td>\n",
              "    </tr>\n",
              "    <tr>\n",
              "      <th>146</th>\n",
              "      <td>6.3</td>\n",
              "      <td>2.5</td>\n",
              "      <td>5.0</td>\n",
              "      <td>1.9</td>\n",
              "      <td>Iris-virginica</td>\n",
              "    </tr>\n",
              "    <tr>\n",
              "      <th>147</th>\n",
              "      <td>6.5</td>\n",
              "      <td>3.0</td>\n",
              "      <td>5.2</td>\n",
              "      <td>2.0</td>\n",
              "      <td>Iris-virginica</td>\n",
              "    </tr>\n",
              "    <tr>\n",
              "      <th>148</th>\n",
              "      <td>6.2</td>\n",
              "      <td>3.4</td>\n",
              "      <td>5.4</td>\n",
              "      <td>2.3</td>\n",
              "      <td>Iris-virginica</td>\n",
              "    </tr>\n",
              "    <tr>\n",
              "      <th>149</th>\n",
              "      <td>5.9</td>\n",
              "      <td>3.0</td>\n",
              "      <td>5.1</td>\n",
              "      <td>1.8</td>\n",
              "      <td>Iris-virginica</td>\n",
              "    </tr>\n",
              "  </tbody>\n",
              "</table>\n",
              "<p>150 rows × 5 columns</p>\n",
              "</div>\n",
              "      <button class=\"colab-df-convert\" onclick=\"convertToInteractive('df-9143a20a-4e5c-4197-91b1-c8b8a68f67d9')\"\n",
              "              title=\"Convert this dataframe to an interactive table.\"\n",
              "              style=\"display:none;\">\n",
              "        \n",
              "  <svg xmlns=\"http://www.w3.org/2000/svg\" height=\"24px\"viewBox=\"0 0 24 24\"\n",
              "       width=\"24px\">\n",
              "    <path d=\"M0 0h24v24H0V0z\" fill=\"none\"/>\n",
              "    <path d=\"M18.56 5.44l.94 2.06.94-2.06 2.06-.94-2.06-.94-.94-2.06-.94 2.06-2.06.94zm-11 1L8.5 8.5l.94-2.06 2.06-.94-2.06-.94L8.5 2.5l-.94 2.06-2.06.94zm10 10l.94 2.06.94-2.06 2.06-.94-2.06-.94-.94-2.06-.94 2.06-2.06.94z\"/><path d=\"M17.41 7.96l-1.37-1.37c-.4-.4-.92-.59-1.43-.59-.52 0-1.04.2-1.43.59L10.3 9.45l-7.72 7.72c-.78.78-.78 2.05 0 2.83L4 21.41c.39.39.9.59 1.41.59.51 0 1.02-.2 1.41-.59l7.78-7.78 2.81-2.81c.8-.78.8-2.07 0-2.86zM5.41 20L4 18.59l7.72-7.72 1.47 1.35L5.41 20z\"/>\n",
              "  </svg>\n",
              "      </button>\n",
              "      \n",
              "  <style>\n",
              "    .colab-df-container {\n",
              "      display:flex;\n",
              "      flex-wrap:wrap;\n",
              "      gap: 12px;\n",
              "    }\n",
              "\n",
              "    .colab-df-convert {\n",
              "      background-color: #E8F0FE;\n",
              "      border: none;\n",
              "      border-radius: 50%;\n",
              "      cursor: pointer;\n",
              "      display: none;\n",
              "      fill: #1967D2;\n",
              "      height: 32px;\n",
              "      padding: 0 0 0 0;\n",
              "      width: 32px;\n",
              "    }\n",
              "\n",
              "    .colab-df-convert:hover {\n",
              "      background-color: #E2EBFA;\n",
              "      box-shadow: 0px 1px 2px rgba(60, 64, 67, 0.3), 0px 1px 3px 1px rgba(60, 64, 67, 0.15);\n",
              "      fill: #174EA6;\n",
              "    }\n",
              "\n",
              "    [theme=dark] .colab-df-convert {\n",
              "      background-color: #3B4455;\n",
              "      fill: #D2E3FC;\n",
              "    }\n",
              "\n",
              "    [theme=dark] .colab-df-convert:hover {\n",
              "      background-color: #434B5C;\n",
              "      box-shadow: 0px 1px 3px 1px rgba(0, 0, 0, 0.15);\n",
              "      filter: drop-shadow(0px 1px 2px rgba(0, 0, 0, 0.3));\n",
              "      fill: #FFFFFF;\n",
              "    }\n",
              "  </style>\n",
              "\n",
              "      <script>\n",
              "        const buttonEl =\n",
              "          document.querySelector('#df-9143a20a-4e5c-4197-91b1-c8b8a68f67d9 button.colab-df-convert');\n",
              "        buttonEl.style.display =\n",
              "          google.colab.kernel.accessAllowed ? 'block' : 'none';\n",
              "\n",
              "        async function convertToInteractive(key) {\n",
              "          const element = document.querySelector('#df-9143a20a-4e5c-4197-91b1-c8b8a68f67d9');\n",
              "          const dataTable =\n",
              "            await google.colab.kernel.invokeFunction('convertToInteractive',\n",
              "                                                     [key], {});\n",
              "          if (!dataTable) return;\n",
              "\n",
              "          const docLinkHtml = 'Like what you see? Visit the ' +\n",
              "            '<a target=\"_blank\" href=https://colab.research.google.com/notebooks/data_table.ipynb>data table notebook</a>'\n",
              "            + ' to learn more about interactive tables.';\n",
              "          element.innerHTML = '';\n",
              "          dataTable['output_type'] = 'display_data';\n",
              "          await google.colab.output.renderOutput(dataTable, element);\n",
              "          const docLink = document.createElement('div');\n",
              "          docLink.innerHTML = docLinkHtml;\n",
              "          element.appendChild(docLink);\n",
              "        }\n",
              "      </script>\n",
              "    </div>\n",
              "  </div>\n",
              "  "
            ]
          },
          "metadata": {},
          "execution_count": 4
        }
      ],
      "source": [
        "data_path = '/content/SkillTreePython-DeepLearning/dataset/iris.csv'\n",
        "df = pd.read_csv(data_path, header=None)\n",
        "df"
      ]
    },
    {
      "cell_type": "code",
      "source": [
        "sns.countplot(x=df[4]);plt.title('all dataset')"
      ],
      "metadata": {
        "id": "PoXYFIE9_mTS",
        "colab": {
          "base_uri": "https://localhost:8080/",
          "height": 314
        },
        "outputId": "447660b2-428e-4562-f7cd-1a39afbb5804"
      },
      "execution_count": 6,
      "outputs": [
        {
          "output_type": "execute_result",
          "data": {
            "text/plain": [
              "Text(0.5, 1.0, 'all dataset')"
            ]
          },
          "metadata": {},
          "execution_count": 6
        },
        {
          "output_type": "display_data",
          "data": {
            "text/plain": [
              "<Figure size 432x288 with 1 Axes>"
            ],
            "image/png": "[encoded data removed]"
          },
          "metadata": {
            "needs_background": "light"
          }
        }
      ]
    },
    {
      "cell_type": "code",
      "source": [
        "from sklearn.preprocessing import StandardScaler, OneHotEncoder\n",
        "from sklearn.model_selection import train_test_split\n",
        "\n",
        "def iris_preprocess(df, seed=1):\n",
        "  # x-y 분할\n",
        "  x = df.values[:, :-1] #(전체샘플, 마지막 변수 전까지)\n",
        "  y = df.values[:, -1] # (전체샘플, 마지막 변수)\n",
        "  # 정규화 (x 데이터만)\n",
        "  ss = StandardScaler()\n",
        "  x = ss.fit_transform(x)\n",
        "  # 원-핫 (y 데이터만)\n",
        "  oh = OneHotEncoder(sparse=False)\n",
        "  y = oh.fit_transform(np.expand_dims(y, 1)) # 인풋이 무조건 행렬 (150, ) -> (150, 1)\n",
        "  print(f'원-핫 변환 순서: {oh.categories_}')\n",
        "  # train-test 분할\n",
        "  x_train, x_test, y_train, y_test = train_test_split(x, y, test_size=0.3,\n",
        "                                                      random_state=seed,\n",
        "                                                      stratify = y)\n",
        "  return x_train, x_test, y_train, y_test\n",
        "\n",
        "x_train, x_test, y_train, y_test = iris_preprocess(df)\n",
        "print(f'데이터 형태: {x_train.shape}, {x_test.shape}, {y_train.shape}, {y_test.shape}')\n",
        "print(f'첫번째 샘플 x:{x_train[0]} y:{y_train[0]}')"
      ],
      "metadata": {
        "id": "BkDCCMLBgawg",
        "colab": {
          "base_uri": "https://localhost:8080/"
        },
        "outputId": "f94d1c37-c8e4-4ca5-c643-dceb5e661d45"
      },
      "execution_count": 8,
      "outputs": [
        {
          "output_type": "stream",
          "name": "stdout",
          "text": [
            "원-핫 변환 순서: [array(['Iris-setosa', 'Iris-versicolor', 'Iris-virginica'], dtype=object)]\n",
            "데이터 형태: (105, 4), (45, 4), (105, 3), (45, 3)\n",
            "첫번째 샘플 x:[ 0.55333328 -0.58776353  0.76275864  0.39617188] y:[0. 0. 1.]\n"
          ]
        }
      ]
    },
    {
      "cell_type": "markdown",
      "source": [
        "* 예측값 분포 확인"
      ],
      "metadata": {
        "id": "87SJwUDWglBP"
      }
    },
    {
      "cell_type": "code",
      "source": [
        "plt.subplot(121);sns.countplot(x=np.argmax(y_train, axis=1));plt.title('train dataset')\n",
        "plt.subplot(122);sns.countplot(x=np.argmax(y_test, axis=1));plt.title('test dataset')"
      ],
      "metadata": {
        "id": "hLNYhitOgf0o",
        "colab": {
          "base_uri": "https://localhost:8080/",
          "height": 300
        },
        "outputId": "d289593e-1966-435b-b16c-7a22430247fd"
      },
      "execution_count": 10,
      "outputs": [
        {
          "output_type": "execute_result",
          "data": {
            "text/plain": [
              "Text(0.5, 1.0, 'test dataset')"
            ]
          },
          "metadata": {},
          "execution_count": 10
        },
        {
          "output_type": "display_data",
          "data": {
            "text/plain": [
              "<Figure size 432x288 with 2 Axes>"
            ],
            "image/png": "[encoded data removed]"
          },
          "metadata": {
            "needs_background": "light"
          }
        }
      ]
    },
    {
      "cell_type": "markdown",
      "source": [
        "### | 모델\n",
        "\n",
        "\n",
        "<p align='center'>\n",
        "<img src=https://github.com/yebiny/SkillTreePython-DeepLearning/blob/main/imgs/ch0105-02.PNG?raw=true width=800>\n",
        "</p>\n"
      ],
      "metadata": {
        "id": "DHshtWB9r0be"
      }
    },
    {
      "cell_type": "markdown",
      "source": [
        "#### **모델 생성**"
      ],
      "metadata": {
        "id": "J94jFpWyr2k9"
      }
    },
    {
      "cell_type": "code",
      "source": [
        "from tensorflow.keras import models, layers, utils\n",
        "\n",
        "def build_model():\n",
        "  x = layers.Input(shape=(4,))\n",
        "  y = layers.Dense(12, activation='relu')(x)\n",
        "  y = layers.Dense(8, activation='relu')(y)\n",
        "  y = layers.Dense(3, activation='softmax', name='OutputLayer')(y)\n",
        "  model = models.Model(x, y)\n",
        "  return model"
      ],
      "metadata": {
        "id": "5BZG1z90rsGc"
      },
      "execution_count": 21,
      "outputs": []
    },
    {
      "cell_type": "markdown",
      "source": [
        "#### **모델 시각화**\n",
        "\n",
        "* `model.summary()`\n",
        "* `utils.plot_model()`"
      ],
      "metadata": {
        "id": "1yqXLbEyx5QK"
      }
    },
    {
      "cell_type": "code",
      "source": [
        "model = build_model()\n",
        "model.summary()\n",
        "utils.plot_model(model, show_shapes=True)"
      ],
      "metadata": {
        "id": "dKCT38Fsr6dF",
        "colab": {
          "base_uri": "https://localhost:8080/",
          "height": 740
        },
        "outputId": "294fca0d-7b00-415e-efe0-84cb2f461b92"
      },
      "execution_count": 22,
      "outputs": [
        {
          "output_type": "stream",
          "name": "stdout",
          "text": [
            "Model: \"model\"\n",
            "_________________________________________________________________\n",
            " Layer (type)                Output Shape              Param #   \n",
            "=================================================================\n",
            " input_4 (InputLayer)        [(None, 4)]               0         \n",
            "                                                                 \n",
            " dense_4 (Dense)             (None, 12)                60        \n",
            "                                                                 \n",
            " dense_5 (Dense)             (None, 8)                 104       \n",
            "                                                                 \n",
            " OutputLayer (Dense)         (None, 3)                 27        \n",
            "                                                                 \n",
            "=================================================================\n",
            "Total params: 191\n",
            "Trainable params: 191\n",
            "Non-trainable params: 0\n",
            "_________________________________________________________________\n"
          ]
        },
        {
          "output_type": "execute_result",
          "data": {
            "text/plain": [
              "<IPython.core.display.Image object>"
            ],
            "image/png": "[encoded data removed]"
          },
          "metadata": {},
          "execution_count": 22
        }
      ]
    },
    {
      "cell_type": "markdown",
      "source": [
        "### | 학습"
      ],
      "metadata": {
        "id": "gLuvsUFmwzPa"
      }
    },
    {
      "cell_type": "markdown",
      "source": [
        "#### **모델 컴파일**\n",
        "\n",
        "```\n",
        "model.compile(loss, optimizer, metrics) \n",
        "```\n",
        "* `loss` : 다중분류 문제, 'categorical_crossentropy'\n",
        "* `optimizer` : 문제와 상관없음. 'adam'\n",
        "* `metrics`: accuracy (정확도)\n"
      ],
      "metadata": {
        "id": "fwQboNHp3EHe"
      }
    },
    {
      "cell_type": "code",
      "source": [
        "model.compile(loss='categorical_crossentropy',\n",
        "              optimizer='adam',\n",
        "              metrics=['accuracy'])"
      ],
      "metadata": {
        "id": "SASPIskxgfRY"
      },
      "execution_count": 23,
      "outputs": []
    },
    {
      "cell_type": "markdown",
      "source": [
        "#### **학습**\n",
        "\n",
        "```\n",
        "model.fit(x_train, y_train, epochs, batch_size)\n",
        "```\n",
        "* `x_train` : 넘파이 혹은 텐서 형식의 인풋 데이터\n",
        "* `y_train` : 넘파이 혹은 텐서 형식의 아웃풋 데이터\n",
        "* `epochs` : 학습 횟수\n",
        "* `batch_size` : 배치 사이즈 ((업데이트 한번에 사용될 샘플 개수)"
      ],
      "metadata": {
        "id": "JukUpWB4gfRY"
      }
    },
    {
      "cell_type": "code",
      "source": [
        "model.fit(x_train, y_train, epochs=200, batch_size=8)"
      ],
      "metadata": {
        "id": "9bgbpUhogfRY",
        "colab": {
          "base_uri": "https://localhost:8080/"
        },
        "outputId": "69ec989e-926e-43cf-fcb0-091f0e6a4bd3"
      },
      "execution_count": 24,
      "outputs": [
        {
          "output_type": "stream",
          "name": "stdout",
          "text": [
            "Epoch 1/200\n",
            "14/14 [==============================] - 0s 3ms/step - loss: 1.1313 - accuracy: 0.3333\n",
            "Epoch 2/200\n",
            "14/14 [==============================] - 0s 3ms/step - loss: 1.0896 - accuracy: 0.3333\n",
            "Epoch 3/200\n",
            "14/14 [==============================] - 0s 3ms/step - loss: 1.0574 - accuracy: 0.3333\n",
            "Epoch 4/200\n",
            "14/14 [==============================] - 0s 3ms/step - loss: 1.0334 - accuracy: 0.3333\n",
            "Epoch 5/200\n",
            "14/14 [==============================] - 0s 3ms/step - loss: 1.0095 - accuracy: 0.3429\n",
            "Epoch 6/200\n",
            "14/14 [==============================] - 0s 3ms/step - loss: 0.9857 - accuracy: 0.3619\n",
            "Epoch 7/200\n",
            "14/14 [==============================] - 0s 3ms/step - loss: 0.9585 - accuracy: 0.4381\n",
            "Epoch 8/200\n",
            "14/14 [==============================] - 0s 3ms/step - loss: 0.9297 - accuracy: 0.5333\n",
            "Epoch 9/200\n",
            "14/14 [==============================] - 0s 4ms/step - loss: 0.8998 - accuracy: 0.6000\n",
            "Epoch 10/200\n",
            "14/14 [==============================] - 0s 3ms/step - loss: 0.8662 - accuracy: 0.7714\n",
            "Epoch 11/200\n",
            "14/14 [==============================] - 0s 3ms/step - loss: 0.8310 - accuracy: 0.8476\n",
            "Epoch 12/200\n",
            "14/14 [==============================] - 0s 3ms/step - loss: 0.7926 - accuracy: 0.8571\n",
            "Epoch 13/200\n",
            "14/14 [==============================] - 0s 3ms/step - loss: 0.7512 - accuracy: 0.8571\n",
            "Epoch 14/200\n",
            "14/14 [==============================] - 0s 3ms/step - loss: 0.7068 - accuracy: 0.8476\n",
            "Epoch 15/200\n",
            "14/14 [==============================] - 0s 3ms/step - loss: 0.6616 - accuracy: 0.8381\n",
            "Epoch 16/200\n",
            "14/14 [==============================] - 0s 3ms/step - loss: 0.6120 - accuracy: 0.8381\n",
            "Epoch 17/200\n",
            "14/14 [==============================] - 0s 3ms/step - loss: 0.5626 - accuracy: 0.8476\n",
            "Epoch 18/200\n",
            "14/14 [==============================] - 0s 3ms/step - loss: 0.5183 - accuracy: 0.8476\n",
            "Epoch 19/200\n",
            "14/14 [==============================] - 0s 3ms/step - loss: 0.4845 - accuracy: 0.8476\n",
            "Epoch 20/200\n",
            "14/14 [==============================] - 0s 3ms/step - loss: 0.4562 - accuracy: 0.8476\n",
            "Epoch 21/200\n",
            "14/14 [==============================] - 0s 3ms/step - loss: 0.4329 - accuracy: 0.8476\n",
            "Epoch 22/200\n",
            "14/14 [==============================] - 0s 3ms/step - loss: 0.4137 - accuracy: 0.8476\n",
            "Epoch 23/200\n",
            "14/14 [==============================] - 0s 3ms/step - loss: 0.3963 - accuracy: 0.8476\n",
            "Epoch 24/200\n",
            "14/14 [==============================] - 0s 3ms/step - loss: 0.3823 - accuracy: 0.8476\n",
            "Epoch 25/200\n",
            "14/14 [==============================] - 0s 3ms/step - loss: 0.3678 - accuracy: 0.8571\n",
            "Epoch 26/200\n",
            "14/14 [==============================] - 0s 3ms/step - loss: 0.3563 - accuracy: 0.8571\n",
            "Epoch 27/200\n",
            "14/14 [==============================] - 0s 3ms/step - loss: 0.3447 - accuracy: 0.8762\n",
            "Epoch 28/200\n",
            "14/14 [==============================] - 0s 3ms/step - loss: 0.3351 - accuracy: 0.8762\n",
            "Epoch 29/200\n",
            "14/14 [==============================] - 0s 3ms/step - loss: 0.3252 - accuracy: 0.8571\n",
            "Epoch 30/200\n",
            "14/14 [==============================] - 0s 3ms/step - loss: 0.3170 - accuracy: 0.8571\n",
            "Epoch 31/200\n",
            "14/14 [==============================] - 0s 3ms/step - loss: 0.3091 - accuracy: 0.8762\n",
            "Epoch 32/200\n",
            "14/14 [==============================] - 0s 3ms/step - loss: 0.3026 - accuracy: 0.8667\n",
            "Epoch 33/200\n",
            "14/14 [==============================] - 0s 3ms/step - loss: 0.2951 - accuracy: 0.8762\n",
            "Epoch 34/200\n",
            "14/14 [==============================] - 0s 3ms/step - loss: 0.2882 - accuracy: 0.8762\n",
            "Epoch 35/200\n",
            "14/14 [==============================] - 0s 3ms/step - loss: 0.2823 - accuracy: 0.8762\n",
            "Epoch 36/200\n",
            "14/14 [==============================] - 0s 3ms/step - loss: 0.2761 - accuracy: 0.8667\n",
            "Epoch 37/200\n",
            "14/14 [==============================] - 0s 3ms/step - loss: 0.2716 - accuracy: 0.8667\n",
            "Epoch 38/200\n",
            "14/14 [==============================] - 0s 3ms/step - loss: 0.2662 - accuracy: 0.8667\n",
            "Epoch 39/200\n",
            "14/14 [==============================] - 0s 3ms/step - loss: 0.2608 - accuracy: 0.8857\n",
            "Epoch 40/200\n",
            "14/14 [==============================] - 0s 3ms/step - loss: 0.2573 - accuracy: 0.9048\n",
            "Epoch 41/200\n",
            "14/14 [==============================] - 0s 3ms/step - loss: 0.2531 - accuracy: 0.9048\n",
            "Epoch 42/200\n",
            "14/14 [==============================] - 0s 3ms/step - loss: 0.2488 - accuracy: 0.8857\n",
            "Epoch 43/200\n",
            "14/14 [==============================] - 0s 3ms/step - loss: 0.2454 - accuracy: 0.8857\n",
            "Epoch 44/200\n",
            "14/14 [==============================] - 0s 3ms/step - loss: 0.2414 - accuracy: 0.8857\n",
            "Epoch 45/200\n",
            "14/14 [==============================] - 0s 3ms/step - loss: 0.2374 - accuracy: 0.8952\n",
            "Epoch 46/200\n",
            "14/14 [==============================] - 0s 3ms/step - loss: 0.2325 - accuracy: 0.9048\n",
            "Epoch 47/200\n",
            "14/14 [==============================] - 0s 3ms/step - loss: 0.2287 - accuracy: 0.9048\n",
            "Epoch 48/200\n",
            "14/14 [==============================] - 0s 3ms/step - loss: 0.2254 - accuracy: 0.9143\n",
            "Epoch 49/200\n",
            "14/14 [==============================] - 0s 3ms/step - loss: 0.2209 - accuracy: 0.9143\n",
            "Epoch 50/200\n",
            "14/14 [==============================] - 0s 3ms/step - loss: 0.2176 - accuracy: 0.9143\n",
            "Epoch 51/200\n",
            "14/14 [==============================] - 0s 3ms/step - loss: 0.2149 - accuracy: 0.9143\n",
            "Epoch 52/200\n",
            "14/14 [==============================] - 0s 3ms/step - loss: 0.2120 - accuracy: 0.9143\n",
            "Epoch 53/200\n",
            "14/14 [==============================] - 0s 3ms/step - loss: 0.2085 - accuracy: 0.9143\n",
            "Epoch 54/200\n",
            "14/14 [==============================] - 0s 3ms/step - loss: 0.2055 - accuracy: 0.9238\n",
            "Epoch 55/200\n",
            "14/14 [==============================] - 0s 3ms/step - loss: 0.2023 - accuracy: 0.9238\n",
            "Epoch 56/200\n",
            "14/14 [==============================] - 0s 3ms/step - loss: 0.1995 - accuracy: 0.9238\n",
            "Epoch 57/200\n",
            "14/14 [==============================] - 0s 3ms/step - loss: 0.1964 - accuracy: 0.9238\n",
            "Epoch 58/200\n",
            "14/14 [==============================] - 0s 3ms/step - loss: 0.1939 - accuracy: 0.9238\n",
            "Epoch 59/200\n",
            "14/14 [==============================] - 0s 3ms/step - loss: 0.1904 - accuracy: 0.9238\n",
            "Epoch 60/200\n",
            "14/14 [==============================] - 0s 3ms/step - loss: 0.1889 - accuracy: 0.9238\n",
            "Epoch 61/200\n",
            "14/14 [==============================] - 0s 3ms/step - loss: 0.1844 - accuracy: 0.9238\n",
            "Epoch 62/200\n",
            "14/14 [==============================] - 0s 3ms/step - loss: 0.1833 - accuracy: 0.9333\n",
            "Epoch 63/200\n",
            "14/14 [==============================] - 0s 3ms/step - loss: 0.1795 - accuracy: 0.9333\n",
            "Epoch 64/200\n",
            "14/14 [==============================] - 0s 3ms/step - loss: 0.1775 - accuracy: 0.9333\n",
            "Epoch 65/200\n",
            "14/14 [==============================] - 0s 3ms/step - loss: 0.1741 - accuracy: 0.9333\n",
            "Epoch 66/200\n",
            "14/14 [==============================] - 0s 3ms/step - loss: 0.1717 - accuracy: 0.9333\n",
            "Epoch 67/200\n",
            "14/14 [==============================] - 0s 3ms/step - loss: 0.1700 - accuracy: 0.9333\n",
            "Epoch 68/200\n",
            "14/14 [==============================] - 0s 3ms/step - loss: 0.1669 - accuracy: 0.9333\n",
            "Epoch 69/200\n",
            "14/14 [==============================] - 0s 3ms/step - loss: 0.1644 - accuracy: 0.9333\n",
            "Epoch 70/200\n",
            "14/14 [==============================] - 0s 3ms/step - loss: 0.1627 - accuracy: 0.9333\n",
            "Epoch 71/200\n",
            "14/14 [==============================] - 0s 3ms/step - loss: 0.1598 - accuracy: 0.9333\n",
            "Epoch 72/200\n",
            "14/14 [==============================] - 0s 3ms/step - loss: 0.1578 - accuracy: 0.9429\n",
            "Epoch 73/200\n",
            "14/14 [==============================] - 0s 3ms/step - loss: 0.1562 - accuracy: 0.9429\n",
            "Epoch 74/200\n",
            "14/14 [==============================] - 0s 3ms/step - loss: 0.1531 - accuracy: 0.9429\n",
            "Epoch 75/200\n",
            "14/14 [==============================] - 0s 3ms/step - loss: 0.1501 - accuracy: 0.9429\n",
            "Epoch 76/200\n",
            "14/14 [==============================] - 0s 3ms/step - loss: 0.1487 - accuracy: 0.9429\n",
            "Epoch 77/200\n",
            "14/14 [==============================] - 0s 3ms/step - loss: 0.1458 - accuracy: 0.9429\n",
            "Epoch 78/200\n",
            "14/14 [==============================] - 0s 3ms/step - loss: 0.1440 - accuracy: 0.9429\n",
            "Epoch 79/200\n",
            "14/14 [==============================] - 0s 3ms/step - loss: 0.1427 - accuracy: 0.9524\n",
            "Epoch 80/200\n",
            "14/14 [==============================] - 0s 3ms/step - loss: 0.1422 - accuracy: 0.9429\n",
            "Epoch 81/200\n",
            "14/14 [==============================] - 0s 3ms/step - loss: 0.1392 - accuracy: 0.9524\n",
            "Epoch 82/200\n",
            "14/14 [==============================] - 0s 3ms/step - loss: 0.1364 - accuracy: 0.9524\n",
            "Epoch 83/200\n",
            "14/14 [==============================] - 0s 3ms/step - loss: 0.1346 - accuracy: 0.9524\n",
            "Epoch 84/200\n",
            "14/14 [==============================] - 0s 3ms/step - loss: 0.1333 - accuracy: 0.9524\n",
            "Epoch 85/200\n",
            "14/14 [==============================] - 0s 3ms/step - loss: 0.1334 - accuracy: 0.9429\n",
            "Epoch 86/200\n",
            "14/14 [==============================] - 0s 3ms/step - loss: 0.1308 - accuracy: 0.9429\n",
            "Epoch 87/200\n",
            "14/14 [==============================] - 0s 3ms/step - loss: 0.1281 - accuracy: 0.9524\n",
            "Epoch 88/200\n",
            "14/14 [==============================] - 0s 3ms/step - loss: 0.1268 - accuracy: 0.9524\n",
            "Epoch 89/200\n",
            "14/14 [==============================] - 0s 3ms/step - loss: 0.1250 - accuracy: 0.9524\n",
            "Epoch 90/200\n",
            "14/14 [==============================] - 0s 3ms/step - loss: 0.1240 - accuracy: 0.9524\n",
            "Epoch 91/200\n",
            "14/14 [==============================] - 0s 3ms/step - loss: 0.1220 - accuracy: 0.9524\n",
            "Epoch 92/200\n",
            "14/14 [==============================] - 0s 3ms/step - loss: 0.1221 - accuracy: 0.9524\n",
            "Epoch 93/200\n",
            "14/14 [==============================] - 0s 3ms/step - loss: 0.1203 - accuracy: 0.9524\n",
            "Epoch 94/200\n",
            "14/14 [==============================] - 0s 3ms/step - loss: 0.1189 - accuracy: 0.9524\n",
            "Epoch 95/200\n",
            "14/14 [==============================] - 0s 3ms/step - loss: 0.1170 - accuracy: 0.9524\n",
            "Epoch 96/200\n",
            "14/14 [==============================] - 0s 3ms/step - loss: 0.1160 - accuracy: 0.9619\n",
            "Epoch 97/200\n",
            "14/14 [==============================] - 0s 3ms/step - loss: 0.1197 - accuracy: 0.9524\n",
            "Epoch 98/200\n",
            "14/14 [==============================] - 0s 3ms/step - loss: 0.1187 - accuracy: 0.9619\n",
            "Epoch 99/200\n",
            "14/14 [==============================] - 0s 3ms/step - loss: 0.1151 - accuracy: 0.9524\n",
            "Epoch 100/200\n",
            "14/14 [==============================] - 0s 3ms/step - loss: 0.1108 - accuracy: 0.9429\n",
            "Epoch 101/200\n",
            "14/14 [==============================] - 0s 3ms/step - loss: 0.1096 - accuracy: 0.9524\n",
            "Epoch 102/200\n",
            "14/14 [==============================] - 0s 3ms/step - loss: 0.1088 - accuracy: 0.9524\n",
            "Epoch 103/200\n",
            "14/14 [==============================] - 0s 3ms/step - loss: 0.1078 - accuracy: 0.9429\n",
            "Epoch 104/200\n",
            "14/14 [==============================] - 0s 3ms/step - loss: 0.1072 - accuracy: 0.9429\n",
            "Epoch 105/200\n",
            "14/14 [==============================] - 0s 3ms/step - loss: 0.1074 - accuracy: 0.9524\n",
            "Epoch 106/200\n",
            "14/14 [==============================] - 0s 3ms/step - loss: 0.1041 - accuracy: 0.9619\n",
            "Epoch 107/200\n",
            "14/14 [==============================] - 0s 3ms/step - loss: 0.1033 - accuracy: 0.9429\n",
            "Epoch 108/200\n",
            "14/14 [==============================] - 0s 3ms/step - loss: 0.1068 - accuracy: 0.9619\n",
            "Epoch 109/200\n",
            "14/14 [==============================] - 0s 3ms/step - loss: 0.1081 - accuracy: 0.9619\n",
            "Epoch 110/200\n",
            "14/14 [==============================] - 0s 3ms/step - loss: 0.1031 - accuracy: 0.9619\n",
            "Epoch 111/200\n",
            "14/14 [==============================] - 0s 3ms/step - loss: 0.1003 - accuracy: 0.9619\n",
            "Epoch 112/200\n",
            "14/14 [==============================] - 0s 3ms/step - loss: 0.0993 - accuracy: 0.9619\n",
            "Epoch 113/200\n",
            "14/14 [==============================] - 0s 3ms/step - loss: 0.0985 - accuracy: 0.9619\n",
            "Epoch 114/200\n",
            "14/14 [==============================] - 0s 3ms/step - loss: 0.0982 - accuracy: 0.9619\n",
            "Epoch 115/200\n",
            "14/14 [==============================] - 0s 3ms/step - loss: 0.0969 - accuracy: 0.9619\n",
            "Epoch 116/200\n",
            "14/14 [==============================] - 0s 3ms/step - loss: 0.0979 - accuracy: 0.9524\n",
            "Epoch 117/200\n",
            "14/14 [==============================] - 0s 3ms/step - loss: 0.0962 - accuracy: 0.9619\n",
            "Epoch 118/200\n",
            "14/14 [==============================] - 0s 3ms/step - loss: 0.0958 - accuracy: 0.9619\n",
            "Epoch 119/200\n",
            "14/14 [==============================] - 0s 3ms/step - loss: 0.0949 - accuracy: 0.9619\n",
            "Epoch 120/200\n",
            "14/14 [==============================] - 0s 3ms/step - loss: 0.0937 - accuracy: 0.9524\n",
            "Epoch 121/200\n",
            "14/14 [==============================] - 0s 3ms/step - loss: 0.0936 - accuracy: 0.9524\n",
            "Epoch 122/200\n",
            "14/14 [==============================] - 0s 3ms/step - loss: 0.0926 - accuracy: 0.9524\n",
            "Epoch 123/200\n",
            "14/14 [==============================] - 0s 3ms/step - loss: 0.0928 - accuracy: 0.9714\n",
            "Epoch 124/200\n",
            "14/14 [==============================] - 0s 3ms/step - loss: 0.0918 - accuracy: 0.9619\n",
            "Epoch 125/200\n",
            "14/14 [==============================] - 0s 3ms/step - loss: 0.0906 - accuracy: 0.9714\n",
            "Epoch 126/200\n",
            "14/14 [==============================] - 0s 3ms/step - loss: 0.0912 - accuracy: 0.9524\n",
            "Epoch 127/200\n",
            "14/14 [==============================] - 0s 3ms/step - loss: 0.0898 - accuracy: 0.9524\n",
            "Epoch 128/200\n",
            "14/14 [==============================] - 0s 3ms/step - loss: 0.0895 - accuracy: 0.9524\n",
            "Epoch 129/200\n",
            "14/14 [==============================] - 0s 3ms/step - loss: 0.0892 - accuracy: 0.9619\n",
            "Epoch 130/200\n",
            "14/14 [==============================] - 0s 3ms/step - loss: 0.0897 - accuracy: 0.9619\n",
            "Epoch 131/200\n",
            "14/14 [==============================] - 0s 3ms/step - loss: 0.0881 - accuracy: 0.9524\n",
            "Epoch 132/200\n",
            "14/14 [==============================] - 0s 3ms/step - loss: 0.0915 - accuracy: 0.9524\n",
            "Epoch 133/200\n",
            "14/14 [==============================] - 0s 3ms/step - loss: 0.0892 - accuracy: 0.9524\n",
            "Epoch 134/200\n",
            "14/14 [==============================] - 0s 4ms/step - loss: 0.0865 - accuracy: 0.9619\n",
            "Epoch 135/200\n",
            "14/14 [==============================] - 0s 3ms/step - loss: 0.0864 - accuracy: 0.9619\n",
            "Epoch 136/200\n",
            "14/14 [==============================] - 0s 3ms/step - loss: 0.0853 - accuracy: 0.9714\n",
            "Epoch 137/200\n",
            "14/14 [==============================] - 0s 3ms/step - loss: 0.0845 - accuracy: 0.9619\n",
            "Epoch 138/200\n",
            "14/14 [==============================] - 0s 3ms/step - loss: 0.0846 - accuracy: 0.9714\n",
            "Epoch 139/200\n",
            "14/14 [==============================] - 0s 3ms/step - loss: 0.0841 - accuracy: 0.9714\n",
            "Epoch 140/200\n",
            "14/14 [==============================] - 0s 3ms/step - loss: 0.0840 - accuracy: 0.9714\n",
            "Epoch 141/200\n",
            "14/14 [==============================] - 0s 3ms/step - loss: 0.0842 - accuracy: 0.9714\n",
            "Epoch 142/200\n",
            "14/14 [==============================] - 0s 3ms/step - loss: 0.0839 - accuracy: 0.9524\n",
            "Epoch 143/200\n",
            "14/14 [==============================] - 0s 3ms/step - loss: 0.0828 - accuracy: 0.9714\n",
            "Epoch 144/200\n",
            "14/14 [==============================] - 0s 3ms/step - loss: 0.0820 - accuracy: 0.9714\n",
            "Epoch 145/200\n",
            "14/14 [==============================] - 0s 3ms/step - loss: 0.0817 - accuracy: 0.9714\n",
            "Epoch 146/200\n",
            "14/14 [==============================] - 0s 3ms/step - loss: 0.0812 - accuracy: 0.9714\n",
            "Epoch 147/200\n",
            "14/14 [==============================] - 0s 3ms/step - loss: 0.0816 - accuracy: 0.9714\n",
            "Epoch 148/200\n",
            "14/14 [==============================] - 0s 3ms/step - loss: 0.0807 - accuracy: 0.9714\n",
            "Epoch 149/200\n",
            "14/14 [==============================] - 0s 3ms/step - loss: 0.0801 - accuracy: 0.9714\n",
            "Epoch 150/200\n",
            "14/14 [==============================] - 0s 3ms/step - loss: 0.0808 - accuracy: 0.9619\n",
            "Epoch 151/200\n",
            "14/14 [==============================] - 0s 3ms/step - loss: 0.0801 - accuracy: 0.9714\n",
            "Epoch 152/200\n",
            "14/14 [==============================] - 0s 3ms/step - loss: 0.0789 - accuracy: 0.9714\n",
            "Epoch 153/200\n",
            "14/14 [==============================] - 0s 3ms/step - loss: 0.0791 - accuracy: 0.9619\n",
            "Epoch 154/200\n",
            "14/14 [==============================] - 0s 3ms/step - loss: 0.0789 - accuracy: 0.9619\n",
            "Epoch 155/200\n",
            "14/14 [==============================] - 0s 3ms/step - loss: 0.0786 - accuracy: 0.9619\n",
            "Epoch 156/200\n",
            "14/14 [==============================] - 0s 3ms/step - loss: 0.0781 - accuracy: 0.9619\n",
            "Epoch 157/200\n",
            "14/14 [==============================] - 0s 3ms/step - loss: 0.0778 - accuracy: 0.9714\n",
            "Epoch 158/200\n",
            "14/14 [==============================] - 0s 3ms/step - loss: 0.0778 - accuracy: 0.9619\n",
            "Epoch 159/200\n",
            "14/14 [==============================] - 0s 3ms/step - loss: 0.0791 - accuracy: 0.9619\n",
            "Epoch 160/200\n",
            "14/14 [==============================] - 0s 3ms/step - loss: 0.0768 - accuracy: 0.9619\n",
            "Epoch 161/200\n",
            "14/14 [==============================] - 0s 3ms/step - loss: 0.0779 - accuracy: 0.9714\n",
            "Epoch 162/200\n",
            "14/14 [==============================] - 0s 3ms/step - loss: 0.0759 - accuracy: 0.9619\n",
            "Epoch 163/200\n",
            "14/14 [==============================] - 0s 3ms/step - loss: 0.0761 - accuracy: 0.9619\n",
            "Epoch 164/200\n",
            "14/14 [==============================] - 0s 3ms/step - loss: 0.0766 - accuracy: 0.9619\n",
            "Epoch 165/200\n",
            "14/14 [==============================] - 0s 3ms/step - loss: 0.0759 - accuracy: 0.9619\n",
            "Epoch 166/200\n",
            "14/14 [==============================] - 0s 3ms/step - loss: 0.0756 - accuracy: 0.9714\n",
            "Epoch 167/200\n",
            "14/14 [==============================] - 0s 3ms/step - loss: 0.0782 - accuracy: 0.9714\n",
            "Epoch 168/200\n",
            "14/14 [==============================] - 0s 3ms/step - loss: 0.0759 - accuracy: 0.9714\n",
            "Epoch 169/200\n",
            "14/14 [==============================] - 0s 3ms/step - loss: 0.0747 - accuracy: 0.9714\n",
            "Epoch 170/200\n",
            "14/14 [==============================] - 0s 3ms/step - loss: 0.0743 - accuracy: 0.9619\n",
            "Epoch 171/200\n",
            "14/14 [==============================] - 0s 3ms/step - loss: 0.0743 - accuracy: 0.9619\n",
            "Epoch 172/200\n",
            "14/14 [==============================] - 0s 3ms/step - loss: 0.0739 - accuracy: 0.9619\n",
            "Epoch 173/200\n",
            "14/14 [==============================] - 0s 3ms/step - loss: 0.0734 - accuracy: 0.9714\n",
            "Epoch 174/200\n",
            "14/14 [==============================] - 0s 3ms/step - loss: 0.0729 - accuracy: 0.9714\n",
            "Epoch 175/200\n",
            "14/14 [==============================] - 0s 3ms/step - loss: 0.0729 - accuracy: 0.9714\n",
            "Epoch 176/200\n",
            "14/14 [==============================] - 0s 3ms/step - loss: 0.0726 - accuracy: 0.9714\n",
            "Epoch 177/200\n",
            "14/14 [==============================] - 0s 3ms/step - loss: 0.0734 - accuracy: 0.9714\n",
            "Epoch 178/200\n",
            "14/14 [==============================] - 0s 3ms/step - loss: 0.0725 - accuracy: 0.9714\n",
            "Epoch 179/200\n",
            "14/14 [==============================] - 0s 3ms/step - loss: 0.0718 - accuracy: 0.9619\n",
            "Epoch 180/200\n",
            "14/14 [==============================] - 0s 3ms/step - loss: 0.0718 - accuracy: 0.9619\n",
            "Epoch 181/200\n",
            "14/14 [==============================] - 0s 3ms/step - loss: 0.0741 - accuracy: 0.9714\n",
            "Epoch 182/200\n",
            "14/14 [==============================] - 0s 3ms/step - loss: 0.0727 - accuracy: 0.9714\n",
            "Epoch 183/200\n",
            "14/14 [==============================] - 0s 3ms/step - loss: 0.0713 - accuracy: 0.9619\n",
            "Epoch 184/200\n",
            "14/14 [==============================] - 0s 3ms/step - loss: 0.0723 - accuracy: 0.9714\n",
            "Epoch 185/200\n",
            "14/14 [==============================] - 0s 3ms/step - loss: 0.0707 - accuracy: 0.9714\n",
            "Epoch 186/200\n",
            "14/14 [==============================] - 0s 3ms/step - loss: 0.0712 - accuracy: 0.9619\n",
            "Epoch 187/200\n",
            "14/14 [==============================] - 0s 3ms/step - loss: 0.0701 - accuracy: 0.9619\n",
            "Epoch 188/200\n",
            "14/14 [==============================] - 0s 3ms/step - loss: 0.0709 - accuracy: 0.9714\n",
            "Epoch 189/200\n",
            "14/14 [==============================] - 0s 3ms/step - loss: 0.0706 - accuracy: 0.9714\n",
            "Epoch 190/200\n",
            "14/14 [==============================] - 0s 3ms/step - loss: 0.0698 - accuracy: 0.9714\n",
            "Epoch 191/200\n",
            "14/14 [==============================] - 0s 3ms/step - loss: 0.0694 - accuracy: 0.9714\n",
            "Epoch 192/200\n",
            "14/14 [==============================] - 0s 3ms/step - loss: 0.0693 - accuracy: 0.9714\n",
            "Epoch 193/200\n",
            "14/14 [==============================] - 0s 3ms/step - loss: 0.0694 - accuracy: 0.9714\n",
            "Epoch 194/200\n",
            "14/14 [==============================] - 0s 3ms/step - loss: 0.0703 - accuracy: 0.9714\n",
            "Epoch 195/200\n",
            "14/14 [==============================] - 0s 3ms/step - loss: 0.0768 - accuracy: 0.9619\n",
            "Epoch 196/200\n",
            "14/14 [==============================] - 0s 3ms/step - loss: 0.0766 - accuracy: 0.9524\n",
            "Epoch 197/200\n",
            "14/14 [==============================] - 0s 3ms/step - loss: 0.0717 - accuracy: 0.9619\n",
            "Epoch 198/200\n",
            "14/14 [==============================] - 0s 3ms/step - loss: 0.0688 - accuracy: 0.9714\n",
            "Epoch 199/200\n",
            "14/14 [==============================] - 0s 3ms/step - loss: 0.0688 - accuracy: 0.9714\n",
            "Epoch 200/200\n",
            "14/14 [==============================] - 0s 3ms/step - loss: 0.0698 - accuracy: 0.9714\n"
          ]
        },
        {
          "output_type": "execute_result",
          "data": {
            "text/plain": [
              "<keras.callbacks.History at 0x7f42c1b8ca50>"
            ]
          },
          "metadata": {},
          "execution_count": 24
        }
      ]
    },
    {
      "cell_type": "markdown",
      "source": [
        "### | 검증 및 예측\n"
      ],
      "metadata": {
        "id": "DyFOnqyNw5_q"
      }
    },
    {
      "cell_type": "markdown",
      "source": [
        "#### **검증**\n",
        "\n",
        "```\n",
        "model.evaluate(x_test, y_test)\n",
        "```\n",
        "* `x_test` : 넘파이 혹은 텐서 형식의 인풋 테스트 데이터\n",
        "* `y_test` : 넘파이 혹은 텐서 형식의 아웃풋 테스트 데이터"
      ],
      "metadata": {
        "id": "qlalKZ-a04c3"
      }
    },
    {
      "cell_type": "code",
      "source": [
        "model.evaluate(x_test, y_test)"
      ],
      "metadata": {
        "id": "uHGyMlf60zng",
        "colab": {
          "base_uri": "https://localhost:8080/"
        },
        "outputId": "ae03a51c-453c-4199-d112-869c5d6ac1ab"
      },
      "execution_count": 25,
      "outputs": [
        {
          "output_type": "stream",
          "name": "stdout",
          "text": [
            "2/2 [==============================] - 0s 7ms/step - loss: 0.0612 - accuracy: 0.9778\n"
          ]
        },
        {
          "output_type": "execute_result",
          "data": {
            "text/plain": [
              "[0.06121101230382919, 0.9777777791023254]"
            ]
          },
          "metadata": {},
          "execution_count": 25
        }
      ]
    },
    {
      "cell_type": "markdown",
      "source": [
        "#### **예측**\n",
        "\n",
        "```\n",
        "model.predict(x_test)\n",
        "```\n",
        "* `x_test` : 넘파이 혹은 텐서 형식의 인풋 테스트 데이터\n",
        "* `y_test` : 넘파이 혹은 텐서 형식의 아웃풋 테스트 데이터"
      ],
      "metadata": {
        "id": "BITPUIOj07Uv"
      }
    },
    {
      "cell_type": "code",
      "source": [
        ""
      ],
      "metadata": {
        "id": "KfDHL4PRv8YD"
      },
      "execution_count": null,
      "outputs": []
    },
    {
      "cell_type": "markdown",
      "source": [
        "* 예측 시각화"
      ],
      "metadata": {
        "id": "gThN4RCR0_HI"
      }
    },
    {
      "cell_type": "code",
      "source": [
        ""
      ],
      "metadata": {
        "id": "TG533VyLwDaK"
      },
      "execution_count": null,
      "outputs": []
    },
    {
      "cell_type": "markdown",
      "source": [
        "## 과제\n",
        "---"
      ],
      "metadata": {
        "id": "ZFrRTgcyipYg"
      }
    },
    {
      "cell_type": "markdown",
      "source": [
        "### | 과제1. 이진분류 문제 정리\n",
        "\n",
        "* 예측값의 범위 :\n",
        "* 예측값의 shape :\n",
        "* 아웃풋 레이어의 노드 개수 : \n",
        "* 아웃풋 레이어의 activation :\n",
        "* 손실함수 (loss) : \n",
        "* 평가함수 (metrics) : "
      ],
      "metadata": {
        "id": "xjnJSLgXK_Pp"
      }
    },
    {
      "cell_type": "markdown",
      "source": [
        "### | 과제2. 한 셀에 코드 정리하기\n",
        "\n",
        "* 추가 연습\n",
        "  * 모델의 깊이(depth)를 늘려가며 학습해 보세요.\n",
        "  * 모델의 너비(width)를 늘려가며 학습해 보세요."
      ],
      "metadata": {
        "id": "ZvFAB78P1B_Q"
      }
    },
    {
      "cell_type": "code",
      "source": [
        ""
      ],
      "metadata": {
        "id": "v5WYSd9a1Cz4"
      },
      "execution_count": null,
      "outputs": []
    },
    {
      "cell_type": "markdown",
      "source": [
        "### | 과제 3. MNIST 숫자 데이터 분류\n",
        "\n",
        "```\n",
        "mnist = tf.keras.datasets.mnist\n",
        "(x_train, y_train), (x_test, y_test) = mnist.load_data()\n",
        "print(x_train.shape, y_train.shape, x_test.shape, y_test.shape)\n",
        "```"
      ],
      "metadata": {
        "id": "2K0mAdPzjOAf"
      }
    },
    {
      "cell_type": "code",
      "source": [
        ""
      ],
      "metadata": {
        "id": "aMfhH4ojun0G"
      },
      "execution_count": null,
      "outputs": []
    },
    {
      "cell_type": "markdown",
      "source": [
        "* 데이터 시각화"
      ],
      "metadata": {
        "id": "EOskN_eSMJNL"
      }
    },
    {
      "cell_type": "code",
      "source": [
        ""
      ],
      "metadata": {
        "id": "oYaA4aLuv7F4"
      },
      "execution_count": null,
      "outputs": []
    },
    {
      "cell_type": "markdown",
      "source": [
        "### | 모델\n",
        "\n",
        "\n",
        "<p align='center'>\n",
        "<img src=https://github.com/yebiny/SkillTreePython-DeepLearning/blob/main/imgs/ch0105-03.PNG?raw=true width=500>\n",
        "</p>\n"
      ],
      "metadata": {
        "id": "po1mICbWv48p"
      }
    },
    {
      "cell_type": "markdown",
      "source": [
        "#### **모델 생성**"
      ],
      "metadata": {
        "id": "C_gpuC1Ev48p"
      }
    },
    {
      "cell_type": "code",
      "source": [
        ""
      ],
      "metadata": {
        "id": "bDFZF-9Jv48q"
      },
      "execution_count": null,
      "outputs": []
    },
    {
      "cell_type": "markdown",
      "source": [
        "#### **모델 시각화**\n",
        "\n",
        "* `model.summary()`\n",
        "* `utils.plot_model()`"
      ],
      "metadata": {
        "id": "nopDIQEiv48q"
      }
    },
    {
      "cell_type": "code",
      "source": [
        ""
      ],
      "metadata": {
        "id": "rXzVjMLpv48q"
      },
      "execution_count": null,
      "outputs": []
    },
    {
      "cell_type": "markdown",
      "source": [
        "### | 학습"
      ],
      "metadata": {
        "id": "mwtIo0te0dvn"
      }
    },
    {
      "cell_type": "markdown",
      "source": [
        "#### **모델 컴파일**\n",
        "\n",
        "```\n",
        "model.compile(loss, optimizer, metrics) \n",
        "```\n",
        "* `loss` : \n",
        "* `optimizer` : \n",
        "* `metrics`: \n"
      ],
      "metadata": {
        "id": "BEN3BQFF0dvt"
      }
    },
    {
      "cell_type": "code",
      "source": [
        ""
      ],
      "metadata": {
        "id": "RhuM6-_f0dvt"
      },
      "execution_count": null,
      "outputs": []
    },
    {
      "cell_type": "markdown",
      "source": [
        "#### **학습**\n",
        "\n",
        "```\n",
        "model.fit(x_train, y_train, epochs, batch_size)\n",
        "```\n",
        "* `x_train` : 넘파이 혹은 텐서 형식의 인풋 데이터\n",
        "* `y_train` : 넘파이 혹은 텐서 형식의 아웃풋 데이터\n",
        "* `epochs` : 학습 횟수\n",
        "* `batch_size` : 배치 사이즈 ((업데이트 한번에 사용될 샘플 개수)"
      ],
      "metadata": {
        "id": "weF5ryop0dvt"
      }
    },
    {
      "cell_type": "code",
      "source": [
        ""
      ],
      "metadata": {
        "id": "URyV2ICw0dvt"
      },
      "execution_count": null,
      "outputs": []
    },
    {
      "cell_type": "markdown",
      "source": [
        "### | 검증 및 예측\n"
      ],
      "metadata": {
        "id": "4UIAL_HA0dvt"
      }
    },
    {
      "cell_type": "markdown",
      "source": [
        "#### **검증**\n",
        "\n",
        "```\n",
        "model.evaluate(x_test, y_test)\n",
        "```\n",
        "* `x_test` : 넘파이 혹은 텐서 형식의 인풋 테스트 데이터\n",
        "* `y_test` : 넘파이 혹은 텐서 형식의 아웃풋 테스트 데이터"
      ],
      "metadata": {
        "id": "JNcvTwyU0dvt"
      }
    },
    {
      "cell_type": "code",
      "source": [
        ""
      ],
      "metadata": {
        "id": "blrfzkKN0dvu"
      },
      "execution_count": null,
      "outputs": []
    },
    {
      "cell_type": "markdown",
      "source": [
        "#### **예측**\n",
        "\n",
        "```\n",
        "model.predict(x_test)\n",
        "```\n",
        "* `x_test` : 넘파이 혹은 텐서 형식의 인풋 테스트 데이터\n",
        "* `y_test` : 넘파이 혹은 텐서 형식의 아웃풋 테스트 데이터"
      ],
      "metadata": {
        "id": "4IHDLt-D0dvu"
      }
    },
    {
      "cell_type": "code",
      "source": [
        ""
      ],
      "metadata": {
        "id": "P2lPLl970dvu"
      },
      "execution_count": null,
      "outputs": []
    },
    {
      "cell_type": "markdown",
      "source": [
        "* 예측 시각화"
      ],
      "metadata": {
        "id": "xyDfuLj-0dvu"
      }
    },
    {
      "cell_type": "code",
      "source": [
        ""
      ],
      "metadata": {
        "id": "GrBlEHxm0dvu"
      },
      "execution_count": null,
      "outputs": []
    },
    {
      "cell_type": "markdown",
      "source": [
        "* 모델 활용"
      ],
      "metadata": {
        "id": "4-APLR7G2Dep"
      }
    },
    {
      "cell_type": "code",
      "source": [
        ""
      ],
      "metadata": {
        "id": "3e_9LSrE0wbl"
      },
      "execution_count": null,
      "outputs": []
    },
    {
      "cell_type": "code",
      "source": [
        ""
      ],
      "metadata": {
        "id": "sCp8tPhh2G14"
      },
      "execution_count": null,
      "outputs": []
    }
  ]
}