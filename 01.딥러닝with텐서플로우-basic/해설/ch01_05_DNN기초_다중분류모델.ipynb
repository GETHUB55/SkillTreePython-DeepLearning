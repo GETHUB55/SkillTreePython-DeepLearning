{
  "nbformat": 4,
  "nbformat_minor": 0,
  "metadata": {
    "colab": {
      "name": "ch01_05_DNN기초-다중분류모델.ipynb",
      "provenance": [],
      "collapsed_sections": [],
      "machine_shape": "hm",
      "authorship_tag": "ABX9TyPiGbuGrcBrjTNlitIec7T6",
      "include_colab_link": true
    },
    "kernelspec": {
      "name": "python3",
      "display_name": "Python 3"
    },
    "language_info": {
      "name": "python"
    },
    "accelerator": "GPU",
    "gpuClass": "standard"
  },
  "cells": [
    {
      "cell_type": "markdown",
      "metadata": {
        "id": "view-in-github",
        "colab_type": "text"
      },
      "source": [
        "<a href=\"https://colab.research.google.com/github/yebiny/SkillTreePython-DeepLearning/blob/main/01.%EB%94%A5%EB%9F%AC%EB%8B%9Dwith%ED%85%90%EC%84%9C%ED%94%8C%EB%A1%9C%EC%9A%B0-basic/%ED%95%B4%EC%84%A4/ch01_05_DNN%EA%B8%B0%EC%B4%88_%EB%8B%A4%EC%A4%91%EB%B6%84%EB%A5%98%EB%AA%A8%EB%8D%B8.ipynb\" target=\"_parent\"><img src=\"https://colab.research.google.com/assets/colab-badge.svg\" alt=\"Open In Colab\"/></a>"
      ]
    },
    {
      "cell_type": "markdown",
      "source": [
        "# ch01.05. 딥러닝 다중 분류 모델\n",
        "---\n",
        "* 날짜:\n",
        "* 이름:\n",
        "\n",
        "## 학습내용\n",
        "    - 딥러닝을 이용한 멀티클래스 분류 진행\n",
        "    - 적절한 손실함수와 최적화 함수 정의\n",
        "    - 평가 및 예측\n",
        "    \n",
        "## 학습자료\n",
        "\n",
        "* 모두의딥러닝\n",
        "* 데이터\n",
        "  * `iris.csv`\n",
        "  * MNIST 데이터셋\n",
        "\n",
        "\n",
        "```\n",
        "import numpy as np\n",
        "import pandas as pd\n",
        "import tensorflow as tf\n",
        "import matplotlib.pyplot as plt\n",
        "import seaborn as sns\n",
        "seed=1\n",
        "np.random.seed(seed)\n",
        "tf.random.set_seed(seed)\n",
        "```\n",
        "\n",
        "```\n",
        "https://github.com/yebiny/SkillTreePython-DeepLearning.git\n",
        "```"
      ],
      "metadata": {
        "id": "sWs2kEC1_b-P"
      }
    },
    {
      "cell_type": "code",
      "source": [
        "import numpy as np\n",
        "import pandas as pd\n",
        "import tensorflow as tf\n",
        "import matplotlib.pyplot as plt\n",
        "import seaborn as sns\n",
        "seed=1\n",
        "np.random.seed(seed)\n",
        "tf.random.set_seed(seed)"
      ],
      "metadata": {
        "id": "HJqjPthwgTg-"
      },
      "execution_count": 1,
      "outputs": []
    },
    {
      "cell_type": "code",
      "source": [
        "! git clone https://github.com/yebiny/SkillTreePython-DeepLearning.git"
      ],
      "metadata": {
        "id": "XiKfkQgYfoIE",
        "colab": {
          "base_uri": "https://localhost:8080/"
        },
        "outputId": "a2528244-578c-4c74-e293-e69316088f02"
      },
      "execution_count": 2,
      "outputs": [
        {
          "output_type": "stream",
          "name": "stdout",
          "text": [
            "Cloning into 'SkillTreePython-DeepLearning'...\n",
            "remote: Enumerating objects: 359, done.\u001b[K\n",
            "remote: Counting objects: 100% (181/181), done.\u001b[K\n",
            "remote: Compressing objects: 100% (101/101), done.\u001b[K\n",
            "remote: Total 359 (delta 112), reused 120 (delta 78), pack-reused 178\u001b[K\n",
            "Receiving objects: 100% (359/359), 22.36 MiB | 19.72 MiB/s, done.\n",
            "Resolving deltas: 100% (147/147), done.\n"
          ]
        }
      ]
    },
    {
      "cell_type": "markdown",
      "source": [
        "## 아이리스 꽃 종류 예측\n",
        "---\n",
        "\n",
        "\n",
        "```\n",
        "- 0 sepal_length  꽃받침 길이\n",
        "- 1 sepal_width 꽃받침 너비\n",
        "- 2 petal_length 꽃임 길이\n",
        "- 3 petal_width 꽃잎 너비\n",
        "- 4 species 꽃의 종류 {setosa, versicolor virginica}\n",
        "```\n",
        "<p align='center'>\n",
        "<img src=https://github.com/yebiny/SkillTreePython-DeepLearning/blob/main/imgs/ch0105-01.PNG?raw=true width=550>\n",
        "</p>\n"
      ],
      "metadata": {
        "id": "4wsuH8GzftqZ"
      }
    },
    {
      "cell_type": "code",
      "execution_count": 4,
      "metadata": {
        "id": "68PCrczmzdId",
        "colab": {
          "base_uri": "https://localhost:8080/",
          "height": 424
        },
        "outputId": "12badb12-afb3-4202-fb22-69946fe4c22a"
      },
      "outputs": [
        {
          "output_type": "execute_result",
          "data": {
            "text/plain": [
              "       0    1    2    3               4\n",
              "0    5.1  3.5  1.4  0.2     Iris-setosa\n",
              "1    4.9  3.0  1.4  0.2     Iris-setosa\n",
              "2    4.7  3.2  1.3  0.2     Iris-setosa\n",
              "3    4.6  3.1  1.5  0.2     Iris-setosa\n",
              "4    5.0  3.6  1.4  0.2     Iris-setosa\n",
              "..   ...  ...  ...  ...             ...\n",
              "145  6.7  3.0  5.2  2.3  Iris-virginica\n",
              "146  6.3  2.5  5.0  1.9  Iris-virginica\n",
              "147  6.5  3.0  5.2  2.0  Iris-virginica\n",
              "148  6.2  3.4  5.4  2.3  Iris-virginica\n",
              "149  5.9  3.0  5.1  1.8  Iris-virginica\n",
              "\n",
              "[150 rows x 5 columns]"
            ],
            "text/html": [
              "\n",
              "  <div id=\"df-9143a20a-4e5c-4197-91b1-c8b8a68f67d9\">\n",
              "    <div class=\"colab-df-container\">\n",
              "      <div>\n",
              "<style scoped>\n",
              "    .dataframe tbody tr th:only-of-type {\n",
              "        vertical-align: middle;\n",
              "    }\n",
              "\n",
              "    .dataframe tbody tr th {\n",
              "        vertical-align: top;\n",
              "    }\n",
              "\n",
              "    .dataframe thead th {\n",
              "        text-align: right;\n",
              "    }\n",
              "</style>\n",
              "<table border=\"1\" class=\"dataframe\">\n",
              "  <thead>\n",
              "    <tr style=\"text-align: right;\">\n",
              "      <th></th>\n",
              "      <th>0</th>\n",
              "      <th>1</th>\n",
              "      <th>2</th>\n",
              "      <th>3</th>\n",
              "      <th>4</th>\n",
              "    </tr>\n",
              "  </thead>\n",
              "  <tbody>\n",
              "    <tr>\n",
              "      <th>0</th>\n",
              "      <td>5.1</td>\n",
              "      <td>3.5</td>\n",
              "      <td>1.4</td>\n",
              "      <td>0.2</td>\n",
              "      <td>Iris-setosa</td>\n",
              "    </tr>\n",
              "    <tr>\n",
              "      <th>1</th>\n",
              "      <td>4.9</td>\n",
              "      <td>3.0</td>\n",
              "      <td>1.4</td>\n",
              "      <td>0.2</td>\n",
              "      <td>Iris-setosa</td>\n",
              "    </tr>\n",
              "    <tr>\n",
              "      <th>2</th>\n",
              "      <td>4.7</td>\n",
              "      <td>3.2</td>\n",
              "      <td>1.3</td>\n",
              "      <td>0.2</td>\n",
              "      <td>Iris-setosa</td>\n",
              "    </tr>\n",
              "    <tr>\n",
              "      <th>3</th>\n",
              "      <td>4.6</td>\n",
              "      <td>3.1</td>\n",
              "      <td>1.5</td>\n",
              "      <td>0.2</td>\n",
              "      <td>Iris-setosa</td>\n",
              "    </tr>\n",
              "    <tr>\n",
              "      <th>4</th>\n",
              "      <td>5.0</td>\n",
              "      <td>3.6</td>\n",
              "      <td>1.4</td>\n",
              "      <td>0.2</td>\n",
              "      <td>Iris-setosa</td>\n",
              "    </tr>\n",
              "    <tr>\n",
              "      <th>...</th>\n",
              "      <td>...</td>\n",
              "      <td>...</td>\n",
              "      <td>...</td>\n",
              "      <td>...</td>\n",
              "      <td>...</td>\n",
              "    </tr>\n",
              "    <tr>\n",
              "      <th>145</th>\n",
              "      <td>6.7</td>\n",
              "      <td>3.0</td>\n",
              "      <td>5.2</td>\n",
              "      <td>2.3</td>\n",
              "      <td>Iris-virginica</td>\n",
              "    </tr>\n",
              "    <tr>\n",
              "      <th>146</th>\n",
              "      <td>6.3</td>\n",
              "      <td>2.5</td>\n",
              "      <td>5.0</td>\n",
              "      <td>1.9</td>\n",
              "      <td>Iris-virginica</td>\n",
              "    </tr>\n",
              "    <tr>\n",
              "      <th>147</th>\n",
              "      <td>6.5</td>\n",
              "      <td>3.0</td>\n",
              "      <td>5.2</td>\n",
              "      <td>2.0</td>\n",
              "      <td>Iris-virginica</td>\n",
              "    </tr>\n",
              "    <tr>\n",
              "      <th>148</th>\n",
              "      <td>6.2</td>\n",
              "      <td>3.4</td>\n",
              "      <td>5.4</td>\n",
              "      <td>2.3</td>\n",
              "      <td>Iris-virginica</td>\n",
              "    </tr>\n",
              "    <tr>\n",
              "      <th>149</th>\n",
              "      <td>5.9</td>\n",
              "      <td>3.0</td>\n",
              "      <td>5.1</td>\n",
              "      <td>1.8</td>\n",
              "      <td>Iris-virginica</td>\n",
              "    </tr>\n",
              "  </tbody>\n",
              "</table>\n",
              "<p>150 rows × 5 columns</p>\n",
              "</div>\n",
              "      <button class=\"colab-df-convert\" onclick=\"convertToInteractive('df-9143a20a-4e5c-4197-91b1-c8b8a68f67d9')\"\n",
              "              title=\"Convert this dataframe to an interactive table.\"\n",
              "              style=\"display:none;\">\n",
              "        \n",
              "  <svg xmlns=\"http://www.w3.org/2000/svg\" height=\"24px\"viewBox=\"0 0 24 24\"\n",
              "       width=\"24px\">\n",
              "    <path d=\"M0 0h24v24H0V0z\" fill=\"none\"/>\n",
              "    <path d=\"M18.56 5.44l.94 2.06.94-2.06 2.06-.94-2.06-.94-.94-2.06-.94 2.06-2.06.94zm-11 1L8.5 8.5l.94-2.06 2.06-.94-2.06-.94L8.5 2.5l-.94 2.06-2.06.94zm10 10l.94 2.06.94-2.06 2.06-.94-2.06-.94-.94-2.06-.94 2.06-2.06.94z\"/><path d=\"M17.41 7.96l-1.37-1.37c-.4-.4-.92-.59-1.43-.59-.52 0-1.04.2-1.43.59L10.3 9.45l-7.72 7.72c-.78.78-.78 2.05 0 2.83L4 21.41c.39.39.9.59 1.41.59.51 0 1.02-.2 1.41-.59l7.78-7.78 2.81-2.81c.8-.78.8-2.07 0-2.86zM5.41 20L4 18.59l7.72-7.72 1.47 1.35L5.41 20z\"/>\n",
              "  </svg>\n",
              "      </button>\n",
              "      \n",
              "  <style>\n",
              "    .colab-df-container {\n",
              "      display:flex;\n",
              "      flex-wrap:wrap;\n",
              "      gap: 12px;\n",
              "    }\n",
              "\n",
              "    .colab-df-convert {\n",
              "      background-color: #E8F0FE;\n",
              "      border: none;\n",
              "      border-radius: 50%;\n",
              "      cursor: pointer;\n",
              "      display: none;\n",
              "      fill: #1967D2;\n",
              "      height: 32px;\n",
              "      padding: 0 0 0 0;\n",
              "      width: 32px;\n",
              "    }\n",
              "\n",
              "    .colab-df-convert:hover {\n",
              "      background-color: #E2EBFA;\n",
              "      box-shadow: 0px 1px 2px rgba(60, 64, 67, 0.3), 0px 1px 3px 1px rgba(60, 64, 67, 0.15);\n",
              "      fill: #174EA6;\n",
              "    }\n",
              "\n",
              "    [theme=dark] .colab-df-convert {\n",
              "      background-color: #3B4455;\n",
              "      fill: #D2E3FC;\n",
              "    }\n",
              "\n",
              "    [theme=dark] .colab-df-convert:hover {\n",
              "      background-color: #434B5C;\n",
              "      box-shadow: 0px 1px 3px 1px rgba(0, 0, 0, 0.15);\n",
              "      filter: drop-shadow(0px 1px 2px rgba(0, 0, 0, 0.3));\n",
              "      fill: #FFFFFF;\n",
              "    }\n",
              "  </style>\n",
              "\n",
              "      <script>\n",
              "        const buttonEl =\n",
              "          document.querySelector('#df-9143a20a-4e5c-4197-91b1-c8b8a68f67d9 button.colab-df-convert');\n",
              "        buttonEl.style.display =\n",
              "          google.colab.kernel.accessAllowed ? 'block' : 'none';\n",
              "\n",
              "        async function convertToInteractive(key) {\n",
              "          const element = document.querySelector('#df-9143a20a-4e5c-4197-91b1-c8b8a68f67d9');\n",
              "          const dataTable =\n",
              "            await google.colab.kernel.invokeFunction('convertToInteractive',\n",
              "                                                     [key], {});\n",
              "          if (!dataTable) return;\n",
              "\n",
              "          const docLinkHtml = 'Like what you see? Visit the ' +\n",
              "            '<a target=\"_blank\" href=https://colab.research.google.com/notebooks/data_table.ipynb>data table notebook</a>'\n",
              "            + ' to learn more about interactive tables.';\n",
              "          element.innerHTML = '';\n",
              "          dataTable['output_type'] = 'display_data';\n",
              "          await google.colab.output.renderOutput(dataTable, element);\n",
              "          const docLink = document.createElement('div');\n",
              "          docLink.innerHTML = docLinkHtml;\n",
              "          element.appendChild(docLink);\n",
              "        }\n",
              "      </script>\n",
              "    </div>\n",
              "  </div>\n",
              "  "
            ]
          },
          "metadata": {},
          "execution_count": 4
        }
      ],
      "source": [
        "data_path = '/content/SkillTreePython-DeepLearning/dataset/iris.csv'\n",
        "df = pd.read_csv(data_path, header=None)\n",
        "df"
      ]
    },
    {
      "cell_type": "code",
      "source": [
        "sns.countplot(x=df[4]);plt.title('all dataset')"
      ],
      "metadata": {
        "id": "PoXYFIE9_mTS",
        "colab": {
          "base_uri": "https://localhost:8080/",
          "height": 314
        },
        "outputId": "447660b2-428e-4562-f7cd-1a39afbb5804"
      },
      "execution_count": 6,
      "outputs": [
        {
          "output_type": "execute_result",
          "data": {
            "text/plain": [
              "Text(0.5, 1.0, 'all dataset')"
            ]
          },
          "metadata": {},
          "execution_count": 6
        },
        {
          "output_type": "display_data",
          "data": {
            "text/plain": [
              "<Figure size 432x288 with 1 Axes>"
            ],
            "image/png": "[encoded data removed]"
          },
          "metadata": {
            "needs_background": "light"
          }
        }
      ]
    },
    {
      "cell_type": "code",
      "source": [
        "from sklearn.preprocessing import StandardScaler, OneHotEncoder\n",
        "from sklearn.model_selection import train_test_split\n",
        "\n",
        "def iris_preprocess(df, seed=1):\n",
        "  # x-y 분할\n",
        "  x = df.values[:, :-1] #(전체샘플, 마지막 변수 전까지)\n",
        "  y = df.values[:, -1] # (전체샘플, 마지막 변수)\n",
        "  # 정규화 (x 데이터만)\n",
        "  ss = StandardScaler()\n",
        "  x = ss.fit_transform(x)\n",
        "  # 원-핫 (y 데이터만)\n",
        "  oh = OneHotEncoder(sparse=False)\n",
        "  y = oh.fit_transform(np.expand_dims(y, 1)) # 인풋이 무조건 행렬 (150, ) -> (150, 1)\n",
        "  print(f'원-핫 변환 순서: {oh.categories_}')\n",
        "  # train-test 분할\n",
        "  x_train, x_test, y_train, y_test = train_test_split(x, y, test_size=0.3,\n",
        "                                                      random_state=seed,\n",
        "                                                      stratify = y)\n",
        "  return x_train, x_test, y_train, y_test\n",
        "\n",
        "x_train, x_test, y_train, y_test = iris_preprocess(df)\n",
        "print(f'데이터 형태: {x_train.shape}, {x_test.shape}, {y_train.shape}, {y_test.shape}')\n",
        "print(f'첫번째 샘플 x:{x_train[0]} y:{y_train[0]}')"
      ],
      "metadata": {
        "id": "BkDCCMLBgawg",
        "colab": {
          "base_uri": "https://localhost:8080/"
        },
        "outputId": "f94d1c37-c8e4-4ca5-c643-dceb5e661d45"
      },
      "execution_count": 8,
      "outputs": [
        {
          "output_type": "stream",
          "name": "stdout",
          "text": [
            "원-핫 변환 순서: [array(['Iris-setosa', 'Iris-versicolor', 'Iris-virginica'], dtype=object)]\n",
            "데이터 형태: (105, 4), (45, 4), (105, 3), (45, 3)\n",
            "첫번째 샘플 x:[ 0.55333328 -0.58776353  0.76275864  0.39617188] y:[0. 0. 1.]\n"
          ]
        }
      ]
    },
    {
      "cell_type": "markdown",
      "source": [
        "* 예측값 분포 확인"
      ],
      "metadata": {
        "id": "87SJwUDWglBP"
      }
    },
    {
      "cell_type": "code",
      "source": [
        "plt.subplot(121);sns.countplot(x=np.argmax(y_train, axis=1));plt.title('train dataset')\n",
        "plt.subplot(122);sns.countplot(x=np.argmax(y_test, axis=1));plt.title('test dataset')"
      ],
      "metadata": {
        "id": "hLNYhitOgf0o",
        "colab": {
          "base_uri": "https://localhost:8080/",
          "height": 300
        },
        "outputId": "d289593e-1966-435b-b16c-7a22430247fd"
      },
      "execution_count": 10,
      "outputs": [
        {
          "output_type": "execute_result",
          "data": {
            "text/plain": [
              "Text(0.5, 1.0, 'test dataset')"
            ]
          },
          "metadata": {},
          "execution_count": 10
        },
        {
          "output_type": "display_data",
          "data": {
            "text/plain": [
              "<Figure size 432x288 with 2 Axes>"
            ],
            "image/png": "[encoded data removed]"
          },
          "metadata": {
            "needs_background": "light"
          }
        }
      ]
    },
    {
      "cell_type": "markdown",
      "source": [
        "### | 모델\n",
        "\n",
        "\n",
        "<p align='center'>\n",
        "<img src=https://github.com/yebiny/SkillTreePython-DeepLearning/blob/main/imgs/ch0105-02.PNG?raw=true width=800>\n",
        "</p>\n"
      ],
      "metadata": {
        "id": "DHshtWB9r0be"
      }
    },
    {
      "cell_type": "markdown",
      "source": [
        "#### **모델 생성**"
      ],
      "metadata": {
        "id": "J94jFpWyr2k9"
      }
    },
    {
      "cell_type": "code",
      "source": [
        "from tensorflow.keras import models, layers, utils\n",
        "\n",
        "def build_model():\n",
        "  model = models.Sequential()\n",
        "  model.add(layers.InputLayer(input_shape=(4,)))\n",
        "  model.add(layers.Dense(12, activation='relu'))\n",
        "  model.add(layers.Dense(8, activation='relu'))\n",
        "  model.add(layers.Dense(3, activation='softmax', name='OutputLayer'))\n",
        "  return model"
      ],
      "metadata": {
        "id": "5BZG1z90rsGc"
      },
      "execution_count": 11,
      "outputs": []
    },
    {
      "cell_type": "markdown",
      "source": [
        "#### **모델 시각화**\n",
        "\n",
        "* `model.summary()`\n",
        "* `utils.plot_model()`"
      ],
      "metadata": {
        "id": "1yqXLbEyx5QK"
      }
    },
    {
      "cell_type": "code",
      "source": [
        "model = build_model()\n",
        "model.summary()\n",
        "utils.plot_model(model, show_shapes=True)"
      ],
      "metadata": {
        "id": "dKCT38Fsr6dF",
        "colab": {
          "base_uri": "https://localhost:8080/",
          "height": 702
        },
        "outputId": "20bb5e7b-ff9c-40e1-c0d8-05b37c04f12b"
      },
      "execution_count": 12,
      "outputs": [
        {
          "output_type": "stream",
          "name": "stdout",
          "text": [
            "Model: \"sequential\"\n",
            "_________________________________________________________________\n",
            " Layer (type)                Output Shape              Param #   \n",
            "=================================================================\n",
            " dense (Dense)               (None, 12)                60        \n",
            "                                                                 \n",
            " dense_1 (Dense)             (None, 8)                 104       \n",
            "                                                                 \n",
            " OutputLayer (Dense)         (None, 3)                 27        \n",
            "                                                                 \n",
            "=================================================================\n",
            "Total params: 191\n",
            "Trainable params: 191\n",
            "Non-trainable params: 0\n",
            "_________________________________________________________________\n"
          ]
        },
        {
          "output_type": "execute_result",
          "data": {
            "text/plain": [
              "<IPython.core.display.Image object>"
            ],
            "image/png": "[encoded data removed]"
          },
          "metadata": {},
          "execution_count": 12
        }
      ]
    },
    {
      "cell_type": "markdown",
      "source": [
        "### | 학습"
      ],
      "metadata": {
        "id": "gLuvsUFmwzPa"
      }
    },
    {
      "cell_type": "markdown",
      "source": [
        "#### **모델 컴파일**\n",
        "\n",
        "```\n",
        "model.compile(loss, optimizer, metrics) \n",
        "```\n",
        "* `loss` : 다중분류 문제, 'categorical_crossentropy'\n",
        "* `optimizer` : 문제와 상관없음. 'adam'\n",
        "* `metrics`: accuracy (정확도)\n"
      ],
      "metadata": {
        "id": "fwQboNHp3EHe"
      }
    },
    {
      "cell_type": "code",
      "source": [
        "model.compile(loss='categorical_crossentropy',\n",
        "              optimizer='adam',\n",
        "              metrics=['accuracy'])"
      ],
      "metadata": {
        "id": "SASPIskxgfRY"
      },
      "execution_count": 13,
      "outputs": []
    },
    {
      "cell_type": "markdown",
      "source": [
        "#### **학습**\n",
        "\n",
        "```\n",
        "model.fit(x_train, y_train, epochs, batch_size)\n",
        "```\n",
        "* `x_train` : 넘파이 혹은 텐서 형식의 인풋 데이터\n",
        "* `y_train` : 넘파이 혹은 텐서 형식의 아웃풋 데이터\n",
        "* `epochs` : 학습 횟수\n",
        "* `batch_size` : 배치 사이즈 ((업데이트 한번에 사용될 샘플 개수)"
      ],
      "metadata": {
        "id": "JukUpWB4gfRY"
      }
    },
    {
      "cell_type": "code",
      "source": [
        "model.fit(x_train, y_train, epochs=100, batch_size=8)"
      ],
      "metadata": {
        "id": "9bgbpUhogfRY"
      },
      "execution_count": null,
      "outputs": []
    },
    {
      "cell_type": "markdown",
      "source": [
        "### | 검증 및 예측\n"
      ],
      "metadata": {
        "id": "DyFOnqyNw5_q"
      }
    },
    {
      "cell_type": "markdown",
      "source": [
        "#### **검증**\n",
        "\n",
        "```\n",
        "model.evaluate(x_test, y_test)\n",
        "```\n",
        "* `x_test` : 넘파이 혹은 텐서 형식의 인풋 테스트 데이터\n",
        "* `y_test` : 넘파이 혹은 텐서 형식의 아웃풋 테스트 데이터"
      ],
      "metadata": {
        "id": "qlalKZ-a04c3"
      }
    },
    {
      "cell_type": "code",
      "source": [
        "model.evaluate(x_test, y_test)"
      ],
      "metadata": {
        "id": "uHGyMlf60zng",
        "colab": {
          "base_uri": "https://localhost:8080/"
        },
        "outputId": "d0a6a7b9-83a3-4f6d-8f11-faaec6637639"
      },
      "execution_count": 16,
      "outputs": [
        {
          "output_type": "stream",
          "name": "stdout",
          "text": [
            "2/2 [==============================] - 0s 6ms/step - loss: 0.0895 - accuracy: 0.9333\n"
          ]
        },
        {
          "output_type": "execute_result",
          "data": {
            "text/plain": [
              "[0.08946052193641663, 0.9333333373069763]"
            ]
          },
          "metadata": {},
          "execution_count": 16
        }
      ]
    },
    {
      "cell_type": "markdown",
      "source": [
        "#### **예측**\n",
        "\n",
        "```\n",
        "model.predict(x_test)\n",
        "```\n",
        "* `x_test` : 넘파이 혹은 텐서 형식의 인풋 테스트 데이터\n",
        "* `y_test` : 넘파이 혹은 텐서 형식의 아웃풋 테스트 데이터"
      ],
      "metadata": {
        "id": "BITPUIOj07Uv"
      }
    },
    {
      "cell_type": "code",
      "source": [
        ""
      ],
      "metadata": {
        "id": "KfDHL4PRv8YD"
      },
      "execution_count": null,
      "outputs": []
    },
    {
      "cell_type": "markdown",
      "source": [
        "* 예측 시각화"
      ],
      "metadata": {
        "id": "gThN4RCR0_HI"
      }
    },
    {
      "cell_type": "code",
      "source": [
        ""
      ],
      "metadata": {
        "id": "TG533VyLwDaK"
      },
      "execution_count": null,
      "outputs": []
    },
    {
      "cell_type": "markdown",
      "source": [
        "## 과제\n",
        "---"
      ],
      "metadata": {
        "id": "ZFrRTgcyipYg"
      }
    },
    {
      "cell_type": "markdown",
      "source": [
        "### | 과제1. 이진분류 문제 정리\n",
        "\n",
        "* 예측값의 범위 :\n",
        "* 예측값의 shape :\n",
        "* 아웃풋 레이어의 노드 개수 : \n",
        "* 아웃풋 레이어의 activation :\n",
        "* 손실함수 (loss) : \n",
        "* 평가함수 (metrics) : "
      ],
      "metadata": {
        "id": "xjnJSLgXK_Pp"
      }
    },
    {
      "cell_type": "markdown",
      "source": [
        "### | 과제2. 한 셀에 코드 정리하기\n",
        "\n",
        "* 추가 연습\n",
        "  * 모델의 깊이(depth)를 늘려가며 학습해 보세요.\n",
        "  * 모델의 너비(width)를 늘려가며 학습해 보세요."
      ],
      "metadata": {
        "id": "ZvFAB78P1B_Q"
      }
    },
    {
      "cell_type": "code",
      "source": [
        ""
      ],
      "metadata": {
        "id": "v5WYSd9a1Cz4"
      },
      "execution_count": null,
      "outputs": []
    },
    {
      "cell_type": "markdown",
      "source": [
        "### | 과제 3. MNIST 숫자 데이터 분류\n",
        "\n",
        "```\n",
        "mnist = tf.keras.datasets.mnist\n",
        "(x_train, y_train), (x_test, y_test) = mnist.load_data()\n",
        "print(x_train.shape, y_train.shape, x_test.shape, y_test.shape)\n",
        "```"
      ],
      "metadata": {
        "id": "2K0mAdPzjOAf"
      }
    },
    {
      "cell_type": "code",
      "source": [
        ""
      ],
      "metadata": {
        "id": "aMfhH4ojun0G"
      },
      "execution_count": null,
      "outputs": []
    },
    {
      "cell_type": "markdown",
      "source": [
        "* 데이터 시각화"
      ],
      "metadata": {
        "id": "EOskN_eSMJNL"
      }
    },
    {
      "cell_type": "code",
      "source": [
        ""
      ],
      "metadata": {
        "id": "oYaA4aLuv7F4"
      },
      "execution_count": null,
      "outputs": []
    },
    {
      "cell_type": "markdown",
      "source": [
        "### | 모델\n",
        "\n",
        "\n",
        "<p align='center'>\n",
        "<img src=https://github.com/yebiny/SkillTreePython-DeepLearning/blob/main/imgs/ch0105-03.PNG?raw=true width=500>\n",
        "</p>\n"
      ],
      "metadata": {
        "id": "po1mICbWv48p"
      }
    },
    {
      "cell_type": "markdown",
      "source": [
        "#### **모델 생성**"
      ],
      "metadata": {
        "id": "C_gpuC1Ev48p"
      }
    },
    {
      "cell_type": "code",
      "source": [
        ""
      ],
      "metadata": {
        "id": "bDFZF-9Jv48q"
      },
      "execution_count": null,
      "outputs": []
    },
    {
      "cell_type": "markdown",
      "source": [
        "#### **모델 시각화**\n",
        "\n",
        "* `model.summary()`\n",
        "* `utils.plot_model()`"
      ],
      "metadata": {
        "id": "nopDIQEiv48q"
      }
    },
    {
      "cell_type": "code",
      "source": [
        ""
      ],
      "metadata": {
        "id": "rXzVjMLpv48q"
      },
      "execution_count": null,
      "outputs": []
    },
    {
      "cell_type": "markdown",
      "source": [
        "### | 학습"
      ],
      "metadata": {
        "id": "mwtIo0te0dvn"
      }
    },
    {
      "cell_type": "markdown",
      "source": [
        "#### **모델 컴파일**\n",
        "\n",
        "```\n",
        "model.compile(loss, optimizer, metrics) \n",
        "```\n",
        "* `loss` : \n",
        "* `optimizer` : \n",
        "* `metrics`: \n"
      ],
      "metadata": {
        "id": "BEN3BQFF0dvt"
      }
    },
    {
      "cell_type": "code",
      "source": [
        ""
      ],
      "metadata": {
        "id": "RhuM6-_f0dvt"
      },
      "execution_count": null,
      "outputs": []
    },
    {
      "cell_type": "markdown",
      "source": [
        "#### **학습**\n",
        "\n",
        "```\n",
        "model.fit(x_train, y_train, epochs, batch_size)\n",
        "```\n",
        "* `x_train` : 넘파이 혹은 텐서 형식의 인풋 데이터\n",
        "* `y_train` : 넘파이 혹은 텐서 형식의 아웃풋 데이터\n",
        "* `epochs` : 학습 횟수\n",
        "* `batch_size` : 배치 사이즈 ((업데이트 한번에 사용될 샘플 개수)"
      ],
      "metadata": {
        "id": "weF5ryop0dvt"
      }
    },
    {
      "cell_type": "code",
      "source": [
        ""
      ],
      "metadata": {
        "id": "URyV2ICw0dvt"
      },
      "execution_count": null,
      "outputs": []
    },
    {
      "cell_type": "markdown",
      "source": [
        "### | 검증 및 예측\n"
      ],
      "metadata": {
        "id": "4UIAL_HA0dvt"
      }
    },
    {
      "cell_type": "markdown",
      "source": [
        "#### **검증**\n",
        "\n",
        "```\n",
        "model.evaluate(x_test, y_test)\n",
        "```\n",
        "* `x_test` : 넘파이 혹은 텐서 형식의 인풋 테스트 데이터\n",
        "* `y_test` : 넘파이 혹은 텐서 형식의 아웃풋 테스트 데이터"
      ],
      "metadata": {
        "id": "JNcvTwyU0dvt"
      }
    },
    {
      "cell_type": "code",
      "source": [
        ""
      ],
      "metadata": {
        "id": "blrfzkKN0dvu"
      },
      "execution_count": null,
      "outputs": []
    },
    {
      "cell_type": "markdown",
      "source": [
        "#### **예측**\n",
        "\n",
        "```\n",
        "model.predict(x_test)\n",
        "```\n",
        "* `x_test` : 넘파이 혹은 텐서 형식의 인풋 테스트 데이터\n",
        "* `y_test` : 넘파이 혹은 텐서 형식의 아웃풋 테스트 데이터"
      ],
      "metadata": {
        "id": "4IHDLt-D0dvu"
      }
    },
    {
      "cell_type": "code",
      "source": [
        ""
      ],
      "metadata": {
        "id": "P2lPLl970dvu"
      },
      "execution_count": null,
      "outputs": []
    },
    {
      "cell_type": "markdown",
      "source": [
        "* 예측 시각화"
      ],
      "metadata": {
        "id": "xyDfuLj-0dvu"
      }
    },
    {
      "cell_type": "code",
      "source": [
        ""
      ],
      "metadata": {
        "id": "GrBlEHxm0dvu"
      },
      "execution_count": null,
      "outputs": []
    },
    {
      "cell_type": "markdown",
      "source": [
        "* 모델 활용"
      ],
      "metadata": {
        "id": "4-APLR7G2Dep"
      }
    },
    {
      "cell_type": "code",
      "source": [
        ""
      ],
      "metadata": {
        "id": "3e_9LSrE0wbl"
      },
      "execution_count": null,
      "outputs": []
    },
    {
      "cell_type": "code",
      "source": [
        ""
      ],
      "metadata": {
        "id": "sCp8tPhh2G14"
      },
      "execution_count": null,
      "outputs": []
    }
  ]
}