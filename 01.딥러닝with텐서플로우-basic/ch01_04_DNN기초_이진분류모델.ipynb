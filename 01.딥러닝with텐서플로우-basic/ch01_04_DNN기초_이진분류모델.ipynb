{
  "nbformat": 4,
  "nbformat_minor": 0,
  "metadata": {
    "colab": {
      "name": "ch01_04_DNN기초-이진분류모델.ipynb",
      "provenance": [],
      "collapsed_sections": [],
      "toc_visible": true,
      "include_colab_link": true
    },
    "kernelspec": {
      "name": "python3",
      "display_name": "Python 3"
    },
    "language_info": {
      "name": "python"
    }
  },
  "cells": [
    {
      "cell_type": "markdown",
      "metadata": {
        "id": "view-in-github",
        "colab_type": "text"
      },
      "source": [
        "<a href=\"https://colab.research.google.com/github/GETHUB55/SkillTreePython-DeepLearning/blob/main/01.%EB%94%A5%EB%9F%AC%EB%8B%9Dwith%ED%85%90%EC%84%9C%ED%94%8C%EB%A1%9C%EC%9A%B0-basic/ch01_04_DNN%EA%B8%B0%EC%B4%88_%EC%9D%B4%EC%A7%84%EB%B6%84%EB%A5%98%EB%AA%A8%EB%8D%B8.ipynb\" target=\"_parent\"><img src=\"https://colab.research.google.com/assets/colab-badge.svg\" alt=\"Open In Colab\"/></a>"
      ]
    },
    {
      "cell_type": "markdown",
      "source": [
        "# ch01.04 DNN기초 - 이진분류 모델\n",
        "\n",
        "\n",
        "---\n",
        "* 날짜:\n",
        "* 이름:\n",
        "\n",
        "## 학습내용\n",
        "    - 딥러닝을 이용한 이진분류 모델 구현\n",
        "    - 적절한 손실함수와 최적화 함수 정의\n",
        "    - 평가 및 예측\n",
        "\n",
        "## 학습자료\n",
        "\n",
        "* 모두의딥러닝 11장, 13장\n",
        "* 데이터\n",
        "  * `sornar.csv`\n",
        "  * `pima-indians-diabetes.csv`\n",
        "\n",
        "\n",
        "```\n",
        "import numpy as np\n",
        "import pandas as pd\n",
        "import tensorflow as tf\n",
        "import matplotlib.pyplot as plt\n",
        "import seaborn as sns\n",
        "seed=1\n",
        "np.random.seed(seed)\n",
        "tf.random.set_seed(seed)\n",
        "```\n",
        "\n",
        "```\n",
        "https://github.com/yebiny/SkillTreePython-DeepLearning.git\n",
        "```"
      ],
      "metadata": {
        "id": "sWs2kEC1_b-P"
      }
    },
    {
      "cell_type": "code",
      "source": [
        "import numpy as np\n",
        "import pandas as pd\n",
        "import tensorflow as tf\n",
        "import matplotlib.pyplot as plt\n",
        "import seaborn as sns\n",
        "seed=1\n",
        "np.random.seed(seed)\n",
        "tf.random.set_seed(seed)"
      ],
      "metadata": {
        "id": "3dvXKSSnDQ9V"
      },
      "execution_count": 1,
      "outputs": []
    },
    {
      "cell_type": "code",
      "source": [
        "! git clone https://github.com/GETHUB55/SkillTreePython-DeepLearning"
      ],
      "metadata": {
        "id": "VIgPnWNbUt_X",
        "outputId": "fee50dc9-1dfa-4063-f3ca-8887337c8a0a",
        "colab": {
          "base_uri": "https://localhost:8080/"
        }
      },
      "execution_count": 3,
      "outputs": [
        {
          "output_type": "stream",
          "name": "stdout",
          "text": [
            "Cloning into 'SkillTreePython-DeepLearning'...\n",
            "remote: Enumerating objects: 376, done.\u001b[K\n",
            "remote: Counting objects: 100% (183/183), done.\u001b[K\n",
            "remote: Compressing objects: 100% (109/109), done.\u001b[K\n",
            "remote: Total 376 (delta 122), reused 99 (delta 74), pack-reused 193\u001b[K\n",
            "Receiving objects: 100% (376/376), 28.23 MiB | 12.28 MiB/s, done.\n",
            "Resolving deltas: 100% (157/157), done.\n"
          ]
        }
      ]
    },
    {
      "cell_type": "markdown",
      "source": [
        "## 소나 데이터 광물 예측\n",
        "---\n",
        "\n",
        "> 1988년 존스홉킨스 대학교의 세즈노프스키(Sejnowski) 교수는 광석과 일반 돌을 가져다 놓고 음파 탐지기를 쏜 후 그 결과를 데이터를 정리했습니다. 신경망이 광석과 돌을 얼마나 잘 구분하는지 알아보도록 합시다.\n",
        "\n",
        "```\n",
        "- 0~59 : 음파 탐지기를 이용해 얻은 값\n",
        "- 60: 광석 구분 {R, M}\n",
        "```\n",
        "<p align='center'>\n",
        "<img src=https://github.com/yebiny/SkillTreePython-DeepLearning/blob/main/imgs/ch0104-01.PNG?raw=true width=450>\n",
        "</p>\n",
        "\n",
        "\n"
      ],
      "metadata": {
        "id": "KOmt3w8_rVe2"
      }
    },
    {
      "cell_type": "markdown",
      "source": [
        "### | 데이터 준비"
      ],
      "metadata": {
        "id": "TmgkVAdIfngb"
      }
    },
    {
      "cell_type": "markdown",
      "source": [
        "#### **데이터 로드**\n",
        "* `sonar.csv`"
      ],
      "metadata": {
        "id": "cHXodXKif2BB"
      }
    },
    {
      "cell_type": "code",
      "execution_count": 44,
      "metadata": {
        "id": "2sh64rMrANLD",
        "outputId": "44a1d3ce-b6d8-408e-b436-78325712d96e",
        "colab": {
          "base_uri": "https://localhost:8080/",
          "height": 442
        }
      },
      "outputs": [
        {
          "output_type": "stream",
          "name": "stdout",
          "text": [
            "(208, 61)\n"
          ]
        },
        {
          "output_type": "execute_result",
          "data": {
            "text/plain": [
              "         0       1       2       3       4       5       6       7       8   \\\n",
              "0    0.0200  0.0371  0.0428  0.0207  0.0954  0.0986  0.1539  0.1601  0.3109   \n",
              "1    0.0453  0.0523  0.0843  0.0689  0.1183  0.2583  0.2156  0.3481  0.3337   \n",
              "2    0.0262  0.0582  0.1099  0.1083  0.0974  0.2280  0.2431  0.3771  0.5598   \n",
              "3    0.0100  0.0171  0.0623  0.0205  0.0205  0.0368  0.1098  0.1276  0.0598   \n",
              "4    0.0762  0.0666  0.0481  0.0394  0.0590  0.0649  0.1209  0.2467  0.3564   \n",
              "..      ...     ...     ...     ...     ...     ...     ...     ...     ...   \n",
              "203  0.0187  0.0346  0.0168  0.0177  0.0393  0.1630  0.2028  0.1694  0.2328   \n",
              "204  0.0323  0.0101  0.0298  0.0564  0.0760  0.0958  0.0990  0.1018  0.1030   \n",
              "205  0.0522  0.0437  0.0180  0.0292  0.0351  0.1171  0.1257  0.1178  0.1258   \n",
              "206  0.0303  0.0353  0.0490  0.0608  0.0167  0.1354  0.1465  0.1123  0.1945   \n",
              "207  0.0260  0.0363  0.0136  0.0272  0.0214  0.0338  0.0655  0.1400  0.1843   \n",
              "\n",
              "         9   ...      51      52      53      54      55      56      57  \\\n",
              "0    0.2111  ...  0.0027  0.0065  0.0159  0.0072  0.0167  0.0180  0.0084   \n",
              "1    0.2872  ...  0.0084  0.0089  0.0048  0.0094  0.0191  0.0140  0.0049   \n",
              "2    0.6194  ...  0.0232  0.0166  0.0095  0.0180  0.0244  0.0316  0.0164   \n",
              "3    0.1264  ...  0.0121  0.0036  0.0150  0.0085  0.0073  0.0050  0.0044   \n",
              "4    0.4459  ...  0.0031  0.0054  0.0105  0.0110  0.0015  0.0072  0.0048   \n",
              "..      ...  ...     ...     ...     ...     ...     ...     ...     ...   \n",
              "203  0.2684  ...  0.0116  0.0098  0.0199  0.0033  0.0101  0.0065  0.0115   \n",
              "204  0.2154  ...  0.0061  0.0093  0.0135  0.0063  0.0063  0.0034  0.0032   \n",
              "205  0.2529  ...  0.0160  0.0029  0.0051  0.0062  0.0089  0.0140  0.0138   \n",
              "206  0.2354  ...  0.0086  0.0046  0.0126  0.0036  0.0035  0.0034  0.0079   \n",
              "207  0.2354  ...  0.0146  0.0129  0.0047  0.0039  0.0061  0.0040  0.0036   \n",
              "\n",
              "         58      59  60  \n",
              "0    0.0090  0.0032   R  \n",
              "1    0.0052  0.0044   R  \n",
              "2    0.0095  0.0078   R  \n",
              "3    0.0040  0.0117   R  \n",
              "4    0.0107  0.0094   R  \n",
              "..      ...     ...  ..  \n",
              "203  0.0193  0.0157   M  \n",
              "204  0.0062  0.0067   M  \n",
              "205  0.0077  0.0031   M  \n",
              "206  0.0036  0.0048   M  \n",
              "207  0.0061  0.0115   M  \n",
              "\n",
              "[208 rows x 61 columns]"
            ],
            "text/html": [
              "\n",
              "  <div id=\"df-64c49ad0-125d-46ac-9258-67240d983065\">\n",
              "    <div class=\"colab-df-container\">\n",
              "      <div>\n",
              "<style scoped>\n",
              "    .dataframe tbody tr th:only-of-type {\n",
              "        vertical-align: middle;\n",
              "    }\n",
              "\n",
              "    .dataframe tbody tr th {\n",
              "        vertical-align: top;\n",
              "    }\n",
              "\n",
              "    .dataframe thead th {\n",
              "        text-align: right;\n",
              "    }\n",
              "</style>\n",
              "<table border=\"1\" class=\"dataframe\">\n",
              "  <thead>\n",
              "    <tr style=\"text-align: right;\">\n",
              "      <th></th>\n",
              "      <th>0</th>\n",
              "      <th>1</th>\n",
              "      <th>2</th>\n",
              "      <th>3</th>\n",
              "      <th>4</th>\n",
              "      <th>5</th>\n",
              "      <th>6</th>\n",
              "      <th>7</th>\n",
              "      <th>8</th>\n",
              "      <th>9</th>\n",
              "      <th>...</th>\n",
              "      <th>51</th>\n",
              "      <th>52</th>\n",
              "      <th>53</th>\n",
              "      <th>54</th>\n",
              "      <th>55</th>\n",
              "      <th>56</th>\n",
              "      <th>57</th>\n",
              "      <th>58</th>\n",
              "      <th>59</th>\n",
              "      <th>60</th>\n",
              "    </tr>\n",
              "  </thead>\n",
              "  <tbody>\n",
              "    <tr>\n",
              "      <th>0</th>\n",
              "      <td>0.0200</td>\n",
              "      <td>0.0371</td>\n",
              "      <td>0.0428</td>\n",
              "      <td>0.0207</td>\n",
              "      <td>0.0954</td>\n",
              "      <td>0.0986</td>\n",
              "      <td>0.1539</td>\n",
              "      <td>0.1601</td>\n",
              "      <td>0.3109</td>\n",
              "      <td>0.2111</td>\n",
              "      <td>...</td>\n",
              "      <td>0.0027</td>\n",
              "      <td>0.0065</td>\n",
              "      <td>0.0159</td>\n",
              "      <td>0.0072</td>\n",
              "      <td>0.0167</td>\n",
              "      <td>0.0180</td>\n",
              "      <td>0.0084</td>\n",
              "      <td>0.0090</td>\n",
              "      <td>0.0032</td>\n",
              "      <td>R</td>\n",
              "    </tr>\n",
              "    <tr>\n",
              "      <th>1</th>\n",
              "      <td>0.0453</td>\n",
              "      <td>0.0523</td>\n",
              "      <td>0.0843</td>\n",
              "      <td>0.0689</td>\n",
              "      <td>0.1183</td>\n",
              "      <td>0.2583</td>\n",
              "      <td>0.2156</td>\n",
              "      <td>0.3481</td>\n",
              "      <td>0.3337</td>\n",
              "      <td>0.2872</td>\n",
              "      <td>...</td>\n",
              "      <td>0.0084</td>\n",
              "      <td>0.0089</td>\n",
              "      <td>0.0048</td>\n",
              "      <td>0.0094</td>\n",
              "      <td>0.0191</td>\n",
              "      <td>0.0140</td>\n",
              "      <td>0.0049</td>\n",
              "      <td>0.0052</td>\n",
              "      <td>0.0044</td>\n",
              "      <td>R</td>\n",
              "    </tr>\n",
              "    <tr>\n",
              "      <th>2</th>\n",
              "      <td>0.0262</td>\n",
              "      <td>0.0582</td>\n",
              "      <td>0.1099</td>\n",
              "      <td>0.1083</td>\n",
              "      <td>0.0974</td>\n",
              "      <td>0.2280</td>\n",
              "      <td>0.2431</td>\n",
              "      <td>0.3771</td>\n",
              "      <td>0.5598</td>\n",
              "      <td>0.6194</td>\n",
              "      <td>...</td>\n",
              "      <td>0.0232</td>\n",
              "      <td>0.0166</td>\n",
              "      <td>0.0095</td>\n",
              "      <td>0.0180</td>\n",
              "      <td>0.0244</td>\n",
              "      <td>0.0316</td>\n",
              "      <td>0.0164</td>\n",
              "      <td>0.0095</td>\n",
              "      <td>0.0078</td>\n",
              "      <td>R</td>\n",
              "    </tr>\n",
              "    <tr>\n",
              "      <th>3</th>\n",
              "      <td>0.0100</td>\n",
              "      <td>0.0171</td>\n",
              "      <td>0.0623</td>\n",
              "      <td>0.0205</td>\n",
              "      <td>0.0205</td>\n",
              "      <td>0.0368</td>\n",
              "      <td>0.1098</td>\n",
              "      <td>0.1276</td>\n",
              "      <td>0.0598</td>\n",
              "      <td>0.1264</td>\n",
              "      <td>...</td>\n",
              "      <td>0.0121</td>\n",
              "      <td>0.0036</td>\n",
              "      <td>0.0150</td>\n",
              "      <td>0.0085</td>\n",
              "      <td>0.0073</td>\n",
              "      <td>0.0050</td>\n",
              "      <td>0.0044</td>\n",
              "      <td>0.0040</td>\n",
              "      <td>0.0117</td>\n",
              "      <td>R</td>\n",
              "    </tr>\n",
              "    <tr>\n",
              "      <th>4</th>\n",
              "      <td>0.0762</td>\n",
              "      <td>0.0666</td>\n",
              "      <td>0.0481</td>\n",
              "      <td>0.0394</td>\n",
              "      <td>0.0590</td>\n",
              "      <td>0.0649</td>\n",
              "      <td>0.1209</td>\n",
              "      <td>0.2467</td>\n",
              "      <td>0.3564</td>\n",
              "      <td>0.4459</td>\n",
              "      <td>...</td>\n",
              "      <td>0.0031</td>\n",
              "      <td>0.0054</td>\n",
              "      <td>0.0105</td>\n",
              "      <td>0.0110</td>\n",
              "      <td>0.0015</td>\n",
              "      <td>0.0072</td>\n",
              "      <td>0.0048</td>\n",
              "      <td>0.0107</td>\n",
              "      <td>0.0094</td>\n",
              "      <td>R</td>\n",
              "    </tr>\n",
              "    <tr>\n",
              "      <th>...</th>\n",
              "      <td>...</td>\n",
              "      <td>...</td>\n",
              "      <td>...</td>\n",
              "      <td>...</td>\n",
              "      <td>...</td>\n",
              "      <td>...</td>\n",
              "      <td>...</td>\n",
              "      <td>...</td>\n",
              "      <td>...</td>\n",
              "      <td>...</td>\n",
              "      <td>...</td>\n",
              "      <td>...</td>\n",
              "      <td>...</td>\n",
              "      <td>...</td>\n",
              "      <td>...</td>\n",
              "      <td>...</td>\n",
              "      <td>...</td>\n",
              "      <td>...</td>\n",
              "      <td>...</td>\n",
              "      <td>...</td>\n",
              "      <td>...</td>\n",
              "    </tr>\n",
              "    <tr>\n",
              "      <th>203</th>\n",
              "      <td>0.0187</td>\n",
              "      <td>0.0346</td>\n",
              "      <td>0.0168</td>\n",
              "      <td>0.0177</td>\n",
              "      <td>0.0393</td>\n",
              "      <td>0.1630</td>\n",
              "      <td>0.2028</td>\n",
              "      <td>0.1694</td>\n",
              "      <td>0.2328</td>\n",
              "      <td>0.2684</td>\n",
              "      <td>...</td>\n",
              "      <td>0.0116</td>\n",
              "      <td>0.0098</td>\n",
              "      <td>0.0199</td>\n",
              "      <td>0.0033</td>\n",
              "      <td>0.0101</td>\n",
              "      <td>0.0065</td>\n",
              "      <td>0.0115</td>\n",
              "      <td>0.0193</td>\n",
              "      <td>0.0157</td>\n",
              "      <td>M</td>\n",
              "    </tr>\n",
              "    <tr>\n",
              "      <th>204</th>\n",
              "      <td>0.0323</td>\n",
              "      <td>0.0101</td>\n",
              "      <td>0.0298</td>\n",
              "      <td>0.0564</td>\n",
              "      <td>0.0760</td>\n",
              "      <td>0.0958</td>\n",
              "      <td>0.0990</td>\n",
              "      <td>0.1018</td>\n",
              "      <td>0.1030</td>\n",
              "      <td>0.2154</td>\n",
              "      <td>...</td>\n",
              "      <td>0.0061</td>\n",
              "      <td>0.0093</td>\n",
              "      <td>0.0135</td>\n",
              "      <td>0.0063</td>\n",
              "      <td>0.0063</td>\n",
              "      <td>0.0034</td>\n",
              "      <td>0.0032</td>\n",
              "      <td>0.0062</td>\n",
              "      <td>0.0067</td>\n",
              "      <td>M</td>\n",
              "    </tr>\n",
              "    <tr>\n",
              "      <th>205</th>\n",
              "      <td>0.0522</td>\n",
              "      <td>0.0437</td>\n",
              "      <td>0.0180</td>\n",
              "      <td>0.0292</td>\n",
              "      <td>0.0351</td>\n",
              "      <td>0.1171</td>\n",
              "      <td>0.1257</td>\n",
              "      <td>0.1178</td>\n",
              "      <td>0.1258</td>\n",
              "      <td>0.2529</td>\n",
              "      <td>...</td>\n",
              "      <td>0.0160</td>\n",
              "      <td>0.0029</td>\n",
              "      <td>0.0051</td>\n",
              "      <td>0.0062</td>\n",
              "      <td>0.0089</td>\n",
              "      <td>0.0140</td>\n",
              "      <td>0.0138</td>\n",
              "      <td>0.0077</td>\n",
              "      <td>0.0031</td>\n",
              "      <td>M</td>\n",
              "    </tr>\n",
              "    <tr>\n",
              "      <th>206</th>\n",
              "      <td>0.0303</td>\n",
              "      <td>0.0353</td>\n",
              "      <td>0.0490</td>\n",
              "      <td>0.0608</td>\n",
              "      <td>0.0167</td>\n",
              "      <td>0.1354</td>\n",
              "      <td>0.1465</td>\n",
              "      <td>0.1123</td>\n",
              "      <td>0.1945</td>\n",
              "      <td>0.2354</td>\n",
              "      <td>...</td>\n",
              "      <td>0.0086</td>\n",
              "      <td>0.0046</td>\n",
              "      <td>0.0126</td>\n",
              "      <td>0.0036</td>\n",
              "      <td>0.0035</td>\n",
              "      <td>0.0034</td>\n",
              "      <td>0.0079</td>\n",
              "      <td>0.0036</td>\n",
              "      <td>0.0048</td>\n",
              "      <td>M</td>\n",
              "    </tr>\n",
              "    <tr>\n",
              "      <th>207</th>\n",
              "      <td>0.0260</td>\n",
              "      <td>0.0363</td>\n",
              "      <td>0.0136</td>\n",
              "      <td>0.0272</td>\n",
              "      <td>0.0214</td>\n",
              "      <td>0.0338</td>\n",
              "      <td>0.0655</td>\n",
              "      <td>0.1400</td>\n",
              "      <td>0.1843</td>\n",
              "      <td>0.2354</td>\n",
              "      <td>...</td>\n",
              "      <td>0.0146</td>\n",
              "      <td>0.0129</td>\n",
              "      <td>0.0047</td>\n",
              "      <td>0.0039</td>\n",
              "      <td>0.0061</td>\n",
              "      <td>0.0040</td>\n",
              "      <td>0.0036</td>\n",
              "      <td>0.0061</td>\n",
              "      <td>0.0115</td>\n",
              "      <td>M</td>\n",
              "    </tr>\n",
              "  </tbody>\n",
              "</table>\n",
              "<p>208 rows × 61 columns</p>\n",
              "</div>\n",
              "      <button class=\"colab-df-convert\" onclick=\"convertToInteractive('df-64c49ad0-125d-46ac-9258-67240d983065')\"\n",
              "              title=\"Convert this dataframe to an interactive table.\"\n",
              "              style=\"display:none;\">\n",
              "        \n",
              "  <svg xmlns=\"http://www.w3.org/2000/svg\" height=\"24px\"viewBox=\"0 0 24 24\"\n",
              "       width=\"24px\">\n",
              "    <path d=\"M0 0h24v24H0V0z\" fill=\"none\"/>\n",
              "    <path d=\"M18.56 5.44l.94 2.06.94-2.06 2.06-.94-2.06-.94-.94-2.06-.94 2.06-2.06.94zm-11 1L8.5 8.5l.94-2.06 2.06-.94-2.06-.94L8.5 2.5l-.94 2.06-2.06.94zm10 10l.94 2.06.94-2.06 2.06-.94-2.06-.94-.94-2.06-.94 2.06-2.06.94z\"/><path d=\"M17.41 7.96l-1.37-1.37c-.4-.4-.92-.59-1.43-.59-.52 0-1.04.2-1.43.59L10.3 9.45l-7.72 7.72c-.78.78-.78 2.05 0 2.83L4 21.41c.39.39.9.59 1.41.59.51 0 1.02-.2 1.41-.59l7.78-7.78 2.81-2.81c.8-.78.8-2.07 0-2.86zM5.41 20L4 18.59l7.72-7.72 1.47 1.35L5.41 20z\"/>\n",
              "  </svg>\n",
              "      </button>\n",
              "      \n",
              "  <style>\n",
              "    .colab-df-container {\n",
              "      display:flex;\n",
              "      flex-wrap:wrap;\n",
              "      gap: 12px;\n",
              "    }\n",
              "\n",
              "    .colab-df-convert {\n",
              "      background-color: #E8F0FE;\n",
              "      border: none;\n",
              "      border-radius: 50%;\n",
              "      cursor: pointer;\n",
              "      display: none;\n",
              "      fill: #1967D2;\n",
              "      height: 32px;\n",
              "      padding: 0 0 0 0;\n",
              "      width: 32px;\n",
              "    }\n",
              "\n",
              "    .colab-df-convert:hover {\n",
              "      background-color: #E2EBFA;\n",
              "      box-shadow: 0px 1px 2px rgba(60, 64, 67, 0.3), 0px 1px 3px 1px rgba(60, 64, 67, 0.15);\n",
              "      fill: #174EA6;\n",
              "    }\n",
              "\n",
              "    [theme=dark] .colab-df-convert {\n",
              "      background-color: #3B4455;\n",
              "      fill: #D2E3FC;\n",
              "    }\n",
              "\n",
              "    [theme=dark] .colab-df-convert:hover {\n",
              "      background-color: #434B5C;\n",
              "      box-shadow: 0px 1px 3px 1px rgba(0, 0, 0, 0.15);\n",
              "      filter: drop-shadow(0px 1px 2px rgba(0, 0, 0, 0.3));\n",
              "      fill: #FFFFFF;\n",
              "    }\n",
              "  </style>\n",
              "\n",
              "      <script>\n",
              "        const buttonEl =\n",
              "          document.querySelector('#df-64c49ad0-125d-46ac-9258-67240d983065 button.colab-df-convert');\n",
              "        buttonEl.style.display =\n",
              "          google.colab.kernel.accessAllowed ? 'block' : 'none';\n",
              "\n",
              "        async function convertToInteractive(key) {\n",
              "          const element = document.querySelector('#df-64c49ad0-125d-46ac-9258-67240d983065');\n",
              "          const dataTable =\n",
              "            await google.colab.kernel.invokeFunction('convertToInteractive',\n",
              "                                                     [key], {});\n",
              "          if (!dataTable) return;\n",
              "\n",
              "          const docLinkHtml = 'Like what you see? Visit the ' +\n",
              "            '<a target=\"_blank\" href=https://colab.research.google.com/notebooks/data_table.ipynb>data table notebook</a>'\n",
              "            + ' to learn more about interactive tables.';\n",
              "          element.innerHTML = '';\n",
              "          dataTable['output_type'] = 'display_data';\n",
              "          await google.colab.output.renderOutput(dataTable, element);\n",
              "          const docLink = document.createElement('div');\n",
              "          docLink.innerHTML = docLinkHtml;\n",
              "          element.appendChild(docLink);\n",
              "        }\n",
              "      </script>\n",
              "    </div>\n",
              "  </div>\n",
              "  "
            ]
          },
          "metadata": {},
          "execution_count": 44
        }
      ],
      "source": [
        "path = '/content/SkillTreePython-DeepLearning/dataset/sonar.csv'\n",
        "dataset = pd.read_csv(path, header =None)\n",
        "\n",
        "print(dataset.shape)\n",
        "dataset"
      ]
    },
    {
      "cell_type": "markdown",
      "source": [
        "#### **데이터 전처리**"
      ],
      "metadata": {
        "id": "0NL7LyHXrhoW"
      }
    },
    {
      "cell_type": "code",
      "source": [
        "from sklearn.preprocessing import StandardScaler, LabelEncoder #머신러닝 라이브러니\n",
        "from sklearn.model_selection import train_test_split\n",
        "\n",
        "def path2dataset_sonar(path):\n",
        "\n",
        "# 불러오기\n",
        "  dataset = pd.read_csv(path,        #엑셀, csv 등 정형데이터를 불러오기\n",
        "                        header = None  #첫번째 샘플이 헤더로 읽히지 않도록 설정\n",
        "                        ) #데이터 형식: 판다스의 데이터프레임\n",
        "                      \n",
        "  dataset= dataset.values #데이터 형식: 넘파이 배열로 변환 (x-y분할해야하는데 걔네는 넘파이 배열이라 변환해줌)\n",
        "\n",
        "# x-y 분할 -> 넘파이 배열을 슬라이싱하는 기법\n",
        "  x = dataset[:, 0:-1] # (:모든행, 첫번째부터 마지막전까지의 열)\n",
        "  y = dataset[:, -1] # (:모든행, 마지막열)\n",
        "\n",
        "# 정규화(속성별로 데이터의 스케일을 조정) - x데이터에만 해줌\n",
        "  scaler = StandardScaler()\n",
        "  x = scaler.fit_transform(x)\n",
        "\n",
        "  # y{R,M} ->{0,1} 문자를 숫자로 바꿈 : 라벨링 . from에 라벨인코더 첨가\n",
        "  labeling = LabelEncoder()\n",
        "  y = labeling.fit_transform(y)\n",
        "  print(labeling.classes_)\n",
        "\n",
        "# train - test 분할\n",
        "  x_train, x_test,y_train, y_test = train_test_split(x,y,test_size=0.3)\n",
        "\n",
        "  return x_train, x_test,y_train, y_test\n",
        "\n",
        "x_train, x_test,y_train, y_test=path2dataset_sonar(path)\n",
        "print(x_train.shape, x_test.shape,y_train.shape, y_test.shape)\n",
        "print(f'첫 번째 샘플 x:{x_train[0]}')\n",
        "print(f'첫 번째 샘플 y:{y_train[0]}')"
      ],
      "metadata": {
        "id": "CoWLi5NgraBV",
        "colab": {
          "base_uri": "https://localhost:8080/"
        },
        "outputId": "65a916f6-db47-47e8-ef5d-ea4e970eba3e"
      },
      "execution_count": 45,
      "outputs": [
        {
          "output_type": "stream",
          "name": "stdout",
          "text": [
            "['M' 'R']\n",
            "(145, 60) (63, 60) (145,) (63,)\n",
            "첫 번째 샘플 x:[-4.43151731e-01 -1.05340339e+00  5.31301846e-01 -1.87269709e-01\n",
            " -7.56109028e-01 -6.03261023e-01 -5.13417493e-01  1.24794648e-01\n",
            " -8.80617195e-01 -1.29283515e+00 -6.80687617e-01  6.94735997e-01\n",
            "  3.29923021e-01 -8.69599845e-02 -1.48147120e+00 -1.38431837e+00\n",
            " -7.58748828e-01  1.52615267e-02 -4.77572220e-01 -1.32292855e-03\n",
            "  1.52955930e-01  3.88710230e-01  7.10112032e-01  8.54972164e-01\n",
            "  1.32839681e+00  6.69043376e-01 -1.87112282e-01 -7.83219777e-01\n",
            " -6.69140907e-01 -5.80914477e-01 -2.45344367e-01  6.65634120e-02\n",
            "  5.88693885e-01  5.52991371e-01  5.53284785e-01  5.39887442e-01\n",
            "  2.59858657e-01 -4.52117486e-01 -1.03375735e+00  4.11225021e-01\n",
            "  7.11473869e-01  1.35696146e+00  1.26250984e+00  2.54380402e-01\n",
            " -2.55396726e-01 -3.60970300e-01 -6.61178244e-01 -2.01136087e-01\n",
            " -5.41684805e-01 -9.84735643e-01 -1.12430759e+00 -4.28704406e-01\n",
            "  1.54878871e-01  3.55796100e-02  1.55030440e-02  1.00979685e+00\n",
            " -1.07456407e-01 -8.90734177e-01 -3.95904316e-01  1.13426226e+00]\n",
            "첫 번째 샘플 y:1\n"
          ]
        }
      ]
    },
    {
      "cell_type": "markdown",
      "source": [
        "* 예측값 분포 확인"
      ],
      "metadata": {
        "id": "J49Ys-SNBKyS"
      }
    },
    {
      "cell_type": "code",
      "source": [
        "sns.countplot(x=dataset[60]) #두개중 하나라 카운트씀"
      ],
      "metadata": {
        "id": "3vlsRwuoBMcY",
        "outputId": "2909b665-5d4b-4917-f6cd-47eb9e4d4beb",
        "colab": {
          "base_uri": "https://localhost:8080/",
          "height": 297
        }
      },
      "execution_count": 8,
      "outputs": [
        {
          "output_type": "execute_result",
          "data": {
            "text/plain": [
              "<matplotlib.axes._subplots.AxesSubplot at 0x7f9bd6f12a50>"
            ]
          },
          "metadata": {},
          "execution_count": 8
        },
        {
          "output_type": "display_data",
          "data": {
            "text/plain": [
              "<Figure size 432x288 with 1 Axes>"
            ],
            "image/png": "[encoded data removed]"
          },
          "metadata": {
            "needs_background": "light"
          }
        }
      ]
    },
    {
      "cell_type": "markdown",
      "source": [
        "### | 모델\n",
        "\n",
        "\n",
        "<p align='center'>\n",
        "<img src=https://github.com/yebiny/SkillTreePython-DeepLearning/blob/main/imgs/ch0104-02.PNG?raw=true width=500>\n",
        "</p>\n"
      ],
      "metadata": {
        "id": "DHshtWB9r0be"
      }
    },
    {
      "cell_type": "markdown",
      "source": [
        "#### **모델 생성**"
      ],
      "metadata": {
        "id": "J94jFpWyr2k9"
      }
    },
    {
      "cell_type": "code",
      "source": [
        "#60->30->!\n",
        "from tensorflow.keras import models, layers, utils\n",
        "\n",
        "def build_model():\n",
        " x= layers.Input(shape=(60))\n",
        " y= layers.Dense(30, activation='relu')(x)\n",
        " y= layers.Dense(1, activation='sigmoid')(y) # 이진분류 문제 경우, 마지막 레이어의 activation는 sigmoid 사용\n",
        " model = models.Model(x,y)\n",
        "\n",
        " return model"
      ],
      "metadata": {
        "id": "5BZG1z90rsGc"
      },
      "execution_count": 47,
      "outputs": []
    },
    {
      "cell_type": "markdown",
      "source": [
        "#### **모델 시각화**\n",
        "\n",
        "* `model.summary()`\n",
        "* `utils.plot_model()`"
      ],
      "metadata": {
        "id": "1yqXLbEyx5QK"
      }
    },
    {
      "cell_type": "code",
      "source": [
        "model =build_model()\n",
        "model.summary()"
      ],
      "metadata": {
        "id": "dKCT38Fsr6dF",
        "outputId": "40753502-acc5-4c8e-ffe5-1bb671a3cee1",
        "colab": {
          "base_uri": "https://localhost:8080/"
        }
      },
      "execution_count": 48,
      "outputs": [
        {
          "output_type": "stream",
          "name": "stdout",
          "text": [
            "Model: \"model_3\"\n",
            "_________________________________________________________________\n",
            " Layer (type)                Output Shape              Param #   \n",
            "=================================================================\n",
            " input_4 (InputLayer)        [(None, 60)]              0         \n",
            "                                                                 \n",
            " dense_6 (Dense)             (None, 30)                1830      \n",
            "                                                                 \n",
            " dense_7 (Dense)             (None, 1)                 31        \n",
            "                                                                 \n",
            "=================================================================\n",
            "Total params: 1,861\n",
            "Trainable params: 1,861\n",
            "Non-trainable params: 0\n",
            "_________________________________________________________________\n"
          ]
        }
      ]
    },
    {
      "cell_type": "markdown",
      "source": [
        "### | 학습"
      ],
      "metadata": {
        "id": "gLuvsUFmwzPa"
      }
    },
    {
      "cell_type": "markdown",
      "source": [
        "#### **모델 컴파일**\n",
        "\n",
        "```\n",
        "model.compile(loss, optimizer, metrics) \n",
        "```\n",
        "* `loss` : 이진분류에서는 'binary_crossentropy'\n",
        "* `optimizer` : 'adam' (문제와 관련 없음)\n",
        "* `metrics`\n",
        "\n",
        "  * 추가적인 옵션\n",
        "\n",
        "  * 딥러닝 알고리즘에 필수요소는 아니다\n",
        "\n",
        "  * 사용자 편의(정확도...)\n"
      ],
      "metadata": {
        "id": "fwQboNHp3EHe"
      }
    },
    {
      "cell_type": "code",
      "source": [
        "model.compile(loss='binary_crossentropy',\n",
        "              optimizer= 'adam',\n",
        "              metrics= ['accuracy']) \n"
      ],
      "metadata": {
        "id": "SASPIskxgfRY"
      },
      "execution_count": 49,
      "outputs": []
    },
    {
      "cell_type": "markdown",
      "source": [
        "#### **학습**\n",
        "\n",
        "```\n",
        "model.fit(x_train, y_train, epochs, batch_size)\n",
        "```\n",
        "* `x_train` : 넘파이 혹은 텐서 형식의 인풋 데이터\n",
        "* `y_train` : 넘파이 혹은 텐서 형식의 아웃풋 데이터\n",
        "* `epochs` : 학습 횟수\n",
        "* `batch_size` : 배치 사이즈 (업데이트 한번에 사용될 샘플 개수)"
      ],
      "metadata": {
        "id": "JukUpWB4gfRY"
      }
    },
    {
      "cell_type": "code",
      "source": [
        "model.fit(x_train, y_train, epochs=30, batch_size=10)"
      ],
      "metadata": {
        "id": "9bgbpUhogfRY",
        "outputId": "95197c8f-b0d1-4508-bb4b-74ccc4b85f1a",
        "colab": {
          "base_uri": "https://localhost:8080/"
        }
      },
      "execution_count": 50,
      "outputs": [
        {
          "output_type": "stream",
          "name": "stdout",
          "text": [
            "Epoch 1/30\n",
            "15/15 [==============================] - 1s 3ms/step - loss: 0.7145 - accuracy: 0.5655\n",
            "Epoch 2/30\n",
            "15/15 [==============================] - 0s 2ms/step - loss: 0.6044 - accuracy: 0.6690\n",
            "Epoch 3/30\n",
            "15/15 [==============================] - 0s 2ms/step - loss: 0.5413 - accuracy: 0.7379\n",
            "Epoch 4/30\n",
            "15/15 [==============================] - 0s 3ms/step - loss: 0.5015 - accuracy: 0.7724\n",
            "Epoch 5/30\n",
            "15/15 [==============================] - 0s 3ms/step - loss: 0.4671 - accuracy: 0.7931\n",
            "Epoch 6/30\n",
            "15/15 [==============================] - 0s 3ms/step - loss: 0.4410 - accuracy: 0.8138\n",
            "Epoch 7/30\n",
            "15/15 [==============================] - 0s 2ms/step - loss: 0.4170 - accuracy: 0.8207\n",
            "Epoch 8/30\n",
            "15/15 [==============================] - 0s 3ms/step - loss: 0.3945 - accuracy: 0.8345\n",
            "Epoch 9/30\n",
            "15/15 [==============================] - 0s 3ms/step - loss: 0.3740 - accuracy: 0.8621\n",
            "Epoch 10/30\n",
            "15/15 [==============================] - 0s 2ms/step - loss: 0.3544 - accuracy: 0.8828\n",
            "Epoch 11/30\n",
            "15/15 [==============================] - 0s 3ms/step - loss: 0.3358 - accuracy: 0.8966\n",
            "Epoch 12/30\n",
            "15/15 [==============================] - 0s 2ms/step - loss: 0.3184 - accuracy: 0.9034\n",
            "Epoch 13/30\n",
            "15/15 [==============================] - 0s 3ms/step - loss: 0.3028 - accuracy: 0.9034\n",
            "Epoch 14/30\n",
            "15/15 [==============================] - 0s 3ms/step - loss: 0.2867 - accuracy: 0.9241\n",
            "Epoch 15/30\n",
            "15/15 [==============================] - 0s 3ms/step - loss: 0.2730 - accuracy: 0.9310\n",
            "Epoch 16/30\n",
            "15/15 [==============================] - 0s 3ms/step - loss: 0.2600 - accuracy: 0.9310\n",
            "Epoch 17/30\n",
            "15/15 [==============================] - 0s 3ms/step - loss: 0.2464 - accuracy: 0.9379\n",
            "Epoch 18/30\n",
            "15/15 [==============================] - 0s 3ms/step - loss: 0.2340 - accuracy: 0.9517\n",
            "Epoch 19/30\n",
            "15/15 [==============================] - 0s 2ms/step - loss: 0.2230 - accuracy: 0.9655\n",
            "Epoch 20/30\n",
            "15/15 [==============================] - 0s 2ms/step - loss: 0.2130 - accuracy: 0.9586\n",
            "Epoch 21/30\n",
            "15/15 [==============================] - 0s 2ms/step - loss: 0.2020 - accuracy: 0.9655\n",
            "Epoch 22/30\n",
            "15/15 [==============================] - 0s 3ms/step - loss: 0.1915 - accuracy: 0.9655\n",
            "Epoch 23/30\n",
            "15/15 [==============================] - 0s 3ms/step - loss: 0.1820 - accuracy: 0.9655\n",
            "Epoch 24/30\n",
            "15/15 [==============================] - 0s 3ms/step - loss: 0.1747 - accuracy: 0.9655\n",
            "Epoch 25/30\n",
            "15/15 [==============================] - 0s 3ms/step - loss: 0.1647 - accuracy: 0.9724\n",
            "Epoch 26/30\n",
            "15/15 [==============================] - 0s 3ms/step - loss: 0.1567 - accuracy: 0.9931\n",
            "Epoch 27/30\n",
            "15/15 [==============================] - 0s 2ms/step - loss: 0.1497 - accuracy: 0.9931\n",
            "Epoch 28/30\n",
            "15/15 [==============================] - 0s 3ms/step - loss: 0.1422 - accuracy: 0.9931\n",
            "Epoch 29/30\n",
            "15/15 [==============================] - 0s 2ms/step - loss: 0.1366 - accuracy: 0.9931\n",
            "Epoch 30/30\n",
            "15/15 [==============================] - 0s 2ms/step - loss: 0.1296 - accuracy: 1.0000\n"
          ]
        },
        {
          "output_type": "execute_result",
          "data": {
            "text/plain": [
              "<keras.callbacks.History at 0x7f9bd21a7110>"
            ]
          },
          "metadata": {},
          "execution_count": 50
        }
      ]
    },
    {
      "cell_type": "markdown",
      "source": [
        "### | 검증 및 예측\n"
      ],
      "metadata": {
        "id": "DyFOnqyNw5_q"
      }
    },
    {
      "cell_type": "markdown",
      "source": [
        "#### **검증**\n",
        "\n",
        "```\n",
        "model.evaluate(x_test, y_test)\n",
        "```\n",
        "* `x_test` : 넘파이 혹은 텐서 형식의 인풋 테스트 데이터\n",
        "* `y_test` : 넘파이 혹은 텐서 형식의 아웃풋 테스트 데이터"
      ],
      "metadata": {
        "id": "qlalKZ-a04c3"
      }
    },
    {
      "cell_type": "code",
      "source": [
        "model.evaluate(x_test, y_test)#과적합(overtilling?)이 일어났다\n"
      ],
      "metadata": {
        "id": "uHGyMlf60zng",
        "outputId": "5053c59f-d191-4661-e0f0-9c7641f2d1e8",
        "colab": {
          "base_uri": "https://localhost:8080/"
        }
      },
      "execution_count": 51,
      "outputs": [
        {
          "output_type": "stream",
          "name": "stdout",
          "text": [
            "2/2 [==============================] - 0s 8ms/step - loss: 0.3130 - accuracy: 0.8730\n"
          ]
        },
        {
          "output_type": "execute_result",
          "data": {
            "text/plain": [
              "[0.3129526972770691, 0.8730158805847168]"
            ]
          },
          "metadata": {},
          "execution_count": 51
        }
      ]
    },
    {
      "cell_type": "markdown",
      "source": [
        "#### **예측**\n",
        "\n",
        "```\n",
        "model.predict(x_test)\n",
        "```\n",
        "* `x_test` : 넘파이 혹은 텐서 형식의 인풋 테스트 데이터\n",
        "* `y_test` : 넘파이 혹은 텐서 형식의 아웃풋 테스트 데이터"
      ],
      "metadata": {
        "id": "BITPUIOj07Uv"
      }
    },
    {
      "cell_type": "code",
      "source": [
        "y_pred=model.predict(x_test)\n",
        "y_pred = y_pred.flatten()\n",
        "y_pred = np.round(y_pred) #반올림\n",
        "for i in range(50): \n",
        "  print('y true:' , y_test[i],'y_pred:', y_pred[i])\n",
        "y_test.shape, y_pred.shape"
      ],
      "metadata": {
        "id": "KfDHL4PRv8YD",
        "outputId": "db8c5b22-b030-446b-8694-c4214f533580",
        "colab": {
          "base_uri": "https://localhost:8080/"
        }
      },
      "execution_count": 52,
      "outputs": [
        {
          "output_type": "stream",
          "name": "stdout",
          "text": [
            "y true: 1 y_pred: 1.0\n",
            "y true: 1 y_pred: 1.0\n",
            "y true: 1 y_pred: 1.0\n",
            "y true: 0 y_pred: 0.0\n",
            "y true: 0 y_pred: 0.0\n",
            "y true: 1 y_pred: 1.0\n",
            "y true: 1 y_pred: 1.0\n",
            "y true: 1 y_pred: 1.0\n",
            "y true: 1 y_pred: 1.0\n",
            "y true: 0 y_pred: 0.0\n",
            "y true: 1 y_pred: 1.0\n",
            "y true: 1 y_pred: 1.0\n",
            "y true: 0 y_pred: 0.0\n",
            "y true: 0 y_pred: 0.0\n",
            "y true: 1 y_pred: 0.0\n",
            "y true: 0 y_pred: 1.0\n",
            "y true: 0 y_pred: 0.0\n",
            "y true: 0 y_pred: 0.0\n",
            "y true: 0 y_pred: 0.0\n",
            "y true: 1 y_pred: 1.0\n",
            "y true: 0 y_pred: 0.0\n",
            "y true: 1 y_pred: 1.0\n",
            "y true: 0 y_pred: 1.0\n",
            "y true: 1 y_pred: 0.0\n",
            "y true: 1 y_pred: 1.0\n",
            "y true: 1 y_pred: 0.0\n",
            "y true: 0 y_pred: 0.0\n",
            "y true: 0 y_pred: 0.0\n",
            "y true: 1 y_pred: 1.0\n",
            "y true: 0 y_pred: 0.0\n",
            "y true: 1 y_pred: 1.0\n",
            "y true: 1 y_pred: 1.0\n",
            "y true: 1 y_pred: 1.0\n",
            "y true: 1 y_pred: 1.0\n",
            "y true: 0 y_pred: 0.0\n",
            "y true: 0 y_pred: 0.0\n",
            "y true: 0 y_pred: 0.0\n",
            "y true: 0 y_pred: 0.0\n",
            "y true: 0 y_pred: 0.0\n",
            "y true: 1 y_pred: 1.0\n",
            "y true: 0 y_pred: 0.0\n",
            "y true: 0 y_pred: 0.0\n",
            "y true: 0 y_pred: 0.0\n",
            "y true: 0 y_pred: 0.0\n",
            "y true: 1 y_pred: 1.0\n",
            "y true: 0 y_pred: 0.0\n",
            "y true: 0 y_pred: 0.0\n",
            "y true: 1 y_pred: 1.0\n",
            "y true: 1 y_pred: 0.0\n",
            "y true: 0 y_pred: 0.0\n"
          ]
        },
        {
          "output_type": "execute_result",
          "data": {
            "text/plain": [
              "((63,), (63,))"
            ]
          },
          "metadata": {},
          "execution_count": 52
        }
      ]
    },
    {
      "cell_type": "markdown",
      "source": [
        "* 예측 시각화"
      ],
      "metadata": {
        "id": "gThN4RCR0_HI"
      }
    },
    {
      "cell_type": "code",
      "source": [
        "from sklearn.metrics import confusion_matrix, ConfusionMatrixDisplay\n",
        "# 혼돈 행렬\n",
        "cm = confusion_matrix(y_test, y_pred)\n",
        "print(cm)\n",
        "ConfusionMatrixDisplay(cm).plot(cmap = 'Blues')"
      ],
      "metadata": {
        "id": "TG533VyLwDaK",
        "outputId": "982222f9-d752-4688-eedc-26e91a3516e4",
        "colab": {
          "base_uri": "https://localhost:8080/",
          "height": 334
        }
      },
      "execution_count": 53,
      "outputs": [
        {
          "output_type": "stream",
          "name": "stdout",
          "text": [
            "[[32  4]\n",
            " [ 4 23]]\n"
          ]
        },
        {
          "output_type": "execute_result",
          "data": {
            "text/plain": [
              "<sklearn.metrics._plot.confusion_matrix.ConfusionMatrixDisplay at 0x7f9bcc8b5290>"
            ]
          },
          "metadata": {},
          "execution_count": 53
        },
        {
          "output_type": "display_data",
          "data": {
            "text/plain": [
              "<Figure size 432x288 with 2 Axes>"
            ],
            "image/png": "[encoded data removed]"
          },
          "metadata": {
            "needs_background": "light"
          }
        }
      ]
    },
    {
      "cell_type": "markdown",
      "source": [
        "## 과제\n",
        "---"
      ],
      "metadata": {
        "id": "ZFrRTgcyipYg"
      }
    },
    {
      "cell_type": "markdown",
      "source": [
        "### | 과제1. 이진분류 문제 정리\n",
        "\n",
        "* 예측값의 범위 : 0 또는 1\n",
        "* 예측값의 shape : (샘플수,1) 혹은 (샘플수,)\n",
        "* 아웃풋 레이어의 노드 개수 :1\n",
        "* 아웃풋 레이어의 activation : sigmoid\n",
        "* 손실함수 (loss) : binary_crossentropy\n",
        "* 평가함수 (metrics) : accuracy(정확도)"
      ],
      "metadata": {
        "id": "xjnJSLgXK_Pp"
      }
    },
    {
      "cell_type": "markdown",
      "source": [
        "### | 과제2. 한 셀에 코드 정리하기\n",
        "\n",
        "* 추가 연습\n",
        "  * 모델의 깊이(depth)를 늘려가며 학습해 보세요.\n",
        "  * 모델의 너비(width)를 늘려가며 학습해 보세요."
      ],
      "metadata": {
        "id": "ZvFAB78P1B_Q"
      }
    },
    {
      "cell_type": "code",
      "source": [
        "from sklearn.preprocessing import StandardScaler, LabelEncoder #머신러닝 라이브러니\n",
        "from sklearn.model_selection import train_test_split\n",
        "from tensorflow.keras import models, layers, utils\n",
        "from sklearn.metrics import confusion_matrix, ConfusionMatrixDisplay\n",
        "\n",
        "\n",
        "def path2dataset_sonar(path):\n",
        "\n",
        "# 불러오기\n",
        "  dataset = pd.read_csv(path,        #엑셀, csv 등 정형데이터를 불러오기\n",
        "                        header = None  #첫번째 샘플이 헤더로 읽히지 않도록 설정\n",
        "                        ) #데이터 형식: 판다스의 데이터프레임\n",
        "                      \n",
        "  dataset= dataset.values #데이터 형식: 넘파이 배열로 변환 (x-y분할해야하는데 걔네는 넘파이 배열이라 변환해줌)\n",
        "\n",
        "# x-y 분할 -> 넘파이 배열을 슬라이싱하는 기법\n",
        "  x = dataset[:, 0:-1] # (:모든행, 첫번째부터 마지막전까지의 열)\n",
        "  y = dataset[:, -1] # (:모든행, 마지막열)\n",
        "\n",
        "# 정규화(속성별로 데이터의 스케일을 조정) - x데이터에만 해줌\n",
        "  scaler = StandardScaler()\n",
        "  x = scaler.fit_transform(x)\n",
        "\n",
        "  # y{R,M} ->{0,1} 문자를 숫자로 바꿈 : 라벨링 . from에 라벨인코더 첨가\n",
        "  labeling = LabelEncoder()\n",
        "  y = labeling.fit_transform(y)\n",
        "  print(labeling.classes_)\n",
        "\n",
        "# train - test 분할\n",
        "  x_train, x_test,y_train, y_test = train_test_split(x,y,test_size=0.3)\n",
        "\n",
        "  return x_train, x_test,y_train, y_test\n",
        "\n",
        "def build_model():\n",
        " x= layers.Input(shape=(60))\n",
        " y= layers.Dense(30, activation='relu')(x)\n",
        " y= layers.Dense(1, activation='sigmoid')(y) # 이진분류 문제 경우, 마지막 레이어의 activation는 sigmoid 사용\n",
        " model = models.Model(x,y)\n",
        "\n",
        " return model\n",
        "\n",
        "x_train, x_test,y_train, y_test=path2dataset_sonar(path)\n",
        "print(x_train.shape, x_test.shape,y_train.shape, y_test.shape)\n",
        "print(f'첫 번째 샘플 x:{x_train[0]}')\n",
        "print(f'첫 번째 샘플 y:{y_train[0]}')\n",
        " \n",
        "model =build_model()\n",
        "model.summary() \n",
        "\n",
        "model.compile(loss='binary_crossentropy',\n",
        "              optimizer= 'adam',\n",
        "              metrics= ['accuracy']) \n",
        "model.fit(x_train, y_train, epochs=30, batch_size=10)\n",
        "y_pred=model.predict(x_test)\n",
        "y_pred = y_pred.flatten()\n",
        "y_pred = np.round(y_pred) #반올림\n",
        "for i in range(50): \n",
        "  print('y true:' , y_test[i],'y_pred:', y_pred[i])\n",
        "y_test.shape, y_pred.shape\n",
        "\n",
        "cm = confusion_matrix(y_test, y_pred)\n",
        "print(cm)\n",
        "ConfusionMatrixDisplay(cm).plot(cmap = 'Blues')\n",
        "\n"
      ],
      "metadata": {
        "id": "v5WYSd9a1Cz4",
        "outputId": "c5677eff-0098-4ee5-d0cd-b0754197121d",
        "colab": {
          "base_uri": "https://localhost:8080/",
          "height": 1000
        }
      },
      "execution_count": 54,
      "outputs": [
        {
          "output_type": "stream",
          "name": "stdout",
          "text": [
            "['M' 'R']\n",
            "(145, 60) (63, 60) (145,) (63,)\n",
            "첫 번째 샘플 x:[ 1.47090488  2.07001866  2.83725093  1.48672262  1.23600667  0.24472571\n",
            " -0.54099735 -0.51913442  0.27685426  1.12937847  2.34608528  1.93422616\n",
            "  1.70238857  1.48058179  1.63760618  2.11992471  2.13888201  1.84431551\n",
            "  1.1147038   0.66885323  0.3178097  -0.93735087 -2.32346573 -2.60942591\n",
            " -1.65232289 -1.75767767 -1.95357715 -2.1254666  -2.50874181 -1.48865093\n",
            " -1.43610266 -1.17495316 -0.84420537 -0.90007219 -0.48691293 -0.9520364\n",
            " -1.07174772 -0.64650635 -0.73717455 -1.61871871 -0.92532273 -0.59881152\n",
            " -0.66091577 -0.38711696 -0.83584065 -1.10564403 -0.49517148 -0.24449809\n",
            " -1.12159798 -1.05075617  0.80397123 -0.47032425  2.19936188 -0.01934105\n",
            "  0.63780067  1.83114422  2.63009968 -0.34845747  0.5446608   1.31358318]\n",
            "첫 번째 샘플 y:0\n",
            "Model: \"model_4\"\n",
            "_________________________________________________________________\n",
            " Layer (type)                Output Shape              Param #   \n",
            "=================================================================\n",
            " input_5 (InputLayer)        [(None, 60)]              0         \n",
            "                                                                 \n",
            " dense_8 (Dense)             (None, 30)                1830      \n",
            "                                                                 \n",
            " dense_9 (Dense)             (None, 1)                 31        \n",
            "                                                                 \n",
            "=================================================================\n",
            "Total params: 1,861\n",
            "Trainable params: 1,861\n",
            "Non-trainable params: 0\n",
            "_________________________________________________________________\n",
            "Epoch 1/30\n",
            "15/15 [==============================] - 1s 3ms/step - loss: 0.6879 - accuracy: 0.6069\n",
            "Epoch 2/30\n",
            "15/15 [==============================] - 0s 3ms/step - loss: 0.5467 - accuracy: 0.7310\n",
            "Epoch 3/30\n",
            "15/15 [==============================] - 0s 3ms/step - loss: 0.4769 - accuracy: 0.7862\n",
            "Epoch 4/30\n",
            "15/15 [==============================] - 0s 2ms/step - loss: 0.4235 - accuracy: 0.8207\n",
            "Epoch 5/30\n",
            "15/15 [==============================] - 0s 3ms/step - loss: 0.3871 - accuracy: 0.8759\n",
            "Epoch 6/30\n",
            "15/15 [==============================] - 0s 2ms/step - loss: 0.3577 - accuracy: 0.8966\n",
            "Epoch 7/30\n",
            "15/15 [==============================] - 0s 3ms/step - loss: 0.3327 - accuracy: 0.9103\n",
            "Epoch 8/30\n",
            "15/15 [==============================] - 0s 3ms/step - loss: 0.3114 - accuracy: 0.9103\n",
            "Epoch 9/30\n",
            "15/15 [==============================] - 0s 2ms/step - loss: 0.2927 - accuracy: 0.9172\n",
            "Epoch 10/30\n",
            "15/15 [==============================] - 0s 2ms/step - loss: 0.2749 - accuracy: 0.9241\n",
            "Epoch 11/30\n",
            "15/15 [==============================] - 0s 2ms/step - loss: 0.2590 - accuracy: 0.9310\n",
            "Epoch 12/30\n",
            "15/15 [==============================] - 0s 2ms/step - loss: 0.2455 - accuracy: 0.9310\n",
            "Epoch 13/30\n",
            "15/15 [==============================] - 0s 2ms/step - loss: 0.2305 - accuracy: 0.9448\n",
            "Epoch 14/30\n",
            "15/15 [==============================] - 0s 2ms/step - loss: 0.2178 - accuracy: 0.9517\n",
            "Epoch 15/30\n",
            "15/15 [==============================] - 0s 2ms/step - loss: 0.2063 - accuracy: 0.9517\n",
            "Epoch 16/30\n",
            "15/15 [==============================] - 0s 2ms/step - loss: 0.1959 - accuracy: 0.9586\n",
            "Epoch 17/30\n",
            "15/15 [==============================] - 0s 3ms/step - loss: 0.1869 - accuracy: 0.9793\n",
            "Epoch 18/30\n",
            "15/15 [==============================] - 0s 3ms/step - loss: 0.1762 - accuracy: 0.9724\n",
            "Epoch 19/30\n",
            "15/15 [==============================] - 0s 3ms/step - loss: 0.1673 - accuracy: 0.9793\n",
            "Epoch 20/30\n",
            "15/15 [==============================] - 0s 2ms/step - loss: 0.1596 - accuracy: 0.9793\n",
            "Epoch 21/30\n",
            "15/15 [==============================] - 0s 2ms/step - loss: 0.1515 - accuracy: 0.9793\n",
            "Epoch 22/30\n",
            "15/15 [==============================] - 0s 3ms/step - loss: 0.1436 - accuracy: 0.9862\n",
            "Epoch 23/30\n",
            "15/15 [==============================] - 0s 3ms/step - loss: 0.1367 - accuracy: 0.9793\n",
            "Epoch 24/30\n",
            "15/15 [==============================] - 0s 3ms/step - loss: 0.1307 - accuracy: 0.9793\n",
            "Epoch 25/30\n",
            "15/15 [==============================] - 0s 3ms/step - loss: 0.1238 - accuracy: 0.9862\n",
            "Epoch 26/30\n",
            "15/15 [==============================] - 0s 2ms/step - loss: 0.1182 - accuracy: 0.9793\n",
            "Epoch 27/30\n",
            "15/15 [==============================] - 0s 2ms/step - loss: 0.1129 - accuracy: 0.9793\n",
            "Epoch 28/30\n",
            "15/15 [==============================] - 0s 3ms/step - loss: 0.1080 - accuracy: 0.9862\n",
            "Epoch 29/30\n",
            "15/15 [==============================] - 0s 3ms/step - loss: 0.1026 - accuracy: 0.9862\n",
            "Epoch 30/30\n",
            "15/15 [==============================] - 0s 2ms/step - loss: 0.0980 - accuracy: 0.9862\n",
            "y true: 0 y_pred: 0.0\n",
            "y true: 1 y_pred: 0.0\n",
            "y true: 0 y_pred: 0.0\n",
            "y true: 1 y_pred: 1.0\n",
            "y true: 0 y_pred: 0.0\n",
            "y true: 1 y_pred: 1.0\n",
            "y true: 1 y_pred: 0.0\n",
            "y true: 0 y_pred: 0.0\n",
            "y true: 1 y_pred: 0.0\n",
            "y true: 1 y_pred: 1.0\n",
            "y true: 1 y_pred: 1.0\n",
            "y true: 1 y_pred: 1.0\n",
            "y true: 1 y_pred: 1.0\n",
            "y true: 1 y_pred: 1.0\n",
            "y true: 0 y_pred: 0.0\n",
            "y true: 0 y_pred: 0.0\n",
            "y true: 0 y_pred: 0.0\n",
            "y true: 1 y_pred: 1.0\n",
            "y true: 0 y_pred: 0.0\n",
            "y true: 1 y_pred: 0.0\n",
            "y true: 1 y_pred: 1.0\n",
            "y true: 0 y_pred: 0.0\n",
            "y true: 0 y_pred: 1.0\n",
            "y true: 0 y_pred: 1.0\n",
            "y true: 0 y_pred: 0.0\n",
            "y true: 1 y_pred: 1.0\n",
            "y true: 1 y_pred: 1.0\n",
            "y true: 0 y_pred: 0.0\n",
            "y true: 0 y_pred: 0.0\n",
            "y true: 1 y_pred: 0.0\n",
            "y true: 1 y_pred: 1.0\n",
            "y true: 0 y_pred: 1.0\n",
            "y true: 1 y_pred: 1.0\n",
            "y true: 1 y_pred: 1.0\n",
            "y true: 1 y_pred: 1.0\n",
            "y true: 0 y_pred: 0.0\n",
            "y true: 0 y_pred: 0.0\n",
            "y true: 1 y_pred: 1.0\n",
            "y true: 1 y_pred: 1.0\n",
            "y true: 0 y_pred: 0.0\n",
            "y true: 1 y_pred: 0.0\n",
            "y true: 0 y_pred: 0.0\n",
            "y true: 0 y_pred: 0.0\n",
            "y true: 0 y_pred: 0.0\n",
            "y true: 0 y_pred: 0.0\n",
            "y true: 0 y_pred: 1.0\n",
            "y true: 1 y_pred: 1.0\n",
            "y true: 1 y_pred: 1.0\n",
            "y true: 0 y_pred: 0.0\n",
            "y true: 0 y_pred: 0.0\n",
            "[[28  4]\n",
            " [ 9 22]]\n"
          ]
        },
        {
          "output_type": "execute_result",
          "data": {
            "text/plain": [
              "<sklearn.metrics._plot.confusion_matrix.ConfusionMatrixDisplay at 0x7f9bcbe81cd0>"
            ]
          },
          "metadata": {},
          "execution_count": 54
        },
        {
          "output_type": "display_data",
          "data": {
            "text/plain": [
              "<Figure size 432x288 with 2 Axes>"
            ],
            "image/png": "[encoded data removed]"
          },
          "metadata": {
            "needs_background": "light"
          }
        }
      ]
    },
    {
      "cell_type": "markdown",
      "source": [
        "### | 과제 3. 피마 인디언 당뇨병 예측\n",
        "\n",
        "\n",
        "* `pima-indians-diabetes.csv`\n",
        "```\n",
        "df = pd.read_csv(data_path,\n",
        "                names = [\"pregnant\", \"plasma\", \"pressure\", \"thickness\", \"insulin\", \"BMI\", \"pedigree\", \"age\", \"class\"])\n",
        "```"
      ],
      "metadata": {
        "id": "2K0mAdPzjOAf"
      }
    },
    {
      "cell_type": "code",
      "source": [
        "path = '/content/SkillTreePython-DeepLearning/dataset/pima-indians-diabetes.csv'\n",
        "dataset = pd.read_csv(path, header =None)\n",
        "\n",
        "print(dataset.shape)\n",
        "dataset"
      ],
      "metadata": {
        "id": "Ppi8p2S_HsVb",
        "outputId": "92234c3f-58e1-4516-a51d-03d4b57d5bd7",
        "colab": {
          "base_uri": "https://localhost:8080/",
          "height": 442
        }
      },
      "execution_count": 55,
      "outputs": [
        {
          "output_type": "stream",
          "name": "stdout",
          "text": [
            "(768, 9)\n"
          ]
        },
        {
          "output_type": "execute_result",
          "data": {
            "text/plain": [
              "      0    1   2   3    4     5      6   7  8\n",
              "0     6  148  72  35    0  33.6  0.627  50  1\n",
              "1     1   85  66  29    0  26.6  0.351  31  0\n",
              "2     8  183  64   0    0  23.3  0.672  32  1\n",
              "3     1   89  66  23   94  28.1  0.167  21  0\n",
              "4     0  137  40  35  168  43.1  2.288  33  1\n",
              "..   ..  ...  ..  ..  ...   ...    ...  .. ..\n",
              "763  10  101  76  48  180  32.9  0.171  63  0\n",
              "764   2  122  70  27    0  36.8  0.340  27  0\n",
              "765   5  121  72  23  112  26.2  0.245  30  0\n",
              "766   1  126  60   0    0  30.1  0.349  47  1\n",
              "767   1   93  70  31    0  30.4  0.315  23  0\n",
              "\n",
              "[768 rows x 9 columns]"
            ],
            "text/html": [
              "\n",
              "  <div id=\"df-8feabcd4-6872-45b7-bdaa-d10c6b58db84\">\n",
              "    <div class=\"colab-df-container\">\n",
              "      <div>\n",
              "<style scoped>\n",
              "    .dataframe tbody tr th:only-of-type {\n",
              "        vertical-align: middle;\n",
              "    }\n",
              "\n",
              "    .dataframe tbody tr th {\n",
              "        vertical-align: top;\n",
              "    }\n",
              "\n",
              "    .dataframe thead th {\n",
              "        text-align: right;\n",
              "    }\n",
              "</style>\n",
              "<table border=\"1\" class=\"dataframe\">\n",
              "  <thead>\n",
              "    <tr style=\"text-align: right;\">\n",
              "      <th></th>\n",
              "      <th>0</th>\n",
              "      <th>1</th>\n",
              "      <th>2</th>\n",
              "      <th>3</th>\n",
              "      <th>4</th>\n",
              "      <th>5</th>\n",
              "      <th>6</th>\n",
              "      <th>7</th>\n",
              "      <th>8</th>\n",
              "    </tr>\n",
              "  </thead>\n",
              "  <tbody>\n",
              "    <tr>\n",
              "      <th>0</th>\n",
              "      <td>6</td>\n",
              "      <td>148</td>\n",
              "      <td>72</td>\n",
              "      <td>35</td>\n",
              "      <td>0</td>\n",
              "      <td>33.6</td>\n",
              "      <td>0.627</td>\n",
              "      <td>50</td>\n",
              "      <td>1</td>\n",
              "    </tr>\n",
              "    <tr>\n",
              "      <th>1</th>\n",
              "      <td>1</td>\n",
              "      <td>85</td>\n",
              "      <td>66</td>\n",
              "      <td>29</td>\n",
              "      <td>0</td>\n",
              "      <td>26.6</td>\n",
              "      <td>0.351</td>\n",
              "      <td>31</td>\n",
              "      <td>0</td>\n",
              "    </tr>\n",
              "    <tr>\n",
              "      <th>2</th>\n",
              "      <td>8</td>\n",
              "      <td>183</td>\n",
              "      <td>64</td>\n",
              "      <td>0</td>\n",
              "      <td>0</td>\n",
              "      <td>23.3</td>\n",
              "      <td>0.672</td>\n",
              "      <td>32</td>\n",
              "      <td>1</td>\n",
              "    </tr>\n",
              "    <tr>\n",
              "      <th>3</th>\n",
              "      <td>1</td>\n",
              "      <td>89</td>\n",
              "      <td>66</td>\n",
              "      <td>23</td>\n",
              "      <td>94</td>\n",
              "      <td>28.1</td>\n",
              "      <td>0.167</td>\n",
              "      <td>21</td>\n",
              "      <td>0</td>\n",
              "    </tr>\n",
              "    <tr>\n",
              "      <th>4</th>\n",
              "      <td>0</td>\n",
              "      <td>137</td>\n",
              "      <td>40</td>\n",
              "      <td>35</td>\n",
              "      <td>168</td>\n",
              "      <td>43.1</td>\n",
              "      <td>2.288</td>\n",
              "      <td>33</td>\n",
              "      <td>1</td>\n",
              "    </tr>\n",
              "    <tr>\n",
              "      <th>...</th>\n",
              "      <td>...</td>\n",
              "      <td>...</td>\n",
              "      <td>...</td>\n",
              "      <td>...</td>\n",
              "      <td>...</td>\n",
              "      <td>...</td>\n",
              "      <td>...</td>\n",
              "      <td>...</td>\n",
              "      <td>...</td>\n",
              "    </tr>\n",
              "    <tr>\n",
              "      <th>763</th>\n",
              "      <td>10</td>\n",
              "      <td>101</td>\n",
              "      <td>76</td>\n",
              "      <td>48</td>\n",
              "      <td>180</td>\n",
              "      <td>32.9</td>\n",
              "      <td>0.171</td>\n",
              "      <td>63</td>\n",
              "      <td>0</td>\n",
              "    </tr>\n",
              "    <tr>\n",
              "      <th>764</th>\n",
              "      <td>2</td>\n",
              "      <td>122</td>\n",
              "      <td>70</td>\n",
              "      <td>27</td>\n",
              "      <td>0</td>\n",
              "      <td>36.8</td>\n",
              "      <td>0.340</td>\n",
              "      <td>27</td>\n",
              "      <td>0</td>\n",
              "    </tr>\n",
              "    <tr>\n",
              "      <th>765</th>\n",
              "      <td>5</td>\n",
              "      <td>121</td>\n",
              "      <td>72</td>\n",
              "      <td>23</td>\n",
              "      <td>112</td>\n",
              "      <td>26.2</td>\n",
              "      <td>0.245</td>\n",
              "      <td>30</td>\n",
              "      <td>0</td>\n",
              "    </tr>\n",
              "    <tr>\n",
              "      <th>766</th>\n",
              "      <td>1</td>\n",
              "      <td>126</td>\n",
              "      <td>60</td>\n",
              "      <td>0</td>\n",
              "      <td>0</td>\n",
              "      <td>30.1</td>\n",
              "      <td>0.349</td>\n",
              "      <td>47</td>\n",
              "      <td>1</td>\n",
              "    </tr>\n",
              "    <tr>\n",
              "      <th>767</th>\n",
              "      <td>1</td>\n",
              "      <td>93</td>\n",
              "      <td>70</td>\n",
              "      <td>31</td>\n",
              "      <td>0</td>\n",
              "      <td>30.4</td>\n",
              "      <td>0.315</td>\n",
              "      <td>23</td>\n",
              "      <td>0</td>\n",
              "    </tr>\n",
              "  </tbody>\n",
              "</table>\n",
              "<p>768 rows × 9 columns</p>\n",
              "</div>\n",
              "      <button class=\"colab-df-convert\" onclick=\"convertToInteractive('df-8feabcd4-6872-45b7-bdaa-d10c6b58db84')\"\n",
              "              title=\"Convert this dataframe to an interactive table.\"\n",
              "              style=\"display:none;\">\n",
              "        \n",
              "  <svg xmlns=\"http://www.w3.org/2000/svg\" height=\"24px\"viewBox=\"0 0 24 24\"\n",
              "       width=\"24px\">\n",
              "    <path d=\"M0 0h24v24H0V0z\" fill=\"none\"/>\n",
              "    <path d=\"M18.56 5.44l.94 2.06.94-2.06 2.06-.94-2.06-.94-.94-2.06-.94 2.06-2.06.94zm-11 1L8.5 8.5l.94-2.06 2.06-.94-2.06-.94L8.5 2.5l-.94 2.06-2.06.94zm10 10l.94 2.06.94-2.06 2.06-.94-2.06-.94-.94-2.06-.94 2.06-2.06.94z\"/><path d=\"M17.41 7.96l-1.37-1.37c-.4-.4-.92-.59-1.43-.59-.52 0-1.04.2-1.43.59L10.3 9.45l-7.72 7.72c-.78.78-.78 2.05 0 2.83L4 21.41c.39.39.9.59 1.41.59.51 0 1.02-.2 1.41-.59l7.78-7.78 2.81-2.81c.8-.78.8-2.07 0-2.86zM5.41 20L4 18.59l7.72-7.72 1.47 1.35L5.41 20z\"/>\n",
              "  </svg>\n",
              "      </button>\n",
              "      \n",
              "  <style>\n",
              "    .colab-df-container {\n",
              "      display:flex;\n",
              "      flex-wrap:wrap;\n",
              "      gap: 12px;\n",
              "    }\n",
              "\n",
              "    .colab-df-convert {\n",
              "      background-color: #E8F0FE;\n",
              "      border: none;\n",
              "      border-radius: 50%;\n",
              "      cursor: pointer;\n",
              "      display: none;\n",
              "      fill: #1967D2;\n",
              "      height: 32px;\n",
              "      padding: 0 0 0 0;\n",
              "      width: 32px;\n",
              "    }\n",
              "\n",
              "    .colab-df-convert:hover {\n",
              "      background-color: #E2EBFA;\n",
              "      box-shadow: 0px 1px 2px rgba(60, 64, 67, 0.3), 0px 1px 3px 1px rgba(60, 64, 67, 0.15);\n",
              "      fill: #174EA6;\n",
              "    }\n",
              "\n",
              "    [theme=dark] .colab-df-convert {\n",
              "      background-color: #3B4455;\n",
              "      fill: #D2E3FC;\n",
              "    }\n",
              "\n",
              "    [theme=dark] .colab-df-convert:hover {\n",
              "      background-color: #434B5C;\n",
              "      box-shadow: 0px 1px 3px 1px rgba(0, 0, 0, 0.15);\n",
              "      filter: drop-shadow(0px 1px 2px rgba(0, 0, 0, 0.3));\n",
              "      fill: #FFFFFF;\n",
              "    }\n",
              "  </style>\n",
              "\n",
              "      <script>\n",
              "        const buttonEl =\n",
              "          document.querySelector('#df-8feabcd4-6872-45b7-bdaa-d10c6b58db84 button.colab-df-convert');\n",
              "        buttonEl.style.display =\n",
              "          google.colab.kernel.accessAllowed ? 'block' : 'none';\n",
              "\n",
              "        async function convertToInteractive(key) {\n",
              "          const element = document.querySelector('#df-8feabcd4-6872-45b7-bdaa-d10c6b58db84');\n",
              "          const dataTable =\n",
              "            await google.colab.kernel.invokeFunction('convertToInteractive',\n",
              "                                                     [key], {});\n",
              "          if (!dataTable) return;\n",
              "\n",
              "          const docLinkHtml = 'Like what you see? Visit the ' +\n",
              "            '<a target=\"_blank\" href=https://colab.research.google.com/notebooks/data_table.ipynb>data table notebook</a>'\n",
              "            + ' to learn more about interactive tables.';\n",
              "          element.innerHTML = '';\n",
              "          dataTable['output_type'] = 'display_data';\n",
              "          await google.colab.output.renderOutput(dataTable, element);\n",
              "          const docLink = document.createElement('div');\n",
              "          docLink.innerHTML = docLinkHtml;\n",
              "          element.appendChild(docLink);\n",
              "        }\n",
              "      </script>\n",
              "    </div>\n",
              "  </div>\n",
              "  "
            ]
          },
          "metadata": {},
          "execution_count": 55
        }
      ]
    },
    {
      "cell_type": "code",
      "source": [
        "from sklearn.preprocessing import StandardScaler, LabelEncoder #머신러닝 라이브러니\n",
        "from sklearn.model_selection import train_test_split\n",
        "\n",
        "def path2dataset_db(path):\n",
        "\n",
        "# 불러오기\n",
        " \n",
        "  dataset = pd.read_csv(path,\n",
        "              names = [\"pregnant\", \"plasma\", \"pressure\", \"thickness\", \"insulin\", \"BMI\", \"pedigree\", \"age\", \"class\"])                      \n",
        "                      \n",
        "  dataset= dataset.values #데이터 형식: 넘파이 배열로 변환 (x-y분할해야하는데 걔네는 넘파이 배열이라 변환해줌)\n",
        "\n",
        "# x-y 분할 -> 넘파이 배열을 슬라이싱하는 기법\n",
        "  x = dataset[:, 0:-1] # (:모든행, 첫번째부터 마지막전까지의 열)\n",
        "  y = dataset[:, -1] # (:모든행, 마지막열)\n",
        "\n",
        "# 정규화(속성별로 데이터의 스케일을 조정) - x데이터에만 해줌\n",
        "  scaler = StandardScaler()\n",
        "  x = scaler.fit_transform(x)\n",
        "\n",
        "  # y{R,M} ->{0,1} 문자를 숫자로 바꿈 : 라벨링 . from에 라벨인코더 첨가\n",
        "  labeling = LabelEncoder()\n",
        "  y = labeling.fit_transform(y)\n",
        "  print(labeling.classes_)\n",
        "\n",
        "# train - test 분할\n",
        "  x_train, x_test,y_train, y_test = train_test_split(x,y,test_size=0.3)\n",
        "\n",
        "  return x_train, x_test,y_train, y_test\n",
        "\n",
        "x_train, x_test,y_train, y_test=path2dataset_db(path)\n",
        "print(x_train.shape, x_test.shape,y_train.shape, y_test.shape)\n",
        "print(f'첫 번째 샘플 x:{x_train[0]}')\n",
        "print(f'첫 번째 샘플 y:{y_train[0]}')"
      ],
      "metadata": {
        "id": "ma5ZMS95RyuF",
        "outputId": "527ae164-b335-426b-decf-f4f32d5c3695",
        "colab": {
          "base_uri": "https://localhost:8080/"
        }
      },
      "execution_count": 57,
      "outputs": [
        {
          "output_type": "stream",
          "name": "stdout",
          "text": [
            "[0. 1.]\n",
            "(537, 8) (231, 8) (537,) (231,)\n",
            "첫 번째 샘플 x:[-0.25095213  2.06891246  0.04624525  0.09180513  1.04368861  0.55938666\n",
            " -0.19291401  0.23476686]\n",
            "첫 번째 샘플 y:1\n"
          ]
        }
      ]
    },
    {
      "cell_type": "code",
      "source": [
        "from tensorflow.keras import models, layers, utils\n",
        "\n",
        "def build_model():\n",
        " x= layers.Input(shape=(8))\n",
        " y= layers.Dense(30, activation='relu')(x)\n",
        " y= layers.Dense(1, activation='sigmoid')(y) # 이진분류 문제 경우, 마지막 레이어의 activation는 sigmoid 사용\n",
        " model = models.Model(x,y)\n",
        "\n",
        " return model\n",
        "\n",
        "model =build_model()\n",
        "model.summary()\n",
        "\n",
        "model.compile(loss='binary_crossentropy',\n",
        "              optimizer= 'adam',\n",
        "              metrics= ['accuracy']) \n"
      ],
      "metadata": {
        "id": "aUKG8I91Sq-D",
        "outputId": "f3cd9356-53f9-4c61-e3bb-9c536c4492ab",
        "colab": {
          "base_uri": "https://localhost:8080/"
        }
      },
      "execution_count": 61,
      "outputs": [
        {
          "output_type": "stream",
          "name": "stdout",
          "text": [
            "Model: \"model_6\"\n",
            "_________________________________________________________________\n",
            " Layer (type)                Output Shape              Param #   \n",
            "=================================================================\n",
            " input_7 (InputLayer)        [(None, 8)]               0         \n",
            "                                                                 \n",
            " dense_12 (Dense)            (None, 30)                270       \n",
            "                                                                 \n",
            " dense_13 (Dense)            (None, 1)                 31        \n",
            "                                                                 \n",
            "=================================================================\n",
            "Total params: 301\n",
            "Trainable params: 301\n",
            "Non-trainable params: 0\n",
            "_________________________________________________________________\n"
          ]
        }
      ]
    },
    {
      "cell_type": "code",
      "source": [
        "model.fit(x_train, y_train, epochs=30, batch_size=10)"
      ],
      "metadata": {
        "id": "kb6mUscoS9jj",
        "outputId": "6cfae9c8-aede-44ba-ba0b-08c81208563f",
        "colab": {
          "base_uri": "https://localhost:8080/"
        }
      },
      "execution_count": 62,
      "outputs": [
        {
          "output_type": "stream",
          "name": "stdout",
          "text": [
            "Epoch 1/30\n",
            "54/54 [==============================] - 1s 4ms/step - loss: 0.6474 - accuracy: 0.6536\n",
            "Epoch 2/30\n",
            "54/54 [==============================] - 0s 4ms/step - loss: 0.5662 - accuracy: 0.7114\n",
            "Epoch 3/30\n",
            "54/54 [==============================] - 0s 3ms/step - loss: 0.5206 - accuracy: 0.7393\n",
            "Epoch 4/30\n",
            "54/54 [==============================] - 0s 4ms/step - loss: 0.4939 - accuracy: 0.7598\n",
            "Epoch 5/30\n",
            "54/54 [==============================] - 0s 3ms/step - loss: 0.4774 - accuracy: 0.7672\n",
            "Epoch 6/30\n",
            "54/54 [==============================] - 0s 2ms/step - loss: 0.4661 - accuracy: 0.7709\n",
            "Epoch 7/30\n",
            "54/54 [==============================] - 0s 2ms/step - loss: 0.4574 - accuracy: 0.7803\n",
            "Epoch 8/30\n",
            "54/54 [==============================] - 0s 2ms/step - loss: 0.4512 - accuracy: 0.7784\n",
            "Epoch 9/30\n",
            "54/54 [==============================] - 0s 2ms/step - loss: 0.4468 - accuracy: 0.7803\n",
            "Epoch 10/30\n",
            "54/54 [==============================] - 0s 2ms/step - loss: 0.4429 - accuracy: 0.7896\n",
            "Epoch 11/30\n",
            "54/54 [==============================] - 0s 3ms/step - loss: 0.4396 - accuracy: 0.7914\n",
            "Epoch 12/30\n",
            "54/54 [==============================] - 0s 2ms/step - loss: 0.4366 - accuracy: 0.7896\n",
            "Epoch 13/30\n",
            "54/54 [==============================] - 0s 2ms/step - loss: 0.4343 - accuracy: 0.7877\n",
            "Epoch 14/30\n",
            "54/54 [==============================] - 0s 2ms/step - loss: 0.4322 - accuracy: 0.7914\n",
            "Epoch 15/30\n",
            "54/54 [==============================] - 0s 2ms/step - loss: 0.4310 - accuracy: 0.7970\n",
            "Epoch 16/30\n",
            "54/54 [==============================] - 0s 2ms/step - loss: 0.4286 - accuracy: 0.7952\n",
            "Epoch 17/30\n",
            "54/54 [==============================] - 0s 2ms/step - loss: 0.4269 - accuracy: 0.7952\n",
            "Epoch 18/30\n",
            "54/54 [==============================] - 0s 2ms/step - loss: 0.4267 - accuracy: 0.8007\n",
            "Epoch 19/30\n",
            "54/54 [==============================] - 0s 2ms/step - loss: 0.4244 - accuracy: 0.7914\n",
            "Epoch 20/30\n",
            "54/54 [==============================] - 0s 2ms/step - loss: 0.4232 - accuracy: 0.7970\n",
            "Epoch 21/30\n",
            "54/54 [==============================] - 0s 2ms/step - loss: 0.4220 - accuracy: 0.7952\n",
            "Epoch 22/30\n",
            "54/54 [==============================] - 0s 2ms/step - loss: 0.4211 - accuracy: 0.7989\n",
            "Epoch 23/30\n",
            "54/54 [==============================] - 0s 2ms/step - loss: 0.4221 - accuracy: 0.8026\n",
            "Epoch 24/30\n",
            "54/54 [==============================] - 0s 2ms/step - loss: 0.4196 - accuracy: 0.8045\n",
            "Epoch 25/30\n",
            "54/54 [==============================] - 0s 2ms/step - loss: 0.4183 - accuracy: 0.7952\n",
            "Epoch 26/30\n",
            "54/54 [==============================] - 0s 2ms/step - loss: 0.4164 - accuracy: 0.8045\n",
            "Epoch 27/30\n",
            "54/54 [==============================] - 0s 2ms/step - loss: 0.4159 - accuracy: 0.7989\n",
            "Epoch 28/30\n",
            "54/54 [==============================] - 0s 2ms/step - loss: 0.4148 - accuracy: 0.8045\n",
            "Epoch 29/30\n",
            "54/54 [==============================] - 0s 2ms/step - loss: 0.4139 - accuracy: 0.8045\n",
            "Epoch 30/30\n",
            "54/54 [==============================] - 0s 2ms/step - loss: 0.4137 - accuracy: 0.8007\n"
          ]
        },
        {
          "output_type": "execute_result",
          "data": {
            "text/plain": [
              "<keras.callbacks.History at 0x7f9bcbe84450>"
            ]
          },
          "metadata": {},
          "execution_count": 62
        }
      ]
    },
    {
      "cell_type": "code",
      "source": [
        "y_pred=model.predict(x_test)\n",
        "y_pred = y_pred.flatten()\n",
        "y_pred = np.round(y_pred) #반올림\n",
        "for i in range(50): \n",
        "  print('y true:' , y_test[i],'y_pred:', y_pred[i])\n",
        "y_test.shape, y_pred.shape\n",
        "\n",
        "from sklearn.metrics import confusion_matrix, ConfusionMatrixDisplay\n",
        "# 혼돈 행렬\n",
        "cm = confusion_matrix(y_test, y_pred)\n",
        "print(cm)\n",
        "ConfusionMatrixDisplay(cm).plot(cmap = 'Blues')"
      ],
      "metadata": {
        "id": "J05Jk-A4THGC",
        "outputId": "666a64ae-ac06-46dc-a020-a630d0279c90",
        "colab": {
          "base_uri": "https://localhost:8080/",
          "height": 1000
        }
      },
      "execution_count": 64,
      "outputs": [
        {
          "output_type": "stream",
          "name": "stdout",
          "text": [
            "y true: 1 y_pred: 0.0\n",
            "y true: 0 y_pred: 0.0\n",
            "y true: 1 y_pred: 1.0\n",
            "y true: 0 y_pred: 0.0\n",
            "y true: 1 y_pred: 0.0\n",
            "y true: 1 y_pred: 0.0\n",
            "y true: 1 y_pred: 1.0\n",
            "y true: 1 y_pred: 1.0\n",
            "y true: 0 y_pred: 1.0\n",
            "y true: 0 y_pred: 1.0\n",
            "y true: 0 y_pred: 0.0\n",
            "y true: 1 y_pred: 1.0\n",
            "y true: 1 y_pred: 1.0\n",
            "y true: 0 y_pred: 1.0\n",
            "y true: 0 y_pred: 1.0\n",
            "y true: 1 y_pred: 0.0\n",
            "y true: 1 y_pred: 0.0\n",
            "y true: 1 y_pred: 1.0\n",
            "y true: 0 y_pred: 0.0\n",
            "y true: 1 y_pred: 0.0\n",
            "y true: 1 y_pred: 1.0\n",
            "y true: 0 y_pred: 0.0\n",
            "y true: 0 y_pred: 0.0\n",
            "y true: 0 y_pred: 0.0\n",
            "y true: 0 y_pred: 0.0\n",
            "y true: 0 y_pred: 0.0\n",
            "y true: 1 y_pred: 1.0\n",
            "y true: 1 y_pred: 1.0\n",
            "y true: 0 y_pred: 1.0\n",
            "y true: 0 y_pred: 0.0\n",
            "y true: 0 y_pred: 0.0\n",
            "y true: 0 y_pred: 0.0\n",
            "y true: 0 y_pred: 0.0\n",
            "y true: 0 y_pred: 0.0\n",
            "y true: 0 y_pred: 0.0\n",
            "y true: 0 y_pred: 0.0\n",
            "y true: 0 y_pred: 0.0\n",
            "y true: 1 y_pred: 1.0\n",
            "y true: 1 y_pred: 0.0\n",
            "y true: 1 y_pred: 0.0\n",
            "y true: 1 y_pred: 1.0\n",
            "y true: 0 y_pred: 0.0\n",
            "y true: 1 y_pred: 1.0\n",
            "y true: 0 y_pred: 0.0\n",
            "y true: 0 y_pred: 0.0\n",
            "y true: 0 y_pred: 0.0\n",
            "y true: 0 y_pred: 0.0\n",
            "y true: 1 y_pred: 1.0\n",
            "y true: 0 y_pred: 0.0\n",
            "y true: 1 y_pred: 0.0\n",
            "[[127  20]\n",
            " [ 33  51]]\n"
          ]
        },
        {
          "output_type": "execute_result",
          "data": {
            "text/plain": [
              "<sklearn.metrics._plot.confusion_matrix.ConfusionMatrixDisplay at 0x7f9bcbc91ed0>"
            ]
          },
          "metadata": {},
          "execution_count": 64
        },
        {
          "output_type": "display_data",
          "data": {
            "text/plain": [
              "<Figure size 432x288 with 2 Axes>"
            ],
            "image/png": "[encoded data removed]"
          },
          "metadata": {
            "needs_background": "light"
          }
        }
      ]
    },
    {
      "cell_type": "markdown",
      "source": [
        "### | 과제 4. 생각해보기\n",
        "\n",
        "데이터가 불균형 할 때 딥러닝에서는 어떠한 방법을 써서 이를 해결 하나요? \n"
      ],
      "metadata": {
        "id": "s4VjzrycjTUK"
      }
    },
    {
      "cell_type": "code",
      "source": [
        ""
      ],
      "metadata": {
        "id": "tcMHkA5BjSho"
      },
      "execution_count": null,
      "outputs": []
    }
  ]
}