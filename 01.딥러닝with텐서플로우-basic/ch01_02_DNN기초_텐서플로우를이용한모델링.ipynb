{
  "nbformat": 4,
  "nbformat_minor": 0,
  "metadata": {
    "colab": {
      "name": "ch01_02_DNN기초-텐서플로우를이용한모델링.ipynb",
      "provenance": [],
      "collapsed_sections": [],
      "toc_visible": true,
      "include_colab_link": true
    },
    "kernelspec": {
      "name": "python3",
      "display_name": "Python 3"
    },
    "language_info": {
      "name": "python"
    }
  },
  "cells": [
    {
      "cell_type": "markdown",
      "metadata": {
        "id": "view-in-github",
        "colab_type": "text"
      },
      "source": [
        "<a href=\"https://colab.research.google.com/github/GETHUB55/SkillTreePython-DeepLearning/blob/main/01.%EB%94%A5%EB%9F%AC%EB%8B%9Dwith%ED%85%90%EC%84%9C%ED%94%8C%EB%A1%9C%EC%9A%B0-basic/ch01_02_DNN%EA%B8%B0%EC%B4%88_%ED%85%90%EC%84%9C%ED%94%8C%EB%A1%9C%EC%9A%B0%EB%A5%BC%EC%9D%B4%EC%9A%A9%ED%95%9C%EB%AA%A8%EB%8D%B8%EB%A7%81.ipynb\" target=\"_parent\"><img src=\"https://colab.research.google.com/assets/colab-badge.svg\" alt=\"Open In Colab\"/></a>"
      ]
    },
    {
      "cell_type": "markdown",
      "source": [
        "# ch01_02_DNN기초-텐서플로우를 이용한 모델링\n",
        "\n",
        "---\n",
        "* 날짜:22.06.30\n",
        "* 이름:조수빈\n",
        "\n",
        "## 학습내용\n",
        "    - 텐서플로우를 이용해 모델을 구현한다.\n",
        "    - 생성한 모델을 이용해 순전파 계산을 진행한다.\n",
        "    - 텐서플로우로 모델을 구현하는 여러 방법에 대핼 배워본다. \n",
        "\n",
        "## 학습자료\n",
        "\n",
        "\n",
        "- 케라스 창시자에게 배우는 딥러닝\n",
        "- 텐서플로우 케라스 : https://www.tensorflow.org/?hl=ko\n"
      ],
      "metadata": {
        "id": "ARxSsvgZFhdx"
      }
    },
    {
      "cell_type": "code",
      "source": [
        ""
      ],
      "metadata": {
        "id": "FH_uBeAD1qZ1"
      },
      "execution_count": null,
      "outputs": []
    },
    {
      "cell_type": "markdown",
      "source": [
        "## DNN 기본 이해\n",
        "---"
      ],
      "metadata": {
        "id": "MzqveLvV0dks"
      }
    },
    {
      "cell_type": "markdown",
      "source": [
        "\n",
        "### | 모델링 (1)\n",
        "\n",
        "\n",
        "<p align='center'>\n",
        "<img src=https://github.com/yebiny/SkillTreePython-DeepLearning/blob/main/imgs/ch0101-01.png?raw=true width=450>\n",
        "</p>\n"
      ],
      "metadata": {
        "id": "5f0taefIrVkW"
      }
    },
    {
      "cell_type": "markdown",
      "source": [
        "#### **모델 구현**"
      ],
      "metadata": {
        "id": "Spn6iy6TMZLE"
      }
    },
    {
      "cell_type": "code",
      "source": [
        ""
      ],
      "metadata": {
        "id": "ol1G6zFpzzQy"
      },
      "execution_count": null,
      "outputs": []
    },
    {
      "cell_type": "markdown",
      "source": [
        "* 모델 시각화\n",
        "  * `.summary()`\n",
        "  * `tensorflow.keras.utils.plot_model()`"
      ],
      "metadata": {
        "id": "buNi5cvx6s_f"
      }
    },
    {
      "cell_type": "code",
      "source": [
        ""
      ],
      "metadata": {
        "id": "DALpoYDrmlGi"
      },
      "execution_count": null,
      "outputs": []
    },
    {
      "cell_type": "markdown",
      "source": [
        "#### **파라미터** \n",
        "\n",
        "<p align='center'>\n",
        "<img src=https://github.com/yebiny/SkillTreePython-DeepLearning/blob/main/imgs/ch0101-04.png?raw=true width=900>\n",
        "</p>\n"
      ],
      "metadata": {
        "id": "NYFWTExFqYH_"
      }
    },
    {
      "cell_type": "markdown",
      "source": [
        "* 데이터 플로우 : 데이터의 변환 과정을 확인하세요.\n",
        "  * `layer.output`\n"
      ],
      "metadata": {
        "id": "wWF_aUpbklsa"
      }
    },
    {
      "cell_type": "code",
      "source": [
        ""
      ],
      "metadata": {
        "id": "DlBj87Rtklsa"
      },
      "execution_count": null,
      "outputs": []
    },
    {
      "cell_type": "markdown",
      "source": [
        "* 학습 파라미터 : 학습 파라미터의 shape를 확인하세요.\n",
        "  * `.get_weights()`"
      ],
      "metadata": {
        "id": "psYEdHG8rHT-"
      }
    },
    {
      "cell_type": "code",
      "source": [
        ""
      ],
      "metadata": {
        "id": "LamoOVNRrLKe"
      },
      "execution_count": null,
      "outputs": []
    },
    {
      "cell_type": "markdown",
      "source": [
        "#### **순전파 계산**\n",
        "\n",
        "현재 초기화되어 있는 학습파라미터를 이용해 Y를 계산해 보세요.\n",
        "X는 랜덤한 숫자로 적용하세요.\n",
        "* `np.random.normal`"
      ],
      "metadata": {
        "id": "RE9XeArWBMoh"
      }
    },
    {
      "cell_type": "code",
      "source": [
        ""
      ],
      "metadata": {
        "id": "DC0otNklBMoh"
      },
      "execution_count": null,
      "outputs": []
    },
    {
      "cell_type": "markdown",
      "source": [
        "### | 모델링 (2)\n",
        "\n",
        "<p align='center'>\n",
        "<img src=https://github.com/yebiny/SkillTreePython-DeepLearning/blob/main/imgs/ch0101-02.png?raw=true width=450>\n",
        "</p>\n"
      ],
      "metadata": {
        "id": "CLRoUfPKvQRp"
      }
    },
    {
      "cell_type": "markdown",
      "source": [
        "#### **모델 구현**"
      ],
      "metadata": {
        "id": "-Ae5REJwMaTd"
      }
    },
    {
      "cell_type": "code",
      "source": [
        ""
      ],
      "metadata": {
        "id": "ds6Y10NIDPX4"
      },
      "execution_count": null,
      "outputs": []
    },
    {
      "cell_type": "markdown",
      "source": [
        "* 모델 시각화\n",
        "  * `.summary()`\n",
        "  * `tensorflow.keras.utils.plot_model()`"
      ],
      "metadata": {
        "id": "cqllNVUpDPX4"
      }
    },
    {
      "cell_type": "code",
      "source": [
        ""
      ],
      "metadata": {
        "id": "JtYmoeGqDPX4"
      },
      "execution_count": null,
      "outputs": []
    },
    {
      "cell_type": "markdown",
      "source": [
        "#### **파라미터** \n",
        "\n",
        "<p align='center'>\n",
        "<img src=https://github.com/yebiny/SkillTreePython-DeepLearning/blob/main/imgs/ch0101-05.png?raw=true width=900>\n",
        "</p>\n"
      ],
      "metadata": {
        "id": "FiQBcveRvQRq"
      }
    },
    {
      "cell_type": "markdown",
      "source": [
        "* 데이터 플로우 : 데이터의 변환 과정을 확인하세요.\n",
        "  * `layer.output`\n"
      ],
      "metadata": {
        "id": "47Bi4i9LDPX5"
      }
    },
    {
      "cell_type": "code",
      "source": [
        ""
      ],
      "metadata": {
        "id": "5NBk9svKDPX5"
      },
      "execution_count": null,
      "outputs": []
    },
    {
      "cell_type": "markdown",
      "source": [
        "* 학습 파라미터 : 학습 파라미터의 shape를 확인하세요.\n",
        "  * `.get_weights()`"
      ],
      "metadata": {
        "id": "s5XkjLJMDPX5"
      }
    },
    {
      "cell_type": "code",
      "source": [
        ""
      ],
      "metadata": {
        "id": "XHMP6-qxDPX5"
      },
      "execution_count": null,
      "outputs": []
    },
    {
      "cell_type": "markdown",
      "source": [
        "#### **순전파 계산**\n",
        "\n",
        "현재 초기화되어 있는 학습파라미터를 이용해 Y를 계산해 보세요.\n",
        "X는 랜덤한 숫자로 적용하세요.\n",
        "* `np.random.normal`"
      ],
      "metadata": {
        "id": "PXaQ_U9hBKD4"
      }
    },
    {
      "cell_type": "code",
      "source": [
        ""
      ],
      "metadata": {
        "id": "f0PpJMe-BKD4"
      },
      "execution_count": null,
      "outputs": []
    },
    {
      "cell_type": "markdown",
      "source": [
        "### | 모델링 (3)\n",
        "\n",
        "<p align='center'>\n",
        "<img src=https://github.com/yebiny/SkillTreePython-DeepLearning/blob/main/imgs/ch0101-03.png?raw=true width=550>\n",
        "</p>\n"
      ],
      "metadata": {
        "id": "pdq32nZCwMiL"
      }
    },
    {
      "cell_type": "markdown",
      "source": [
        "#### **모델 구현**"
      ],
      "metadata": {
        "id": "MMR9-36eJQbl"
      }
    },
    {
      "cell_type": "code",
      "source": [
        ""
      ],
      "metadata": {
        "id": "Z2IuUrLswMiL"
      },
      "execution_count": null,
      "outputs": []
    },
    {
      "cell_type": "markdown",
      "source": [
        "* 모델 시각화\n",
        "  * `.summary()`\n",
        "  * `tensorflow.keras.utils.plot_model()`"
      ],
      "metadata": {
        "id": "7O3UAyO1Fs9U"
      }
    },
    {
      "cell_type": "code",
      "source": [
        ""
      ],
      "metadata": {
        "id": "fM20ihdrFs9U"
      },
      "execution_count": null,
      "outputs": []
    },
    {
      "cell_type": "markdown",
      "source": [
        "#### **파라미터** \n",
        "\n",
        "<p align='center'>\n",
        "<img src=https://github.com/yebiny/SkillTreePython-DeepLearning/blob/main/imgs/ch0101-06.png?raw=true width=900>\n",
        "</p>\n"
      ],
      "metadata": {
        "id": "b6McWfzgwMiL"
      }
    },
    {
      "cell_type": "markdown",
      "source": [
        "* 데이터 플로우 : 데이터의 변환 과정을 확인하세요.\n",
        "  * `layer.output`\n",
        "\n"
      ],
      "metadata": {
        "id": "iJlWs5SPGPY1"
      }
    },
    {
      "cell_type": "code",
      "source": [
        ""
      ],
      "metadata": {
        "id": "mCGGTr0vGPY2"
      },
      "execution_count": null,
      "outputs": []
    },
    {
      "cell_type": "markdown",
      "source": [
        "* 학습 파라미터 : 학습 파라미터의 shape를 확인하세요.\n",
        "  * `.get_weights()`"
      ],
      "metadata": {
        "id": "wcXGgS5wGPY2"
      }
    },
    {
      "cell_type": "code",
      "source": [
        ""
      ],
      "metadata": {
        "id": "_dHFFVP9GPY2"
      },
      "execution_count": null,
      "outputs": []
    },
    {
      "cell_type": "markdown",
      "source": [
        "#### **순전파 계산**\n",
        "\n",
        "현재 초기화되어 있는 학습파라미터를 이용해 Y를 계산해 보세요.\n",
        "X는 랜덤한 숫자로 적용하세요.\n",
        "* `np.random.normal`"
      ],
      "metadata": {
        "id": "QXBhbZTdBF_f"
      }
    },
    {
      "cell_type": "code",
      "source": [
        ""
      ],
      "metadata": {
        "id": "mFLI_U-BBF_g"
      },
      "execution_count": null,
      "outputs": []
    },
    {
      "cell_type": "markdown",
      "source": [
        "### | 모델링 (4)\n",
        "\n",
        "<p align='center'>\n",
        "<img src=https://github.com/yebiny/SkillTreePython-DeepLearning/blob/main/imgs/ch0101-12.png?raw=true width=820>"
      ],
      "metadata": {
        "id": "iF1Pr3EaoAF7"
      }
    },
    {
      "cell_type": "markdown",
      "source": [
        "#### **모델 구현**"
      ],
      "metadata": {
        "id": "B5AjRa732e7p"
      }
    },
    {
      "cell_type": "code",
      "source": [
        ""
      ],
      "metadata": {
        "id": "CgMWjNgu2e7y"
      },
      "execution_count": null,
      "outputs": []
    },
    {
      "cell_type": "markdown",
      "source": [
        "#### **파라미터** \n",
        "\n"
      ],
      "metadata": {
        "id": "SANpL92z1-bd"
      }
    },
    {
      "cell_type": "markdown",
      "source": [
        "* 데이터 플로우 : 데이터의 변환 과정을 확인하세요.\n",
        "  * `layer.output`\n",
        "\n"
      ],
      "metadata": {
        "id": "pBcmDE8ZybwG"
      }
    },
    {
      "cell_type": "code",
      "source": [
        ""
      ],
      "metadata": {
        "id": "lc2W98-amfyP"
      },
      "execution_count": null,
      "outputs": []
    },
    {
      "cell_type": "markdown",
      "source": [
        "* 학습 파라미터 : 학습 파라미터의 shape를 확인하세요.\n",
        "  * `.get_weights()`"
      ],
      "metadata": {
        "id": "1f3wtqGoyz4n"
      }
    },
    {
      "cell_type": "code",
      "source": [
        ""
      ],
      "metadata": {
        "id": "YGL2joIdyz4o"
      },
      "execution_count": null,
      "outputs": []
    },
    {
      "cell_type": "markdown",
      "source": [
        "#### **순전파 계산**\n",
        "\n",
        "현재 초기화되어 있는 학습파라미터를 이용해 Y를 계산해 보세요.\n",
        "X는 랜덤한 숫자로 적용하세요.\n",
        "* `np.random.normal`"
      ],
      "metadata": {
        "id": "EtkJfyepMfJk"
      }
    },
    {
      "cell_type": "code",
      "source": [
        ""
      ],
      "metadata": {
        "id": "al1XlzJuMf9-"
      },
      "execution_count": null,
      "outputs": []
    },
    {
      "cell_type": "markdown",
      "source": [
        "### | 병렬연산\n",
        "\n",
        "\n",
        "<p align='center'>\n",
        "<img src=https://github.com/yebiny/SkillTreePython-DeepLearning/blob/main/imgs/ch0101-13.png?raw=true width=820>\n",
        "\n"
      ],
      "metadata": {
        "id": "2B95PNoM0O9a"
      }
    },
    {
      "cell_type": "markdown",
      "source": [
        "#### **순전파 계산**\n",
        "\n",
        "Model3를 이용하여 Y를 계산해 보세요.\n",
        "X는 랜덤한 숫자로 적용하세요. X의 샘플 개수는 10개 입니다.\n",
        "* `np.random.normal`"
      ],
      "metadata": {
        "id": "LZoN8fo-PboK"
      }
    },
    {
      "cell_type": "code",
      "source": [
        ""
      ],
      "metadata": {
        "id": "Vv1yq_uF4Vxu"
      },
      "execution_count": null,
      "outputs": []
    },
    {
      "cell_type": "markdown",
      "source": [
        "## 텐서플로우 - 모델을 만드는 세가지 방법\n",
        "---"
      ],
      "metadata": {
        "id": "cxfkYRgEl_CM"
      }
    },
    {
      "cell_type": "markdown",
      "metadata": {
        "id": "ek-Z53ZpxD7P"
      },
      "source": [
        "1. keras Sequential API\n",
        "2. Keras Functional API\n",
        "3. Model Class Subsclassing\n"
      ]
    },
    {
      "cell_type": "code",
      "source": [
        "import tensorflow as tf\n",
        "from tensorflow.keras import layers, models, utils\n",
        "import numpy as np\n",
        "tf.__version__"
      ],
      "metadata": {
        "id": "ynYVT_G104eR",
        "outputId": "35c5f770-5f44-4041-beef-7df006e42b17",
        "colab": {
          "base_uri": "https://localhost:8080/",
          "height": 35
        }
      },
      "execution_count": 1,
      "outputs": [
        {
          "output_type": "execute_result",
          "data": {
            "text/plain": [
              "'2.8.2'"
            ],
            "application/vnd.google.colaboratory.intrinsic+json": {
              "type": "string"
            }
          },
          "metadata": {},
          "execution_count": 1
        }
      ]
    },
    {
      "cell_type": "markdown",
      "source": [
        "아래 그림과 같은 모델을 텐서플로우를 이용해서 만들어 봅시다.\n",
        "\n",
        "<p align='center'>\n",
        "<img src=https://github.com/yebiny/NCS-lecture-deeplearning/blob/main/imgs/01-testmodel1.PNG?raw=true width=600>"
      ],
      "metadata": {
        "id": "9KCc_ZoOlxBy"
      }
    },
    {
      "cell_type": "markdown",
      "metadata": {
        "id": "6fB29iRAxyP_"
      },
      "source": [
        "### | Keras Functional API"
      ]
    },
    {
      "cell_type": "markdown",
      "source": [
        "* 모델 구현"
      ],
      "metadata": {
        "id": "_nHacE06bPwT"
      }
    },
    {
      "cell_type": "code",
      "metadata": {
        "id": "nzzxJsKfxwXS"
      },
      "source": [
        "def build_model0():\n",
        "  x = layers.Input(shape = (3))\n",
        "  z1 = layers.Dense(6)(x) #(아웃풋 shape) \n",
        "  z2 = layers.Dense(6)(z1)\n",
        "  y = layers.Dense(1)(z2)\n",
        "  model = models.Model(inputs=x, outputs=y) #레이어들을 쌓아서 하나의 모델로 만들어준다\n",
        "  return model\n",
        "\n",
        "model0 = build_model0()"
      ],
      "execution_count": 7,
      "outputs": []
    },
    {
      "cell_type": "markdown",
      "source": [
        "* 시각화"
      ],
      "metadata": {
        "id": "fu5N77ex1uJH"
      }
    },
    {
      "cell_type": "code",
      "metadata": {
        "id": "KMP3U9hj1uJH",
        "outputId": "902bc134-70b9-4431-b4be-c742745b3099",
        "colab": {
          "base_uri": "https://localhost:8080/",
          "height": 734
        }
      },
      "source": [
        "model0.summary()\n",
        "utils.plot_model(model0, show_shapes=True)"
      ],
      "execution_count": 13,
      "outputs": [
        {
          "output_type": "stream",
          "name": "stdout",
          "text": [
            "Model: \"model\"\n",
            "_________________________________________________________________\n",
            " Layer (type)                Output Shape              Param #   \n",
            "=================================================================\n",
            " input_2 (InputLayer)        [(None, 3)]               0         \n",
            "                                                                 \n",
            " dense_3 (Dense)             (None, 6)                 24        \n",
            "                                                                 \n",
            " dense_4 (Dense)             (None, 6)                 42        \n",
            "                                                                 \n",
            " dense_5 (Dense)             (None, 1)                 7         \n",
            "                                                                 \n",
            "=================================================================\n",
            "Total params: 73\n",
            "Trainable params: 73\n",
            "Non-trainable params: 0\n",
            "_________________________________________________________________\n"
          ]
        },
        {
          "output_type": "execute_result",
          "data": {
            "text/plain": [
              "<IPython.core.display.Image object>"
            ],
            "image/png": "[encoded data removed]"
          },
          "metadata": {},
          "execution_count": 13
        }
      ]
    },
    {
      "cell_type": "markdown",
      "metadata": {
        "id": "8aFljiFtxGUP"
      },
      "source": [
        "### | Keras Sequential API\n",
        "\n"
      ]
    },
    {
      "cell_type": "markdown",
      "source": [
        "* 모델 구현: `Sequential()`"
      ],
      "metadata": {
        "id": "j5xvJ7e01rbx"
      }
    },
    {
      "cell_type": "code",
      "metadata": {
        "id": "8Id8VOEiw-nT"
      },
      "source": [
        "model0 = tf.keras.Sequential() #모델 껍데기 만듦\n",
        "model0.add( layers.Input(shape=(3)))\n",
        "model0.add( layers.Dense((6)))\n",
        "model0.add( layers.Dense((6)))\n",
        "model0.add( layers.Dense((1)))"
      ],
      "execution_count": 15,
      "outputs": []
    },
    {
      "cell_type": "markdown",
      "source": [
        "* 모델 시각화"
      ],
      "metadata": {
        "id": "Xzmbgxa31oew"
      }
    },
    {
      "cell_type": "code",
      "metadata": {
        "id": "fc-0GKtqxopy",
        "outputId": "13563b90-9f74-4653-bce9-13d5ccead45a",
        "colab": {
          "base_uri": "https://localhost:8080/",
          "height": 697
        }
      },
      "source": [
        "model0.summary()\n",
        "utils.plot_model(model0, show_shapes=True)"
      ],
      "execution_count": 16,
      "outputs": [
        {
          "output_type": "stream",
          "name": "stdout",
          "text": [
            "Model: \"sequential_1\"\n",
            "_________________________________________________________________\n",
            " Layer (type)                Output Shape              Param #   \n",
            "=================================================================\n",
            " dense_6 (Dense)             (None, 6)                 24        \n",
            "                                                                 \n",
            " dense_7 (Dense)             (None, 6)                 42        \n",
            "                                                                 \n",
            " dense_8 (Dense)             (None, 1)                 7         \n",
            "                                                                 \n",
            "=================================================================\n",
            "Total params: 73\n",
            "Trainable params: 73\n",
            "Non-trainable params: 0\n",
            "_________________________________________________________________\n"
          ]
        },
        {
          "output_type": "execute_result",
          "data": {
            "text/plain": [
              "<IPython.core.display.Image object>"
            ],
            "image/png": "[encoded data removed]"
          },
          "metadata": {},
          "execution_count": 16
        }
      ]
    },
    {
      "cell_type": "markdown",
      "metadata": {
        "id": "J3weqVyOymnn"
      },
      "source": [
        "### | Model Class Subclassing"
      ]
    },
    {
      "cell_type": "markdown",
      "source": [
        "* 모델 구현"
      ],
      "metadata": {
        "id": "k8A4RhsPbbnS"
      }
    },
    {
      "cell_type": "code",
      "metadata": {
        "id": "Y8pq4dLnykdS"
      },
      "source": [
        ""
      ],
      "execution_count": null,
      "outputs": []
    },
    {
      "cell_type": "markdown",
      "source": [
        "* 모델 시각화"
      ],
      "metadata": {
        "id": "zgTALE5H17_3"
      }
    },
    {
      "cell_type": "code",
      "metadata": {
        "id": "HK0_O6i117_4"
      },
      "source": [
        ""
      ],
      "execution_count": null,
      "outputs": []
    },
    {
      "cell_type": "markdown",
      "source": [
        "### | 예제\n",
        "\n",
        "세가지 방법을 이용해 아래 모델을 구현하세요."
      ],
      "metadata": {
        "id": "gpBnK0J7cbpK"
      }
    },
    {
      "cell_type": "markdown",
      "source": [
        "#### **예제 01**\n",
        "\n",
        "<p align='center'>\n",
        "<img src=https://github.com/yebiny/NCS-lecture-deeplearning/blob/main/imgs/01-testmodel2.PNG?raw=true width=500>\n"
      ],
      "metadata": {
        "id": "e7DmmlbplmAa"
      }
    },
    {
      "cell_type": "markdown",
      "source": [
        "* Keras Functional API\n"
      ],
      "metadata": {
        "id": "5mnW29R1qK5u"
      }
    },
    {
      "cell_type": "code",
      "source": [
        "def build_model0():\n",
        "  x = layers.Input(shape = (4))\n",
        "  z1 = layers.Dense(8)(x) #(아웃풋 shape) \n",
        "  z2 = layers.Dense(8)(z1)\n",
        "  y = layers.Dense(3)(z2)\n",
        "  model = models.Model(inputs=x, outputs=y) #레이어들을 쌓아서 하나의 모델로 만들어준다\n",
        "  return model\n",
        "\n",
        "model0 = build_model0()\n",
        "\n"
      ],
      "metadata": {
        "id": "BgLyz6HXqK5v"
      },
      "execution_count": 19,
      "outputs": []
    },
    {
      "cell_type": "markdown",
      "source": [
        "* keras Sequential API\n"
      ],
      "metadata": {
        "id": "q5ygabc2qI1P"
      }
    },
    {
      "cell_type": "code",
      "source": [
        "model0 = tf.keras.Sequential() #모델 껍데기 만듦\n",
        "model0.add( layers.Input(shape=(4)))\n",
        "model0.add( layers.Dense((8)))\n",
        "model0.add( layers.Dense((8)))\n",
        "model0.add( layers.Dense((3)))"
      ],
      "metadata": {
        "id": "I6qwU4_zlnN_"
      },
      "execution_count": 20,
      "outputs": []
    },
    {
      "cell_type": "markdown",
      "source": [
        "* Model Class Subsclassing\n",
        "\n",
        "\n"
      ],
      "metadata": {
        "id": "k9crENLAqLEW"
      }
    },
    {
      "cell_type": "code",
      "source": [
        "model0.summary()\n",
        "utils.plot_model(model0, show_shapes=True)"
      ],
      "metadata": {
        "id": "hP3yZKS0qLEW",
        "outputId": "13313756-7686-4fef-f029-5445372dc1db",
        "colab": {
          "base_uri": "https://localhost:8080/",
          "height": 697
        }
      },
      "execution_count": 21,
      "outputs": [
        {
          "output_type": "stream",
          "name": "stdout",
          "text": [
            "Model: \"sequential_2\"\n",
            "_________________________________________________________________\n",
            " Layer (type)                Output Shape              Param #   \n",
            "=================================================================\n",
            " dense_18 (Dense)            (None, 8)                 40        \n",
            "                                                                 \n",
            " dense_19 (Dense)            (None, 8)                 72        \n",
            "                                                                 \n",
            " dense_20 (Dense)            (None, 3)                 27        \n",
            "                                                                 \n",
            "=================================================================\n",
            "Total params: 139\n",
            "Trainable params: 139\n",
            "Non-trainable params: 0\n",
            "_________________________________________________________________\n"
          ]
        },
        {
          "output_type": "execute_result",
          "data": {
            "text/plain": [
              "<IPython.core.display.Image object>"
            ],
            "image/png": "[encoded data removed]"
          },
          "metadata": {},
          "execution_count": 21
        }
      ]
    },
    {
      "cell_type": "markdown",
      "source": [
        "#### **예제 02**\n",
        "\n",
        "\n",
        "\n",
        "\n",
        "<p align='center'>\n",
        "<img src=https://github.com/yebiny/NCS-lecture-deeplearning/blob/main/imgs/01-testmodel3.PNG?raw=true width=700>\n"
      ],
      "metadata": {
        "id": "ZCd50-faAZg9"
      }
    },
    {
      "cell_type": "markdown",
      "source": [
        "* Keras Functional API\n"
      ],
      "metadata": {
        "id": "-TXHCeHZqZjF"
      }
    },
    {
      "cell_type": "code",
      "source": [
        "def build_model0():\n",
        "  x = layers.Input(shape = (3))\n",
        "  z1 = layers.Dense(4)(x) #(아웃풋 shape) \n",
        "  z2 = layers.Dense(8)(z1)\n",
        "  z3 = layers.Dense(4)(z2)\n",
        "  y = layers.Dense(1)(z2)\n",
        "  model = models.Model(inputs=x, outputs=y) #레이어들을 쌓아서 하나의 모델로 만들어준다\n",
        "  return model\n",
        "\n",
        "model0 = build_model0()\n",
        "\n"
      ],
      "metadata": {
        "id": "Zekozc0QqZjG"
      },
      "execution_count": 23,
      "outputs": []
    },
    {
      "cell_type": "markdown",
      "source": [
        "* keras Sequential API\n"
      ],
      "metadata": {
        "id": "LQPscC7sqZjA"
      }
    },
    {
      "cell_type": "code",
      "source": [
        "model0 = tf.keras.Sequential() #모델 껍데기 만듦\n",
        "model0.add( layers.Input(shape=(3)))\n",
        "model0.add( layers.Dense((4)))\n",
        "model0.add( layers.Dense((8)))\n",
        "model0.add( layers.Dense((4)))\n",
        "model0.add( layers.Dense((1)))"
      ],
      "metadata": {
        "id": "IO0chB0pqZjF"
      },
      "execution_count": 25,
      "outputs": []
    },
    {
      "cell_type": "markdown",
      "source": [
        "* Model Class Subsclassing\n",
        "\n"
      ],
      "metadata": {
        "id": "LKm8DvxSqZjG"
      }
    },
    {
      "cell_type": "code",
      "source": [
        "model0.summary()\n",
        "utils.plot_model(model0, show_shapes=True)"
      ],
      "metadata": {
        "id": "fEOkBDe2qZjG",
        "outputId": "6e613e98-5c5e-4275-d0e8-a5f19834fe9f",
        "colab": {
          "base_uri": "https://localhost:8080/",
          "height": 845
        }
      },
      "execution_count": 26,
      "outputs": [
        {
          "output_type": "stream",
          "name": "stdout",
          "text": [
            "Model: \"sequential_4\"\n",
            "_________________________________________________________________\n",
            " Layer (type)                Output Shape              Param #   \n",
            "=================================================================\n",
            " dense_29 (Dense)            (None, 4)                 16        \n",
            "                                                                 \n",
            " dense_30 (Dense)            (None, 8)                 40        \n",
            "                                                                 \n",
            " dense_31 (Dense)            (None, 4)                 36        \n",
            "                                                                 \n",
            " dense_32 (Dense)            (None, 1)                 5         \n",
            "                                                                 \n",
            "=================================================================\n",
            "Total params: 97\n",
            "Trainable params: 97\n",
            "Non-trainable params: 0\n",
            "_________________________________________________________________\n"
          ]
        },
        {
          "output_type": "execute_result",
          "data": {
            "text/plain": [
              "<IPython.core.display.Image object>"
            ],
            "image/png": "[encoded data removed]"
          },
          "metadata": {},
          "execution_count": 26
        }
      ]
    },
    {
      "cell_type": "code",
      "source": [
        ""
      ],
      "metadata": {
        "id": "Q-zGho2yfQSO"
      },
      "execution_count": null,
      "outputs": []
    }
  ]
}