{
  "nbformat": 4,
  "nbformat_minor": 0,
  "metadata": {
    "colab": {
      "name": "ch01_06_CNN기초-Convolutional_Layer.ipynb",
      "provenance": [],
      "collapsed_sections": [],
      "include_colab_link": true
    },
    "kernelspec": {
      "name": "python3",
      "display_name": "Python 3"
    },
    "language_info": {
      "name": "python"
    },
    "accelerator": "GPU",
    "gpuClass": "standard"
  },
  "cells": [
    {
      "cell_type": "markdown",
      "metadata": {
        "id": "view-in-github",
        "colab_type": "text"
      },
      "source": [
        "<a href=\"https://colab.research.google.com/github/GETHUB55/SkillTreePython-DeepLearning/blob/main/01.%EB%94%A5%EB%9F%AC%EB%8B%9Dwith%ED%85%90%EC%84%9C%ED%94%8C%EB%A1%9C%EC%9A%B0-basic/ch01_06_CNN%EA%B8%B0%EC%B4%88_Convolutional_Layer.ipynb\" target=\"_parent\"><img src=\"https://colab.research.google.com/assets/colab-badge.svg\" alt=\"Open In Colab\"/></a>"
      ]
    },
    {
      "cell_type": "markdown",
      "source": [
        "# ch01.06 CNN기초 - Convolutional Layer\n",
        "---\n",
        "\n",
        "* 날짜: 07-27\n",
        "* 이름: 조수빈\n",
        "\n",
        "## 학습내용\n",
        "    - CNN의 개념을 이해한다.\n",
        "    - 텐서플로우를 이용해 CNN을 구성한다.\n",
        "    - CNN 모델을 이용해 손글씨 이미지를 분류한다.\n",
        "    - CNN의 feature map에 대해 이해한다.\n",
        "\n",
        "## 데이터셋\n",
        "\n",
        "* MNIST\n",
        "\n",
        "```\n",
        "import numpy as np\n",
        "import tensorflow as tf\n",
        "import matplotlib.pyplot as plt\n",
        "```"
      ],
      "metadata": {
        "id": "sWs2kEC1_b-P"
      }
    },
    {
      "cell_type": "code",
      "source": [
        "import numpy as np\n",
        "import tensorflow as tf\n",
        "import matplotlib.pyplot as plt\n"
      ],
      "metadata": {
        "id": "7vXrksNr0m1v"
      },
      "execution_count": 1,
      "outputs": []
    },
    {
      "cell_type": "markdown",
      "source": [
        "## 이미지 데이터의 특징\n",
        "---\n",
        "\n",
        "<p align='center'>\n",
        "<img src=https://wikidocs.net/images/page/64066/conv1.png width=550>\n",
        "</p>\n",
        "\n",
        "다층 퍼셉트론을 이용하기 위해서는 데이터 샘플 한개의 차원이 1차원이여야 합니다. 그러나 1차원으로 변환된 결과는 사람이 보기에도 이게 원래 어떤 이미지였는지 알아보기가 어렵습니다. \n",
        "\n",
        "위와 같은 결과는 변환 전에 가지고 있던 **공간적인 구조**(spatial structure) 정보가 유실된 상태입니다.\n",
        "\n",
        "결국 이미지의 공간적인 구조 정보를 보존하면서 학습할 수 있는 방법이 필요해졌고, 이를 위해 합성곱 신경망을 사용합니다.\n"
      ],
      "metadata": {
        "id": "FuUR8DztmbId"
      }
    },
    {
      "cell_type": "markdown",
      "source": [
        "```\n",
        "X = np.array([[1,1,1,1,1],\n",
        "              [1,0,1,0,1],\n",
        "              [1,1,0,0,1],\n",
        "              [1,1,1,0,1],\n",
        "              [1,1,1,0,1],\n",
        "              [1,1,1,1,1],])\n",
        "```"
      ],
      "metadata": {
        "id": "dy4UcDermXkx"
      }
    },
    {
      "cell_type": "code",
      "source": [
        "X = np.array([[1,1,1,1,1],\n",
        "              [1,0,1,0,1],\n",
        "              [1,1,0,0,1],\n",
        "              [1,1,1,0,1],\n",
        "              [1,1,1,0,1],\n",
        "              [1,1,1,1,1],])\n",
        "print(X.shape)\n",
        "plt.imshow(X, cmap = 'gray')"
      ],
      "metadata": {
        "id": "_affyE2BmWIl",
        "colab": {
          "base_uri": "https://localhost:8080/",
          "height": 302
        },
        "outputId": "a5783e07-2fce-455d-8aa2-769f70fab41f"
      },
      "execution_count": 7,
      "outputs": [
        {
          "output_type": "stream",
          "name": "stdout",
          "text": [
            "(6, 5)\n"
          ]
        },
        {
          "output_type": "execute_result",
          "data": {
            "text/plain": [
              "<matplotlib.image.AxesImage at 0x7fc97c487ad0>"
            ]
          },
          "metadata": {},
          "execution_count": 7
        },
        {
          "output_type": "display_data",
          "data": {
            "text/plain": [
              "<Figure size 432x288 with 1 Axes>"
            ],
            "image/png": "[encoded data removed]"
          },
          "metadata": {
            "needs_background": "light"
          }
        }
      ]
    },
    {
      "cell_type": "code",
      "source": [
        "X.flatten() #1차원:공간적 정보가 사라진다."
      ],
      "metadata": {
        "colab": {
          "base_uri": "https://localhost:8080/"
        },
        "id": "OiXw_YpuPIx3",
        "outputId": "1986692b-b300-47c3-b865-65633bba9a5d"
      },
      "execution_count": 8,
      "outputs": [
        {
          "output_type": "execute_result",
          "data": {
            "text/plain": [
              "array([1, 1, 1, 1, 1, 1, 0, 1, 0, 1, 1, 1, 0, 0, 1, 1, 1, 1, 0, 1, 1, 1,\n",
              "       1, 0, 1, 1, 1, 1, 1, 1])"
            ]
          },
          "metadata": {},
          "execution_count": 8
        }
      ]
    },
    {
      "cell_type": "markdown",
      "source": [
        "## 합성곱 층\n",
        "---"
      ],
      "metadata": {
        "id": "g-2VVA31UTnD"
      }
    },
    {
      "cell_type": "markdown",
      "source": [
        "### | 텐서플로우를 이용한 합성곱층 구현\n",
        "\n",
        "```\n",
        "tf.keras.layers.Conv2D(\n",
        "    filters,\n",
        "    kernel_size,\n",
        "    padding='valid',\n",
        "    strides=(1, 1),\n",
        "    activation=None,\n",
        ")\n",
        "\n",
        "```"
      ],
      "metadata": {
        "id": "QfP9HDu1g9kJ"
      }
    },
    {
      "cell_type": "code",
      "source": [
        "from tensorflow.keras.layers import Conv2D\n"
      ],
      "metadata": {
        "id": "_tygZa2jZg3q"
      },
      "execution_count": 10,
      "outputs": []
    },
    {
      "cell_type": "markdown",
      "source": [
        "#### **filters**\n",
        "\n",
        "* filter 개수에 따라 아웃풋의 shape가 어떻게 변화하는지 살펴봅니다.\n",
        "\n",
        "<p align='center'>\n",
        "<img src=https://github.com/yebiny/SkillTreePython-DeepLearning/blob/main/imgs/ch0106-01.PNG?raw=true\n",
        " width=450>\n",
        "</p>\n"
      ],
      "metadata": {
        "id": "Ir3O8uUr7vZp"
      }
    },
    {
      "cell_type": "code",
      "source": [
        "x = np.random.normal(0,1,size=(1,8,8,1)) # 인풋: (1, 8, 8,1)\n",
        "print('인풋',x.shape)\n",
        "for n in [1,3,5,8]:\n",
        " y = Conv2D(filters=n, kernel_size=1)(x) # 아웃풋: \n",
        " print('filters:',n)\n",
        " print('아웃풋',y.shape)\n",
        " #filters : 채널의 개수를 정해준다!"
      ],
      "metadata": {
        "id": "jYfxDSgCg1im",
        "colab": {
          "base_uri": "https://localhost:8080/"
        },
        "outputId": "65e7c246-50ec-4554-f03e-d058fbfc883f"
      },
      "execution_count": 17,
      "outputs": [
        {
          "output_type": "stream",
          "name": "stdout",
          "text": [
            "인풋 (1, 8, 8, 1)\n",
            "filters: 1\n",
            "아웃풋 (1, 8, 8, 1)\n",
            "filters: 3\n",
            "아웃풋 (1, 8, 8, 3)\n",
            "filters: 5\n",
            "아웃풋 (1, 8, 8, 5)\n",
            "filters: 8\n",
            "아웃풋 (1, 8, 8, 8)\n"
          ]
        }
      ]
    },
    {
      "cell_type": "markdown",
      "source": [
        "#### **kernel size**\n",
        "\n",
        "* kernel size 에 따라 아웃풋의 shape가 어떻게 변화하는지 살펴봅니다.\n",
        "\n",
        "<p align='center'>\n",
        "<img src=https://github.com/yebiny/SkillTreePython-DeepLearning/blob/main/imgs/ch0106-02.PNG?raw=true\n",
        " width=450>\n",
        "</p>"
      ],
      "metadata": {
        "id": "GXwC2GIM8ekk"
      }
    },
    {
      "cell_type": "code",
      "source": [
        "#size2면 1,0,1,2\n",
        "#size3면 1,0,1,1,2,0,1,0,1"
      ],
      "metadata": {
        "id": "ASGoNrRl8ekr"
      },
      "execution_count": null,
      "outputs": []
    },
    {
      "cell_type": "markdown",
      "source": [
        "#### **padding**\n",
        "\n",
        "* padding 옵션에 따라 아웃풋의 shape가 어떻게 변화하는지 살펴봅니다.\n",
        "  * valid\n",
        "  * same\n",
        "\n",
        "<p align='center'>\n",
        "<img src=https://github.com/yebiny/SkillTreePython-DeepLearning/blob/main/imgs/ch0106-03.PNG?raw=true\n",
        " width=550>\n",
        "</p>"
      ],
      "metadata": {
        "id": "tDjyf9xG8m-i"
      }
    },
    {
      "cell_type": "code",
      "source": [
        "print('인풋:',x.shape)\n",
        "y_valid = Conv2D(filters=1,kernel_size=3,padding='valid')(x) #이미지크기 줄어듦\n",
        "y_same = Conv2D(filters=1,kernel_size=3,padding='same')(x)\n",
        "print('아웃풋 valid:',y_valid.shape) \n",
        "print('아웃풋 same:',y_same.shape)\n",
        "\n",
        "# pedding : same 일 때 이미지의 크기가 변하지 않는다."
      ],
      "metadata": {
        "id": "O5nMpYKr8m-j",
        "colab": {
          "base_uri": "https://localhost:8080/"
        },
        "outputId": "fc25ffae-07d2-4095-dbbf-5dc01c5252cc"
      },
      "execution_count": 21,
      "outputs": [
        {
          "output_type": "stream",
          "name": "stdout",
          "text": [
            "인풋: (1, 8, 8, 1)\n",
            "아웃풋 valid: (1, 6, 6, 1)\n",
            "아웃풋 same: (1, 8, 8, 1)\n"
          ]
        }
      ]
    },
    {
      "cell_type": "markdown",
      "source": [
        "#### **strides**\n",
        "* strides 의 크기에 따라 아웃풋의 shape가 어떻게 변화하는지 살펴봅니다.\n",
        "\n",
        "<p align='center'>\n",
        "<img src=https://github.com/yebiny/SkillTreePython-DeepLearning/blob/main/imgs/ch0106-04.PNG?raw=true\n",
        " width=450>\n",
        "</p>"
      ],
      "metadata": {
        "id": "AhPvcOMS8-tT"
      }
    },
    {
      "cell_type": "code",
      "source": [
        "#strides : 1,2,4 일 때 변화\n",
        "for m in [1,2,4]:\n",
        " y = Conv2D(filters=1,kernel_size=3,padding='same', strides=m)(x)\n",
        " print(y.shape)"
      ],
      "metadata": {
        "id": "ejYHsGjW9Dxd",
        "colab": {
          "base_uri": "https://localhost:8080/"
        },
        "outputId": "20eb41d1-431e-4501-b0b5-0789b8dcba8d"
      },
      "execution_count": 23,
      "outputs": [
        {
          "output_type": "stream",
          "name": "stdout",
          "text": [
            "(1, 8, 8, 1)\n",
            "(1, 4, 4, 1)\n",
            "(1, 2, 2, 1)\n"
          ]
        }
      ]
    },
    {
      "cell_type": "markdown",
      "source": [
        "## CNN 실습: MNIST 손글씨 이미지 분류\n",
        "---\n",
        "\n",
        "```\n",
        "mnist = tf.keras.datasets.mnist\n",
        "(x_train, y_train), (x_test, y_test) = mnist.load_data()\n",
        "```"
      ],
      "metadata": {
        "id": "xLsMxkxi6fgp"
      }
    },
    {
      "cell_type": "markdown",
      "source": [
        "### **| CNN 모델을 이용한 분류**"
      ],
      "metadata": {
        "id": "BDcHGuNeaLPf"
      }
    },
    {
      "cell_type": "markdown",
      "source": [
        "####  **데이터 준비**"
      ],
      "metadata": {
        "id": "9XFyQs_Nm6w0"
      }
    },
    {
      "cell_type": "code",
      "source": [
        "mnist = tf.keras.datasets.mnist\n",
        "(x_train, y_train), (x_test, y_test) = mnist.load_data()\n",
        "print(x_train.shape,y_train.shape,x_test.shape,y_test.shape)"
      ],
      "metadata": {
        "id": "eFbUg6pkhV0I",
        "colab": {
          "base_uri": "https://localhost:8080/"
        },
        "outputId": "70e713fc-d173-4e8c-f279-c576842eee90"
      },
      "execution_count": 37,
      "outputs": [
        {
          "output_type": "stream",
          "name": "stdout",
          "text": [
            "(60000, 28, 28) (60000,) (10000, 28, 28) (10000,)\n"
          ]
        }
      ]
    },
    {
      "cell_type": "code",
      "source": [
        "for i in range(9):\n",
        "  plt.subplot(3,3,i+1)\n",
        "  plt.title(y_train[i])\n",
        "  plt.imshow(x_train[i], cmap='gray')"
      ],
      "metadata": {
        "id": "mMViTXY6ZVz3",
        "outputId": "d48f4288-711f-4639-9a0b-1234317e31d8",
        "colab": {
          "base_uri": "https://localhost:8080/",
          "height": 281
        }
      },
      "execution_count": 31,
      "outputs": [
        {
          "output_type": "display_data",
          "data": {
            "text/plain": [
              "<Figure size 432x288 with 9 Axes>"
            ],
            "image/png": "[encoded data removed]"
          },
          "metadata": {
            "needs_background": "light"
          }
        }
      ]
    },
    {
      "cell_type": "code",
      "source": [
        "#0~255 -> 0~1 정규화\n",
        "x_train = x_train/255.0\n",
        "x_test = x_test/255.0"
      ],
      "metadata": {
        "id": "rLfq4fxHah5f"
      },
      "execution_count": 38,
      "outputs": []
    },
    {
      "cell_type": "code",
      "source": [
        "#채널 추가\n",
        "x_train = np.expand_dims(x_train, 3)\n",
        "x_test = np.expand_dims(x_test, 3)\n",
        "x_train.shape, x_test.shape"
      ],
      "metadata": {
        "id": "wXhcclbFbEnn",
        "outputId": "068ffc6d-06fe-45e8-b302-b62ceb7e964b",
        "colab": {
          "base_uri": "https://localhost:8080/"
        }
      },
      "execution_count": 39,
      "outputs": [
        {
          "output_type": "execute_result",
          "data": {
            "text/plain": [
              "((60000, 28, 28, 1), (10000, 28, 28, 1))"
            ]
          },
          "metadata": {},
          "execution_count": 39
        }
      ]
    },
    {
      "cell_type": "markdown",
      "source": [
        "#### **모델 구성**\n",
        "<p align='center'>\n",
        "<img src=https://github.com/yebiny/SkillTreePython-DeepLearning/blob/main/imgs/ch0106-05_2.PNG?raw=true\n",
        " width=650>\n",
        "</p>"
      ],
      "metadata": {
        "id": "Yr0WeGcxVYch"
      }
    },
    {
      "cell_type": "code",
      "source": [
        "from tensorflow.keras import layers, models\n"
      ],
      "metadata": {
        "id": "Luw4UdXprcOG"
      },
      "execution_count": 41,
      "outputs": []
    },
    {
      "cell_type": "code",
      "source": [
        "# 이 모델에서는 kernel_size =3, padding =same 으로\n",
        "x = layers.Input(shape = (28,28,1))\n",
        "y = layers.Conv2D(filters=8,\n",
        "                   kernel_size=3, padding='same',\n",
        "                   activation='relu')(x)\n",
        "y = layers.Conv2D(filters=8,\n",
        "                   kernel_size=3, padding='same',strides=2, \n",
        "                   activation='relu')(y)\n",
        "y = layers.Conv2D(filters=3,\n",
        "                   kernel_size=3, padding='same',strides=2, \n",
        "                   activation='relu')(y)\n",
        "y = layers.Flatten()(y)                                                                        \n",
        "y = layers.Dense(10, activation= 'softmax')(y)\n",
        "\n",
        "model = models.Model(x, y)\n",
        "model.summary()"
      ],
      "metadata": {
        "id": "-Xp0D4IzcdUJ",
        "outputId": "2c9a77f0-721e-4402-ca65-9b9b602fd88e",
        "colab": {
          "base_uri": "https://localhost:8080/"
        }
      },
      "execution_count": 64,
      "outputs": [
        {
          "output_type": "stream",
          "name": "stdout",
          "text": [
            "Model: \"model_15\"\n",
            "_________________________________________________________________\n",
            " Layer (type)                Output Shape              Param #   \n",
            "=================================================================\n",
            " input_23 (InputLayer)       [(None, 28, 28, 1)]       0         \n",
            "                                                                 \n",
            " conv2d_51 (Conv2D)          (None, 28, 28, 8)         80        \n",
            "                                                                 \n",
            " conv2d_52 (Conv2D)          (None, 14, 14, 8)         584       \n",
            "                                                                 \n",
            " conv2d_53 (Conv2D)          (None, 7, 7, 3)           219       \n",
            "                                                                 \n",
            " flatten_3 (Flatten)         (None, 147)               0         \n",
            "                                                                 \n",
            " dense_2 (Dense)             (None, 10)                1480      \n",
            "                                                                 \n",
            "=================================================================\n",
            "Total params: 2,363\n",
            "Trainable params: 2,363\n",
            "Non-trainable params: 0\n",
            "_________________________________________________________________\n"
          ]
        }
      ]
    },
    {
      "cell_type": "markdown",
      "source": [
        "#### **학습 및 평가**"
      ],
      "metadata": {
        "id": "plLyxz6PaSMU"
      }
    },
    {
      "cell_type": "code",
      "source": [
        "# 최적화 : optimizer\n",
        "# 오차구하기 : loss\n",
        "model.compile(loss = 'sparse_categorical_crossentropy' ,\n",
        "              optimizer ='adam',\n",
        "              metrics = ['acc'] \n",
        "              )\n",
        "model.fit(x_train,y_train, epochs = 10)\n"
      ],
      "metadata": {
        "id": "XJP8wbQVspks",
        "colab": {
          "base_uri": "https://localhost:8080/"
        },
        "outputId": "8b398f88-3700-4a7f-c0e9-f928246c5c13"
      },
      "execution_count": 67,
      "outputs": [
        {
          "output_type": "stream",
          "name": "stdout",
          "text": [
            "Epoch 1/10\n",
            "1875/1875 [==============================] - 7s 3ms/step - loss: 0.4409 - acc: 0.8651\n",
            "Epoch 2/10\n",
            "1875/1875 [==============================] - 5s 3ms/step - loss: 0.2314 - acc: 0.9310\n",
            "Epoch 3/10\n",
            "1875/1875 [==============================] - 5s 3ms/step - loss: 0.1716 - acc: 0.9486\n",
            "Epoch 4/10\n",
            "1875/1875 [==============================] - 5s 3ms/step - loss: 0.1391 - acc: 0.9582\n",
            "Epoch 5/10\n",
            "1875/1875 [==============================] - 5s 3ms/step - loss: 0.1180 - acc: 0.9648\n",
            "Epoch 6/10\n",
            "1875/1875 [==============================] - 5s 3ms/step - loss: 0.1021 - acc: 0.9691\n",
            "Epoch 7/10\n",
            "1875/1875 [==============================] - 6s 3ms/step - loss: 0.0907 - acc: 0.9726\n",
            "Epoch 8/10\n",
            "1875/1875 [==============================] - 5s 3ms/step - loss: 0.0835 - acc: 0.9746\n",
            "Epoch 9/10\n",
            "1875/1875 [==============================] - 5s 3ms/step - loss: 0.0792 - acc: 0.9761\n",
            "Epoch 10/10\n",
            "1875/1875 [==============================] - 5s 3ms/step - loss: 0.0746 - acc: 0.9771\n"
          ]
        },
        {
          "output_type": "execute_result",
          "data": {
            "text/plain": [
              "<keras.callbacks.History at 0x7fc8c57bafd0>"
            ]
          },
          "metadata": {},
          "execution_count": 67
        }
      ]
    },
    {
      "cell_type": "markdown",
      "source": [
        "### **| Feature map**"
      ],
      "metadata": {
        "id": "MDlSRAle6SKL"
      }
    },
    {
      "cell_type": "markdown",
      "source": [
        "#### **feature map 얻기**"
      ],
      "metadata": {
        "id": "Idw3nITWaaGb"
      }
    },
    {
      "cell_type": "code",
      "source": [
        ""
      ],
      "metadata": {
        "id": "sEFcCb5Btua2"
      },
      "execution_count": null,
      "outputs": []
    },
    {
      "cell_type": "markdown",
      "source": [
        "#### **시각화**\n",
        "\n",
        "<p align='center'>\n",
        "<img src=https://github.com/yebiny/SkillTreePython-DeepLearning/blob/main/imgs/ch0106-05_2.PNG?raw=true\n",
        " width=650>\n",
        "</p>\n",
        "\n",
        "[시각화 함수 스크립트](https://github.com/yebiny/SkillTreePython-DeepLearning/blob/main/01.%EB%94%A5%EB%9F%AC%EB%8B%9Dwith%ED%85%90%EC%84%9C%ED%94%8C%EB%A1%9C%EC%9A%B0-basic/scripts/featuremap_dict.py)"
      ],
      "metadata": {
        "id": "KS8K45aqWbYb"
      }
    },
    {
      "cell_type": "code",
      "source": [
        ""
      ],
      "metadata": {
        "id": "noAT1fCmaxIK"
      },
      "execution_count": null,
      "outputs": []
    },
    {
      "cell_type": "code",
      "source": [
        ""
      ],
      "metadata": {
        "id": "lR5o-iP0znfa"
      },
      "execution_count": null,
      "outputs": []
    }
  ]
}