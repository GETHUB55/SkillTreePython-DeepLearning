{
  "nbformat": 4,
  "nbformat_minor": 0,
  "metadata": {
    "colab": {
      "name": "ch01_07_CNN기초-Pooling_Layer.ipynb",
      "provenance": [],
      "collapsed_sections": [],
      "authorship_tag": "ABX9TyMh7pTLRMaE9tCNAmwemrLh",
      "include_colab_link": true
    },
    "kernelspec": {
      "name": "python3",
      "display_name": "Python 3"
    },
    "language_info": {
      "name": "python"
    }
  },
  "cells": [
    {
      "cell_type": "markdown",
      "metadata": {
        "id": "view-in-github",
        "colab_type": "text"
      },
      "source": [
        "<a href=\"https://colab.research.google.com/github/yebiny/SkillTreePython-DeepLearning/blob/main/01.%EB%94%A5%EB%9F%AC%EB%8B%9Dwith%ED%85%90%EC%84%9C%ED%94%8C%EB%A1%9C%EC%9A%B0-basic/ch01_07_CNN%EA%B8%B0%EC%B4%88_Pooling_Layer.ipynb\" target=\"_parent\"><img src=\"https://colab.research.google.com/assets/colab-badge.svg\" alt=\"Open In Colab\"/></a>"
      ]
    },
    {
      "cell_type": "markdown",
      "source": [
        "# ch01.07 CNN기초 - Pooling Layer\n",
        "---\n",
        "\n",
        "* 날짜:\n",
        "* 이름:\n",
        "\n",
        "## 학습내용\n",
        "    - CNN의 개념을 이해한다.\n",
        "    - 텐서플로우를 이용해 CNN을 구성한다.\n",
        "    - CNN 모델을 이용해 손글씨 이미지를 분류한다.\n",
        "    - CNN의 feature map에 대해 이해한다.\n",
        "\n",
        "## 데이터셋\n",
        "\n",
        "* MNIST\n",
        "\n",
        "```\n",
        "import numpy as np\n",
        "import tensorflow as tf\n",
        "import matplotlib.pyplot as plt\n",
        "```"
      ],
      "metadata": {
        "id": "sWs2kEC1_b-P"
      }
    },
    {
      "cell_type": "code",
      "source": [
        ""
      ],
      "metadata": {
        "id": "7vXrksNr0m1v"
      },
      "execution_count": null,
      "outputs": []
    },
    {
      "cell_type": "markdown",
      "source": [
        "## Pooling layer\n",
        "---\n",
        "\n",
        "풀링(Pooling) 연산은 커널과 스트라이드 개념이 존재한다는 점에서 합성곱 연산과 유사하지만, 학습해야 할 가중치가 없으며 연산 후에 채널 수가 변하지 않습니다. 일반적으로 합성곱 층(합성곱 연산 + 활성화 함수) 다음에는 풀링 층을 추가하는 것이 일반적입니다. \n"
      ],
      "metadata": {
        "id": "EL2T1tz6Y9yn"
      }
    },
    {
      "cell_type": "code",
      "source": [
        ""
      ],
      "metadata": {
        "id": "gIW4t6tvstjV"
      },
      "execution_count": null,
      "outputs": []
    },
    {
      "cell_type": "markdown",
      "source": [
        "### **| 맥스 풀링(Max Pooling)**\n",
        "맥스풀링은 이미지 영역의 최대값 만을 출력값으로 가지는 연산 방법입니다. \n",
        "\n",
        "\n",
        "\n",
        "<p align='center'>\n",
        "<img src=https://github.com/yebiny/SkillTreePython-DeepLearning/blob/main/imgs/ch0107-01.PNG?raw=true width=400>\n",
        "</p>\n",
        "\n"
      ],
      "metadata": {
        "id": "m3Y7QC2Lg_eo"
      }
    },
    {
      "cell_type": "code",
      "source": [
        ""
      ],
      "metadata": {
        "id": "X3MbCf7Bk_yj"
      },
      "execution_count": null,
      "outputs": []
    },
    {
      "cell_type": "markdown",
      "source": [
        "### **| 평균 풀링(Average Pooling)**\n",
        "\n",
        "\n",
        "평균풀링은 이미지 영역의 평균값 을 출력값으로 가지는 연산 방법입니다. \n",
        "\n",
        "\n",
        "<p align='center'>\n",
        "<img src=https://github.com/yebiny/SkillTreePython-DeepLearning/blob/main/imgs/ch0107-02.PNG?raw=true width=400>\n",
        "</p>\n",
        "\n",
        "\n",
        "\n"
      ],
      "metadata": {
        "id": "qu4lThvGhun1"
      }
    },
    {
      "cell_type": "code",
      "source": [
        ""
      ],
      "metadata": {
        "id": "o1XirsZ5mqAY"
      },
      "execution_count": null,
      "outputs": []
    },
    {
      "cell_type": "markdown",
      "source": [
        "## LeNet-5\n",
        "---\n",
        "\n",
        "LeNet-5[(논문)](http://yann.lecun.com/exdb/publis/pdf/lecun-01a.pdf) 구조는 아마도 가장 널리 알려진 CNN 구조일 것입니다. 이 구조는 1998년 얀 르쿤이 만들었으며 손글씨 숫자 인식(MNIST)에 널리 사용되었습니다. \n",
        "\n",
        "\n",
        "![](https://www.datasciencecentral.com/wp-content/uploads/2021/10/1lvvWF48t7cyRWqct13eU0w.jpeg)"
      ],
      "metadata": {
        "id": "smec5PcVY_iZ"
      }
    },
    {
      "cell_type": "markdown",
      "source": [
        "### | LeNet-5을 이용한 손글씨 이미지 분류"
      ],
      "metadata": {
        "id": "H5gXVz4_jTyl"
      }
    },
    {
      "cell_type": "markdown",
      "source": [
        "####  **데이터 준비**"
      ],
      "metadata": {
        "id": "9XFyQs_Nm6w0"
      }
    },
    {
      "cell_type": "code",
      "source": [
        ""
      ],
      "metadata": {
        "id": "eFbUg6pkhV0I"
      },
      "execution_count": null,
      "outputs": []
    },
    {
      "cell_type": "markdown",
      "source": [
        "#### **모델 구성**"
      ],
      "metadata": {
        "id": "OsX9GfKbiKRy"
      }
    },
    {
      "cell_type": "code",
      "source": [
        ""
      ],
      "metadata": {
        "id": "6M3wFU_lZFoV"
      },
      "execution_count": null,
      "outputs": []
    },
    {
      "cell_type": "markdown",
      "source": [
        "#### **학습 및 평가**"
      ],
      "metadata": {
        "id": "rz5mqFWCiLiv"
      }
    },
    {
      "cell_type": "code",
      "source": [
        ""
      ],
      "metadata": {
        "id": "pKqI02-5aZ1I"
      },
      "execution_count": null,
      "outputs": []
    },
    {
      "cell_type": "markdown",
      "source": [
        "### **| Feature map**"
      ],
      "metadata": {
        "id": "MDlSRAle6SKL"
      }
    },
    {
      "cell_type": "markdown",
      "source": [
        "#### **feature map 얻기**"
      ],
      "metadata": {
        "id": "Idw3nITWaaGb"
      }
    },
    {
      "cell_type": "code",
      "source": [
        ""
      ],
      "metadata": {
        "id": "sEFcCb5Btua2"
      },
      "execution_count": null,
      "outputs": []
    },
    {
      "cell_type": "markdown",
      "source": [
        "#### **시각화**\n",
        "\n",
        "![](https://www.datasciencecentral.com/wp-content/uploads/2021/10/1lvvWF48t7cyRWqct13eU0w.jpeg)\n",
        "\n",
        "[시각화 함수 스크립트](https://github.com/yebiny/SkillTreePython-DeepLearning/blob/main/01.%EB%94%A5%EB%9F%AC%EB%8B%9Dwith%ED%85%90%EC%84%9C%ED%94%8C%EB%A1%9C%EC%9A%B0-basic/scripts/featuremap_dict.py)"
      ],
      "metadata": {
        "id": "KS8K45aqWbYb"
      }
    },
    {
      "cell_type": "code",
      "source": [
        ""
      ],
      "metadata": {
        "id": "lR5o-iP0znfa"
      },
      "execution_count": null,
      "outputs": []
    }
  ]
}